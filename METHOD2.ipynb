{
 "cells": [
  {
   "cell_type": "code",
   "execution_count": 1,
   "metadata": {
    "collapsed": true
   },
   "outputs": [],
   "source": [
    "import pandas as pd #importing panda\n",
    "import numpy as np #importing numpy"
   ]
  },
  {
   "cell_type": "code",
   "execution_count": 2,
   "metadata": {
    "collapsed": true
   },
   "outputs": [],
   "source": [
    "from sklearn.linear_model import LogisticRegression\n",
    "from sklearn.linear_model import LinearRegression\n",
    "from sklearn.tree import DecisionTreeClassifier\n",
    "from sklearn.neighbors import KNeighborsClassifier\n",
    "from sklearn.ensemble import RandomForestClassifier\n",
    "from sklearn.cluster import KMeans\n",
    "from sklearn.model_selection import train_test_split\n",
    "from sklearn.metrics import accuracy_score\n",
    "from sklearn.model_selection import cross_val_score\n",
    "from sklearn import metrics\n",
    "import matplotlib.pyplot as plt\n",
    "from sklearn import metrics\n",
    "from sklearn import preprocessing\n",
    "from sklearn.preprocessing import MinMaxScaler\n",
    "from sklearn.decomposition import PCA"
   ]
  },
  {
   "cell_type": "code",
   "execution_count": 3,
   "metadata": {},
   "outputs": [
    {
     "data": {
      "text/html": [
       "<div>\n",
       "<style>\n",
       "    .dataframe thead tr:only-child th {\n",
       "        text-align: right;\n",
       "    }\n",
       "\n",
       "    .dataframe thead th {\n",
       "        text-align: left;\n",
       "    }\n",
       "\n",
       "    .dataframe tbody tr th {\n",
       "        vertical-align: top;\n",
       "    }\n",
       "</style>\n",
       "<table border=\"1\" class=\"dataframe\">\n",
       "  <thead>\n",
       "    <tr style=\"text-align: right;\">\n",
       "      <th></th>\n",
       "      <th>id</th>\n",
       "      <th>timestamp</th>\n",
       "      <th>full_sq</th>\n",
       "      <th>life_sq</th>\n",
       "      <th>floor</th>\n",
       "      <th>max_floor</th>\n",
       "      <th>material</th>\n",
       "      <th>build_year</th>\n",
       "      <th>num_room</th>\n",
       "      <th>kitch_sq</th>\n",
       "      <th>...</th>\n",
       "      <th>cafe_count_5000_price_2500</th>\n",
       "      <th>cafe_count_5000_price_4000</th>\n",
       "      <th>cafe_count_5000_price_high</th>\n",
       "      <th>big_church_count_5000</th>\n",
       "      <th>church_count_5000</th>\n",
       "      <th>mosque_count_5000</th>\n",
       "      <th>leisure_count_5000</th>\n",
       "      <th>sport_count_5000</th>\n",
       "      <th>market_count_5000</th>\n",
       "      <th>price_doc</th>\n",
       "    </tr>\n",
       "  </thead>\n",
       "  <tbody>\n",
       "    <tr>\n",
       "      <th>0</th>\n",
       "      <td>1</td>\n",
       "      <td>2011-08-20</td>\n",
       "      <td>43</td>\n",
       "      <td>27.0</td>\n",
       "      <td>4.0</td>\n",
       "      <td>NaN</td>\n",
       "      <td>NaN</td>\n",
       "      <td>NaN</td>\n",
       "      <td>NaN</td>\n",
       "      <td>NaN</td>\n",
       "      <td>...</td>\n",
       "      <td>9</td>\n",
       "      <td>4</td>\n",
       "      <td>0</td>\n",
       "      <td>13</td>\n",
       "      <td>22</td>\n",
       "      <td>1</td>\n",
       "      <td>0</td>\n",
       "      <td>52</td>\n",
       "      <td>4</td>\n",
       "      <td>5850000</td>\n",
       "    </tr>\n",
       "    <tr>\n",
       "      <th>1</th>\n",
       "      <td>2</td>\n",
       "      <td>2011-08-23</td>\n",
       "      <td>34</td>\n",
       "      <td>19.0</td>\n",
       "      <td>3.0</td>\n",
       "      <td>NaN</td>\n",
       "      <td>NaN</td>\n",
       "      <td>NaN</td>\n",
       "      <td>NaN</td>\n",
       "      <td>NaN</td>\n",
       "      <td>...</td>\n",
       "      <td>15</td>\n",
       "      <td>3</td>\n",
       "      <td>0</td>\n",
       "      <td>15</td>\n",
       "      <td>29</td>\n",
       "      <td>1</td>\n",
       "      <td>10</td>\n",
       "      <td>66</td>\n",
       "      <td>14</td>\n",
       "      <td>6000000</td>\n",
       "    </tr>\n",
       "    <tr>\n",
       "      <th>2</th>\n",
       "      <td>3</td>\n",
       "      <td>2011-08-27</td>\n",
       "      <td>43</td>\n",
       "      <td>29.0</td>\n",
       "      <td>2.0</td>\n",
       "      <td>NaN</td>\n",
       "      <td>NaN</td>\n",
       "      <td>NaN</td>\n",
       "      <td>NaN</td>\n",
       "      <td>NaN</td>\n",
       "      <td>...</td>\n",
       "      <td>10</td>\n",
       "      <td>3</td>\n",
       "      <td>0</td>\n",
       "      <td>11</td>\n",
       "      <td>27</td>\n",
       "      <td>0</td>\n",
       "      <td>4</td>\n",
       "      <td>67</td>\n",
       "      <td>10</td>\n",
       "      <td>5700000</td>\n",
       "    </tr>\n",
       "    <tr>\n",
       "      <th>3</th>\n",
       "      <td>4</td>\n",
       "      <td>2011-09-01</td>\n",
       "      <td>89</td>\n",
       "      <td>50.0</td>\n",
       "      <td>9.0</td>\n",
       "      <td>NaN</td>\n",
       "      <td>NaN</td>\n",
       "      <td>NaN</td>\n",
       "      <td>NaN</td>\n",
       "      <td>NaN</td>\n",
       "      <td>...</td>\n",
       "      <td>11</td>\n",
       "      <td>2</td>\n",
       "      <td>1</td>\n",
       "      <td>4</td>\n",
       "      <td>4</td>\n",
       "      <td>0</td>\n",
       "      <td>0</td>\n",
       "      <td>26</td>\n",
       "      <td>3</td>\n",
       "      <td>13100000</td>\n",
       "    </tr>\n",
       "    <tr>\n",
       "      <th>4</th>\n",
       "      <td>5</td>\n",
       "      <td>2011-09-05</td>\n",
       "      <td>77</td>\n",
       "      <td>77.0</td>\n",
       "      <td>4.0</td>\n",
       "      <td>NaN</td>\n",
       "      <td>NaN</td>\n",
       "      <td>NaN</td>\n",
       "      <td>NaN</td>\n",
       "      <td>NaN</td>\n",
       "      <td>...</td>\n",
       "      <td>319</td>\n",
       "      <td>108</td>\n",
       "      <td>17</td>\n",
       "      <td>135</td>\n",
       "      <td>236</td>\n",
       "      <td>2</td>\n",
       "      <td>91</td>\n",
       "      <td>195</td>\n",
       "      <td>14</td>\n",
       "      <td>16331452</td>\n",
       "    </tr>\n",
       "  </tbody>\n",
       "</table>\n",
       "<p>5 rows × 292 columns</p>\n",
       "</div>"
      ],
      "text/plain": [
       "   id   timestamp  full_sq  life_sq  floor  max_floor  material  build_year  \\\n",
       "0   1  2011-08-20       43     27.0    4.0        NaN       NaN         NaN   \n",
       "1   2  2011-08-23       34     19.0    3.0        NaN       NaN         NaN   \n",
       "2   3  2011-08-27       43     29.0    2.0        NaN       NaN         NaN   \n",
       "3   4  2011-09-01       89     50.0    9.0        NaN       NaN         NaN   \n",
       "4   5  2011-09-05       77     77.0    4.0        NaN       NaN         NaN   \n",
       "\n",
       "   num_room  kitch_sq    ...      cafe_count_5000_price_2500  \\\n",
       "0       NaN       NaN    ...                               9   \n",
       "1       NaN       NaN    ...                              15   \n",
       "2       NaN       NaN    ...                              10   \n",
       "3       NaN       NaN    ...                              11   \n",
       "4       NaN       NaN    ...                             319   \n",
       "\n",
       "  cafe_count_5000_price_4000 cafe_count_5000_price_high  \\\n",
       "0                          4                          0   \n",
       "1                          3                          0   \n",
       "2                          3                          0   \n",
       "3                          2                          1   \n",
       "4                        108                         17   \n",
       "\n",
       "   big_church_count_5000  church_count_5000  mosque_count_5000  \\\n",
       "0                     13                 22                  1   \n",
       "1                     15                 29                  1   \n",
       "2                     11                 27                  0   \n",
       "3                      4                  4                  0   \n",
       "4                    135                236                  2   \n",
       "\n",
       "   leisure_count_5000  sport_count_5000  market_count_5000  price_doc  \n",
       "0                   0                52                  4    5850000  \n",
       "1                  10                66                 14    6000000  \n",
       "2                   4                67                 10    5700000  \n",
       "3                   0                26                  3   13100000  \n",
       "4                  91               195                 14   16331452  \n",
       "\n",
       "[5 rows x 292 columns]"
      ]
     },
     "execution_count": 3,
     "metadata": {},
     "output_type": "execute_result"
    }
   ],
   "source": [
    "train_df = pd.read_csv('train.csv') #read the train dataset\n",
    "test_df = pd.read_csv('test.csv') #read the test dataset\n",
    "train_df.head()"
   ]
  },
  {
   "cell_type": "code",
   "execution_count": 4,
   "metadata": {},
   "outputs": [
    {
     "data": {
      "text/html": [
       "<div>\n",
       "<style>\n",
       "    .dataframe thead tr:only-child th {\n",
       "        text-align: right;\n",
       "    }\n",
       "\n",
       "    .dataframe thead th {\n",
       "        text-align: left;\n",
       "    }\n",
       "\n",
       "    .dataframe tbody tr th {\n",
       "        vertical-align: top;\n",
       "    }\n",
       "</style>\n",
       "<table border=\"1\" class=\"dataframe\">\n",
       "  <thead>\n",
       "    <tr style=\"text-align: right;\">\n",
       "      <th></th>\n",
       "      <th>id</th>\n",
       "      <th>full_sq</th>\n",
       "      <th>life_sq</th>\n",
       "      <th>floor</th>\n",
       "      <th>product_type</th>\n",
       "      <th>sub_area</th>\n",
       "      <th>area_m</th>\n",
       "      <th>raion_popul</th>\n",
       "      <th>green_zone_part</th>\n",
       "      <th>indust_part</th>\n",
       "      <th>...</th>\n",
       "      <th>cafe_count_5000_price_2500</th>\n",
       "      <th>cafe_count_5000_price_4000</th>\n",
       "      <th>cafe_count_5000_price_high</th>\n",
       "      <th>big_church_count_5000</th>\n",
       "      <th>church_count_5000</th>\n",
       "      <th>mosque_count_5000</th>\n",
       "      <th>leisure_count_5000</th>\n",
       "      <th>sport_count_5000</th>\n",
       "      <th>market_count_5000</th>\n",
       "      <th>price_doc</th>\n",
       "    </tr>\n",
       "  </thead>\n",
       "  <tbody>\n",
       "    <tr>\n",
       "      <th>1</th>\n",
       "      <td>2</td>\n",
       "      <td>34</td>\n",
       "      <td>19.0</td>\n",
       "      <td>3.0</td>\n",
       "      <td>Investment</td>\n",
       "      <td>Nagatinskij Zaton</td>\n",
       "      <td>9.589337e+06</td>\n",
       "      <td>115352</td>\n",
       "      <td>0.372602</td>\n",
       "      <td>0.049637</td>\n",
       "      <td>...</td>\n",
       "      <td>15</td>\n",
       "      <td>3</td>\n",
       "      <td>0</td>\n",
       "      <td>15</td>\n",
       "      <td>29</td>\n",
       "      <td>1</td>\n",
       "      <td>10</td>\n",
       "      <td>66</td>\n",
       "      <td>14</td>\n",
       "      <td>6000000</td>\n",
       "    </tr>\n",
       "    <tr>\n",
       "      <th>2</th>\n",
       "      <td>3</td>\n",
       "      <td>43</td>\n",
       "      <td>29.0</td>\n",
       "      <td>2.0</td>\n",
       "      <td>Investment</td>\n",
       "      <td>Tekstil'shhiki</td>\n",
       "      <td>4.808270e+06</td>\n",
       "      <td>101708</td>\n",
       "      <td>0.112560</td>\n",
       "      <td>0.118537</td>\n",
       "      <td>...</td>\n",
       "      <td>10</td>\n",
       "      <td>3</td>\n",
       "      <td>0</td>\n",
       "      <td>11</td>\n",
       "      <td>27</td>\n",
       "      <td>0</td>\n",
       "      <td>4</td>\n",
       "      <td>67</td>\n",
       "      <td>10</td>\n",
       "      <td>5700000</td>\n",
       "    </tr>\n",
       "    <tr>\n",
       "      <th>4</th>\n",
       "      <td>5</td>\n",
       "      <td>77</td>\n",
       "      <td>77.0</td>\n",
       "      <td>4.0</td>\n",
       "      <td>Investment</td>\n",
       "      <td>Basmannoe</td>\n",
       "      <td>8.398461e+06</td>\n",
       "      <td>108171</td>\n",
       "      <td>0.015234</td>\n",
       "      <td>0.037316</td>\n",
       "      <td>...</td>\n",
       "      <td>319</td>\n",
       "      <td>108</td>\n",
       "      <td>17</td>\n",
       "      <td>135</td>\n",
       "      <td>236</td>\n",
       "      <td>2</td>\n",
       "      <td>91</td>\n",
       "      <td>195</td>\n",
       "      <td>14</td>\n",
       "      <td>16331452</td>\n",
       "    </tr>\n",
       "    <tr>\n",
       "      <th>6</th>\n",
       "      <td>7</td>\n",
       "      <td>25</td>\n",
       "      <td>14.0</td>\n",
       "      <td>10.0</td>\n",
       "      <td>Investment</td>\n",
       "      <td>Sokol'niki</td>\n",
       "      <td>1.032047e+07</td>\n",
       "      <td>57405</td>\n",
       "      <td>0.523439</td>\n",
       "      <td>0.042307</td>\n",
       "      <td>...</td>\n",
       "      <td>81</td>\n",
       "      <td>16</td>\n",
       "      <td>3</td>\n",
       "      <td>38</td>\n",
       "      <td>80</td>\n",
       "      <td>1</td>\n",
       "      <td>27</td>\n",
       "      <td>127</td>\n",
       "      <td>8</td>\n",
       "      <td>5500000</td>\n",
       "    </tr>\n",
       "    <tr>\n",
       "      <th>7</th>\n",
       "      <td>8</td>\n",
       "      <td>44</td>\n",
       "      <td>44.0</td>\n",
       "      <td>5.0</td>\n",
       "      <td>Investment</td>\n",
       "      <td>Bibirevo</td>\n",
       "      <td>6.407578e+06</td>\n",
       "      <td>155572</td>\n",
       "      <td>0.189727</td>\n",
       "      <td>0.000070</td>\n",
       "      <td>...</td>\n",
       "      <td>9</td>\n",
       "      <td>4</td>\n",
       "      <td>0</td>\n",
       "      <td>11</td>\n",
       "      <td>18</td>\n",
       "      <td>1</td>\n",
       "      <td>0</td>\n",
       "      <td>47</td>\n",
       "      <td>4</td>\n",
       "      <td>2000000</td>\n",
       "    </tr>\n",
       "  </tbody>\n",
       "</table>\n",
       "<p>5 rows × 285 columns</p>\n",
       "</div>"
      ],
      "text/plain": [
       "   id  full_sq  life_sq  floor product_type           sub_area        area_m  \\\n",
       "1   2       34     19.0    3.0   Investment  Nagatinskij Zaton  9.589337e+06   \n",
       "2   3       43     29.0    2.0   Investment     Tekstil'shhiki  4.808270e+06   \n",
       "4   5       77     77.0    4.0   Investment          Basmannoe  8.398461e+06   \n",
       "6   7       25     14.0   10.0   Investment         Sokol'niki  1.032047e+07   \n",
       "7   8       44     44.0    5.0   Investment           Bibirevo  6.407578e+06   \n",
       "\n",
       "   raion_popul  green_zone_part  indust_part    ...      \\\n",
       "1       115352         0.372602     0.049637    ...       \n",
       "2       101708         0.112560     0.118537    ...       \n",
       "4       108171         0.015234     0.037316    ...       \n",
       "6        57405         0.523439     0.042307    ...       \n",
       "7       155572         0.189727     0.000070    ...       \n",
       "\n",
       "   cafe_count_5000_price_2500  cafe_count_5000_price_4000  \\\n",
       "1                          15                           3   \n",
       "2                          10                           3   \n",
       "4                         319                         108   \n",
       "6                          81                          16   \n",
       "7                           9                           4   \n",
       "\n",
       "   cafe_count_5000_price_high  big_church_count_5000  church_count_5000  \\\n",
       "1                           0                     15                 29   \n",
       "2                           0                     11                 27   \n",
       "4                          17                    135                236   \n",
       "6                           3                     38                 80   \n",
       "7                           0                     11                 18   \n",
       "\n",
       "   mosque_count_5000  leisure_count_5000  sport_count_5000  market_count_5000  \\\n",
       "1                  1                  10                66                 14   \n",
       "2                  0                   4                67                 10   \n",
       "4                  2                  91               195                 14   \n",
       "6                  1                  27               127                  8   \n",
       "7                  1                   0                47                  4   \n",
       "\n",
       "   price_doc  \n",
       "1    6000000  \n",
       "2    5700000  \n",
       "4   16331452  \n",
       "6    5500000  \n",
       "7    2000000  \n",
       "\n",
       "[5 rows x 285 columns]"
      ]
     },
     "execution_count": 4,
     "metadata": {},
     "output_type": "execute_result"
    }
   ],
   "source": [
    "drop_cols = ['max_floor','material','build_year',\n",
    "             'num_room','kitch_sq','state','timestamp']\n",
    "train_df = train_df.drop(drop_cols, axis=1)\n",
    "train_df = train_df.dropna(how = 'any')\n",
    "train_df.head()"
   ]
  },
  {
   "cell_type": "code",
   "execution_count": 5,
   "metadata": {},
   "outputs": [
    {
     "data": {
      "text/html": [
       "<div>\n",
       "<style>\n",
       "    .dataframe thead tr:only-child th {\n",
       "        text-align: right;\n",
       "    }\n",
       "\n",
       "    .dataframe thead th {\n",
       "        text-align: left;\n",
       "    }\n",
       "\n",
       "    .dataframe tbody tr th {\n",
       "        vertical-align: top;\n",
       "    }\n",
       "</style>\n",
       "<table border=\"1\" class=\"dataframe\">\n",
       "  <thead>\n",
       "    <tr style=\"text-align: right;\">\n",
       "      <th></th>\n",
       "      <th>id</th>\n",
       "      <th>full_sq</th>\n",
       "      <th>life_sq</th>\n",
       "      <th>floor</th>\n",
       "      <th>product_type</th>\n",
       "      <th>sub_area</th>\n",
       "      <th>area_m</th>\n",
       "      <th>raion_popul</th>\n",
       "      <th>green_zone_part</th>\n",
       "      <th>indust_part</th>\n",
       "      <th>...</th>\n",
       "      <th>cafe_count_5000_price_1500</th>\n",
       "      <th>cafe_count_5000_price_2500</th>\n",
       "      <th>cafe_count_5000_price_4000</th>\n",
       "      <th>cafe_count_5000_price_high</th>\n",
       "      <th>big_church_count_5000</th>\n",
       "      <th>church_count_5000</th>\n",
       "      <th>mosque_count_5000</th>\n",
       "      <th>leisure_count_5000</th>\n",
       "      <th>sport_count_5000</th>\n",
       "      <th>market_count_5000</th>\n",
       "    </tr>\n",
       "  </thead>\n",
       "  <tbody>\n",
       "    <tr>\n",
       "      <th>2</th>\n",
       "      <td>30476</td>\n",
       "      <td>40.5</td>\n",
       "      <td>25.1</td>\n",
       "      <td>3</td>\n",
       "      <td>Investment</td>\n",
       "      <td>Perovo</td>\n",
       "      <td>9.946335e+06</td>\n",
       "      <td>139322</td>\n",
       "      <td>0.065409</td>\n",
       "      <td>0.225825</td>\n",
       "      <td>...</td>\n",
       "      <td>42</td>\n",
       "      <td>11</td>\n",
       "      <td>4</td>\n",
       "      <td>0</td>\n",
       "      <td>10</td>\n",
       "      <td>21</td>\n",
       "      <td>0</td>\n",
       "      <td>10</td>\n",
       "      <td>71</td>\n",
       "      <td>11</td>\n",
       "    </tr>\n",
       "    <tr>\n",
       "      <th>17</th>\n",
       "      <td>30491</td>\n",
       "      <td>94.5</td>\n",
       "      <td>61.9</td>\n",
       "      <td>2</td>\n",
       "      <td>Investment</td>\n",
       "      <td>Akademicheskoe</td>\n",
       "      <td>5.704502e+06</td>\n",
       "      <td>106445</td>\n",
       "      <td>0.043127</td>\n",
       "      <td>0.151346</td>\n",
       "      <td>...</td>\n",
       "      <td>152</td>\n",
       "      <td>76</td>\n",
       "      <td>17</td>\n",
       "      <td>4</td>\n",
       "      <td>30</td>\n",
       "      <td>51</td>\n",
       "      <td>1</td>\n",
       "      <td>21</td>\n",
       "      <td>102</td>\n",
       "      <td>9</td>\n",
       "    </tr>\n",
       "    <tr>\n",
       "      <th>19</th>\n",
       "      <td>30493</td>\n",
       "      <td>77.7</td>\n",
       "      <td>52.6</td>\n",
       "      <td>2</td>\n",
       "      <td>Investment</td>\n",
       "      <td>Akademicheskoe</td>\n",
       "      <td>5.704502e+06</td>\n",
       "      <td>106445</td>\n",
       "      <td>0.043127</td>\n",
       "      <td>0.151346</td>\n",
       "      <td>...</td>\n",
       "      <td>118</td>\n",
       "      <td>50</td>\n",
       "      <td>9</td>\n",
       "      <td>2</td>\n",
       "      <td>15</td>\n",
       "      <td>36</td>\n",
       "      <td>1</td>\n",
       "      <td>10</td>\n",
       "      <td>102</td>\n",
       "      <td>10</td>\n",
       "    </tr>\n",
       "    <tr>\n",
       "      <th>21</th>\n",
       "      <td>30495</td>\n",
       "      <td>67.2</td>\n",
       "      <td>45.1</td>\n",
       "      <td>14</td>\n",
       "      <td>Investment</td>\n",
       "      <td>Zjuzino</td>\n",
       "      <td>5.391434e+06</td>\n",
       "      <td>123000</td>\n",
       "      <td>0.079151</td>\n",
       "      <td>0.000000</td>\n",
       "      <td>...</td>\n",
       "      <td>72</td>\n",
       "      <td>26</td>\n",
       "      <td>4</td>\n",
       "      <td>0</td>\n",
       "      <td>9</td>\n",
       "      <td>31</td>\n",
       "      <td>1</td>\n",
       "      <td>10</td>\n",
       "      <td>70</td>\n",
       "      <td>9</td>\n",
       "    </tr>\n",
       "    <tr>\n",
       "      <th>24</th>\n",
       "      <td>30498</td>\n",
       "      <td>32.5</td>\n",
       "      <td>18.7</td>\n",
       "      <td>4</td>\n",
       "      <td>Investment</td>\n",
       "      <td>Veshnjaki</td>\n",
       "      <td>1.051837e+07</td>\n",
       "      <td>118945</td>\n",
       "      <td>0.334905</td>\n",
       "      <td>0.012339</td>\n",
       "      <td>...</td>\n",
       "      <td>24</td>\n",
       "      <td>6</td>\n",
       "      <td>3</td>\n",
       "      <td>0</td>\n",
       "      <td>9</td>\n",
       "      <td>17</td>\n",
       "      <td>0</td>\n",
       "      <td>10</td>\n",
       "      <td>55</td>\n",
       "      <td>11</td>\n",
       "    </tr>\n",
       "  </tbody>\n",
       "</table>\n",
       "<p>5 rows × 284 columns</p>\n",
       "</div>"
      ],
      "text/plain": [
       "       id  full_sq  life_sq  floor product_type        sub_area        area_m  \\\n",
       "2   30476     40.5     25.1      3   Investment          Perovo  9.946335e+06   \n",
       "17  30491     94.5     61.9      2   Investment  Akademicheskoe  5.704502e+06   \n",
       "19  30493     77.7     52.6      2   Investment  Akademicheskoe  5.704502e+06   \n",
       "21  30495     67.2     45.1     14   Investment         Zjuzino  5.391434e+06   \n",
       "24  30498     32.5     18.7      4   Investment       Veshnjaki  1.051837e+07   \n",
       "\n",
       "    raion_popul  green_zone_part  indust_part        ...          \\\n",
       "2        139322         0.065409     0.225825        ...           \n",
       "17       106445         0.043127     0.151346        ...           \n",
       "19       106445         0.043127     0.151346        ...           \n",
       "21       123000         0.079151     0.000000        ...           \n",
       "24       118945         0.334905     0.012339        ...           \n",
       "\n",
       "    cafe_count_5000_price_1500  cafe_count_5000_price_2500  \\\n",
       "2                           42                          11   \n",
       "17                         152                          76   \n",
       "19                         118                          50   \n",
       "21                          72                          26   \n",
       "24                          24                           6   \n",
       "\n",
       "    cafe_count_5000_price_4000  cafe_count_5000_price_high  \\\n",
       "2                            4                           0   \n",
       "17                          17                           4   \n",
       "19                           9                           2   \n",
       "21                           4                           0   \n",
       "24                           3                           0   \n",
       "\n",
       "    big_church_count_5000  church_count_5000  mosque_count_5000  \\\n",
       "2                      10                 21                  0   \n",
       "17                     30                 51                  1   \n",
       "19                     15                 36                  1   \n",
       "21                      9                 31                  1   \n",
       "24                      9                 17                  0   \n",
       "\n",
       "    leisure_count_5000  sport_count_5000  market_count_5000  \n",
       "2                   10                71                 11  \n",
       "17                  21               102                  9  \n",
       "19                  10               102                 10  \n",
       "21                  10                70                  9  \n",
       "24                  10                55                 11  \n",
       "\n",
       "[5 rows x 284 columns]"
      ]
     },
     "execution_count": 5,
     "metadata": {},
     "output_type": "execute_result"
    }
   ],
   "source": [
    "test_df = test_df.drop(drop_cols, axis=1)\n",
    "test_df = test_df.dropna(how = 'any')\n",
    "test_df.head()"
   ]
  },
  {
   "cell_type": "code",
   "execution_count": 6,
   "metadata": {},
   "outputs": [
    {
     "name": "stdout",
     "output_type": "stream",
     "text": [
      "(9601,) (2546,)\n",
      "(9601, 284) (2546, 284)\n",
      "(9601, 379) (2546, 379)\n"
     ]
    }
   ],
   "source": [
    "non_num = ['product_type','sub_area', 'culture_objects_top_25',\n",
    "           'thermal_power_plant_raion', 'incineration_raion','oil_chemistry_raion',\n",
    "           'radiation_raion','railroad_terminal_raion','big_market_raion',\n",
    "           'nuclear_reactor_raion', 'detention_facility_raion','water_1line',\n",
    "           'big_road1_1line','railroad_1line', 'ecology']\n",
    "feature_cols_train = list(train_df)\n",
    "feature_cols_test = list(test_df)\n",
    "x_train = train_df[feature_cols_train[:-1]]\n",
    "x_train2 = pd.get_dummies(x_train, columns = non_num)\n",
    "y_train = train_df['price_doc']\n",
    "x_test = test_df[feature_cols_test]\n",
    "x_test2 = pd.get_dummies(x_test, columns = non_num)\n",
    "y_test = train_df.sample(n = len(x_test2.index))['price_doc']\n",
    "print(y_train.shape, y_test.shape)\n",
    "print(x_train.shape, x_test.shape)\n",
    "print(x_train2.shape, x_test2.shape)"
   ]
  },
  {
   "cell_type": "code",
   "execution_count": 7,
   "metadata": {},
   "outputs": [
    {
     "name": "stdout",
     "output_type": "stream",
     "text": [
      "(9601, 10) (2546, 10)\n"
     ]
    }
   ],
   "source": [
    "pca = PCA(n_components = 10)\n",
    "x_train3 = pca.fit_transform(x_train2)\n",
    "x_test3 = pca.transform(x_test2)\n",
    "x_train3= pd.DataFrame(x_train3)\n",
    "x_test3 = pd.DataFrame(x_test3)\n",
    "print(x_train3.shape, x_test3.shape)"
   ]
  },
  {
   "cell_type": "code",
   "execution_count": 8,
   "metadata": {},
   "outputs": [
    {
     "data": {
      "text/plain": [
       "array([[ 0.16775732,  0.22334512,  0.34734971, ...,  0.40628204,\n",
       "         0.40682644,  0.3859488 ],\n",
       "       [ 0.07847093,  0.08603523,  0.27558505, ...,  0.35904294,\n",
       "         0.48056474,  0.43544842],\n",
       "       [ 0.12999393,  0.67751586,  0.41531664, ...,  0.92151865,\n",
       "         0.30654704,  0.43353796],\n",
       "       ..., \n",
       "       [ 0.10490901,  0.79356087,  0.36495869, ...,  0.42513183,\n",
       "         0.12984665,  0.18612654],\n",
       "       [ 0.10258723,  0.09224241,  0.28345622, ...,  0.50385271,\n",
       "         0.4457547 ,  0.3872564 ],\n",
       "       [ 0.07300466,  0.00717233,  0.14689926, ...,  0.62316242,\n",
       "         0.40041452,  0.44375853]])"
      ]
     },
     "execution_count": 8,
     "metadata": {},
     "output_type": "execute_result"
    }
   ],
   "source": [
    "min_max_scaler = preprocessing.MinMaxScaler()\n",
    "x_scaled= min_max_scaler.fit_transform(x_train3)\n",
    "x_scaled"
   ]
  },
  {
   "cell_type": "code",
   "execution_count": 9,
   "metadata": {},
   "outputs": [
    {
     "data": {
      "text/plain": [
       "LogisticRegression(C=1.0, class_weight=None, dual=False, fit_intercept=True,\n",
       "          intercept_scaling=1, max_iter=100, multi_class='ovr', n_jobs=1,\n",
       "          penalty='l2', random_state=None, solver='liblinear', tol=0.0001,\n",
       "          verbose=0, warm_start=False)"
      ]
     },
     "execution_count": 9,
     "metadata": {},
     "output_type": "execute_result"
    }
   ],
   "source": [
    "Alogreg_normalized = LogisticRegression()\n",
    "Alogreg_normalized.fit(x_scaled, y_train) #use this for NF"
   ]
  },
  {
   "cell_type": "code",
   "execution_count": 10,
   "metadata": {},
   "outputs": [
    {
     "name": "stdout",
     "output_type": "stream",
     "text": [
      "0.00471327572663\n"
     ]
    }
   ],
   "source": [
    "y_predict_lr = Alogreg_normalized.predict(x_test3) #testing the testing set\n",
    "score_lr = accuracy_score(y_test, y_predict_lr) #check the elements and return score -accuracy-\n",
    "print(score_lr)"
   ]
  },
  {
   "cell_type": "code",
   "execution_count": 11,
   "metadata": {},
   "outputs": [
    {
     "data": {
      "text/plain": [
       "LogisticRegression(C=1.0, class_weight=None, dual=False, fit_intercept=True,\n",
       "          intercept_scaling=1, max_iter=100, multi_class='ovr', n_jobs=1,\n",
       "          penalty='l2', random_state=None, solver='liblinear', tol=0.0001,\n",
       "          verbose=0, warm_start=False)"
      ]
     },
     "execution_count": 11,
     "metadata": {},
     "output_type": "execute_result"
    }
   ],
   "source": [
    "Alogreg_notNormalized = LogisticRegression()\n",
    "Alogreg_notNormalized.fit(x_train3, y_train) #use this for NO NF"
   ]
  },
  {
   "cell_type": "code",
   "execution_count": 12,
   "metadata": {},
   "outputs": [
    {
     "name": "stdout",
     "output_type": "stream",
     "text": [
      "0.0432050274941\n"
     ]
    }
   ],
   "source": [
    "y_predict_lr = Alogreg_notNormalized.predict(x_test3) #testing the testing set\n",
    "score_lr = accuracy_score(y_test, y_predict_lr) #check the elements and return score -accuracy-\n",
    "print(score_lr)"
   ]
  },
  {
   "cell_type": "code",
   "execution_count": 14,
   "metadata": {},
   "outputs": [
    {
     "name": "stderr",
     "output_type": "stream",
     "text": [
      "C:\\Anaconda3\\lib\\site-packages\\sklearn\\model_selection\\_split.py:605: Warning: The least populated class in y has only 1 members, which is too few. The minimum number of members in any class cannot be less than n_splits=10.\n",
      "  % (min_groups, self.n_splits)), Warning)\n",
      "C:\\Anaconda3\\lib\\site-packages\\sklearn\\model_selection\\_split.py:605: Warning: The least populated class in y has only 1 members, which is too few. The minimum number of members in any class cannot be less than n_splits=10.\n",
      "  % (min_groups, self.n_splits)), Warning)\n"
     ]
    },
    {
     "name": "stdout",
     "output_type": "stream",
     "text": [
      "[ 0.01590909  0.03246753  0.04802561  0.0423341   0.0430622   0.0468948\n",
      "  0.05401845  0.04755435  0.05070423  0.06304985]\n",
      "[ 0.01727273  0.03432282  0.05229456  0.04576659  0.04545455  0.04816223\n",
      "  0.05401845  0.04891304  0.05211268  0.05131965]\n"
     ]
    }
   ],
   "source": [
    "accuracy_list_normalized = cross_val_score(Alogreg_normalized, x_scaled, y_train, cv=10, scoring='accuracy', n_jobs = -1) #use this for NF\n",
    "accuracy_list_notNormmalized = cross_val_score(Alogreg_notNormalized, x_train3, y_train, cv=10, scoring='accuracy', n_jobs = -1) #use this for NO NF\n",
    "\n",
    "print(accuracy_list_normalized)\n",
    "print(accuracy_list_notNormmalized)"
   ]
  },
  {
   "cell_type": "code",
   "execution_count": 20,
   "metadata": {},
   "outputs": [
    {
     "name": "stdout",
     "output_type": "stream",
     "text": [
      "0.0444020209526\n",
      "0.0449637283873\n"
     ]
    }
   ],
   "source": [
    "print(accuracy_list_normalized.mean())\n",
    "print(accuracy_list_notNormmalized.mean())"
   ]
  },
  {
   "cell_type": "code",
   "execution_count": 15,
   "metadata": {
    "collapsed": true
   },
   "outputs": [],
   "source": [
    "my_linreg = LinearRegression()\n",
    "my_linreg.fit(x_scaled, y_train) #use this for NF\n",
    "y_prediction = my_linreg.predict(x_test3)"
   ]
  },
  {
   "cell_type": "code",
   "execution_count": 16,
   "metadata": {},
   "outputs": [
    {
     "name": "stdout",
     "output_type": "stream",
     "text": [
      "[ -1.81498170e+13   1.19190732e+13   5.61402966e+12 ...,   4.04120831e+13\n",
      "  -5.58849881e+12   5.14122170e+13]\n"
     ]
    }
   ],
   "source": [
    "my_linreg_2 = LinearRegression()\n",
    "my_linreg_2.fit(x_train3, y_train) #use this for NO NF\n",
    "print(y_prediction)"
   ]
  },
  {
   "cell_type": "code",
   "execution_count": 17,
   "metadata": {
    "scrolled": true
   },
   "outputs": [
    {
     "name": "stdout",
     "output_type": "stream",
     "text": [
      "5846308.66557\n",
      "5846308.66557\n"
     ]
    }
   ],
   "source": [
    "mse_list_scaled = cross_val_score(my_linreg, x_scaled, y_train, cv=10, scoring='neg_mean_squared_error', n_jobs = -1) #use this for NF\n",
    "mse_list = cross_val_score(my_linreg_2, x_train3, y_train, cv=10, scoring='neg_mean_squared_error', n_jobs = -1) #use this for NO NF\n",
    "\n",
    "mse_list_positive = -mse_list\n",
    "mse_list_positive_scaled = -mse_list_scaled\n",
    "rmse_list = np.sqrt(mse_list_positive)\n",
    "rmse_list_scaled = np.sqrt(mse_list_positive_scaled)\n",
    "\n",
    "print(rmse_list.mean())\n",
    "print(rmse_list_scaled.mean())"
   ]
  },
  {
   "cell_type": "code",
   "execution_count": 18,
   "metadata": {},
   "outputs": [
    {
     "name": "stdout",
     "output_type": "stream",
     "text": [
      "2.53460581255e+13\n"
     ]
    }
   ],
   "source": [
    "mse = metrics.mean_squared_error(y_test, y_prediction)\n",
    "rmse = np.sqrt(mse)\n",
    "print(rmse)"
   ]
  },
  {
   "cell_type": "code",
   "execution_count": 21,
   "metadata": {},
   "outputs": [
    {
     "name": "stdout",
     "output_type": "stream",
     "text": [
      "0.0444020209526\n",
      "0.0449637283873\n"
     ]
    }
   ],
   "source": [
    "accuracy_cv = accuracy_list_normalized.mean()\n",
    "accuracy_cv_notNormalized = accuracy_list_notNormmalized.mean()\n",
    "\n",
    "print(accuracy_cv)\n",
    "print(accuracy_cv_notNormalized)"
   ]
  },
  {
   "cell_type": "code",
   "execution_count": 29,
   "metadata": {},
   "outputs": [
    {
     "name": "stdout",
     "output_type": "stream",
     "text": [
      "[ 2000000 14000000  2000000 ..., 45640000  2000000 45640000]\n",
      "0.0223880597015\n"
     ]
    }
   ],
   "source": [
    "my_decisiontree_scaled = DecisionTreeClassifier()\n",
    "my_decisiontree_scaled.fit(x_scaled, y_train) #use this for NF\n",
    "\n",
    "y_predict_dt_scaled = my_decisiontree_scaled.predict(x_test3)\n",
    "print(y_predict_dt_scaled)\n",
    "score_dt_scaled = accuracy_score(y_test, y_predict_dt_scaled)\n",
    "print(score_dt_scaled.mean())"
   ]
  },
  {
   "cell_type": "code",
   "execution_count": 30,
   "metadata": {},
   "outputs": [
    {
     "name": "stdout",
     "output_type": "stream",
     "text": [
      "[ 6500000  6400000  6500000 ...,  8500000  8000000 25039300]\n",
      "0.00589159465829\n"
     ]
    }
   ],
   "source": [
    "my_decisiontree = DecisionTreeClassifier()\n",
    "my_decisiontree.fit(x_train3, y_train) #use this for NO NF\n",
    "\n",
    "y_predict_dt = my_decisiontree.predict(x_test3)\n",
    "print(y_predict_dt)\n",
    "score_dt = accuracy_score(y_test, y_predict_dt)\n",
    "print(score_dt.mean())"
   ]
  },
  {
   "cell_type": "code",
   "execution_count": 25,
   "metadata": {},
   "outputs": [
    {
     "name": "stdout",
     "output_type": "stream",
     "text": [
      "With K equals  1\n",
      "0.00628436763551\n",
      "With K equals  2\n",
      "0.00942655145326\n",
      "With K equals  3\n",
      "0.012568735271\n",
      "With K equals  4\n",
      "0.0141398271799\n",
      "With K equals  5\n",
      "0.0133542812255\n",
      "With K equals  6\n",
      "0.0145326001571\n",
      "With K equals  7\n",
      "0.0157109190888\n",
      "With K equals  8\n",
      "0.0153181461115\n",
      "With K equals  9\n",
      "0.016103692066\n",
      "With K equals  10\n",
      "0.0149253731343\n"
     ]
    }
   ],
   "source": [
    "for k in range(1, 11): #a for loop to change the K value from 1 to 5\n",
    "    print ('With K equals % d' % (k))\n",
    "    Aknn = KNeighborsClassifier(n_neighbors=k) #Aknn\n",
    "    Aknn.fit(x_train3, y_train) #use this for NO NF\n",
    "    y_predict = Aknn.predict(x_test3) #testing the testing set\n",
    "    accuracy = accuracy_score(y_test, y_predict) #check elemens and return accuracy  \n",
    "    print (accuracy) # printing accuracy result"
   ]
  },
  {
   "cell_type": "code",
   "execution_count": 26,
   "metadata": {},
   "outputs": [
    {
     "name": "stdout",
     "output_type": "stream",
     "text": [
      "With K equals  1\n",
      "0.0149253731343\n",
      "With K equals  2\n",
      "0.0149253731343\n",
      "With K equals  3\n",
      "0.0149253731343\n",
      "With K equals  4\n",
      "0.0149253731343\n",
      "With K equals  5\n",
      "0.0149253731343\n",
      "With K equals  6\n",
      "0.0149253731343\n",
      "With K equals  7\n",
      "0.0149253731343\n",
      "With K equals  8\n",
      "0.0149253731343\n",
      "With K equals  9\n",
      "0.0149253731343\n",
      "With K equals  10\n",
      "0.0149253731343\n"
     ]
    }
   ],
   "source": [
    "for k in range(1, 11):\n",
    "    print ('With K equals % d' % (k))\n",
    "    Aknn_scaled = KNeighborsClassifier(n_neighbors=k) #Aknn\n",
    "    Aknn_scaled.fit(x_scaled, y_train) #use this for NF\n",
    "    y_predict_scaled = Aknn.predict(x_test3)\n",
    "    accuracy_scaled = accuracy_score(y_test, y_predict) #check elemens and return accuracy  \n",
    "    print (accuracy_scaled) # printing accuracy result"
   ]
  },
  {
   "cell_type": "code",
   "execution_count": 27,
   "metadata": {},
   "outputs": [
    {
     "name": "stdout",
     "output_type": "stream",
     "text": [
      "With K equals  1\n"
     ]
    },
    {
     "name": "stderr",
     "output_type": "stream",
     "text": [
      "C:\\Anaconda3\\lib\\site-packages\\sklearn\\model_selection\\_split.py:605: Warning: The least populated class in y has only 1 members, which is too few. The minimum number of members in any class cannot be less than n_splits=10.\n",
      "  % (min_groups, self.n_splits)), Warning)\n"
     ]
    },
    {
     "name": "stdout",
     "output_type": "stream",
     "text": [
      "0.0298098571434\n",
      "With K equals  2\n"
     ]
    },
    {
     "name": "stderr",
     "output_type": "stream",
     "text": [
      "C:\\Anaconda3\\lib\\site-packages\\sklearn\\model_selection\\_split.py:605: Warning: The least populated class in y has only 1 members, which is too few. The minimum number of members in any class cannot be less than n_splits=10.\n",
      "  % (min_groups, self.n_splits)), Warning)\n"
     ]
    },
    {
     "name": "stdout",
     "output_type": "stream",
     "text": [
      "0.0284702683349\n",
      "With K equals  3\n"
     ]
    },
    {
     "name": "stderr",
     "output_type": "stream",
     "text": [
      "C:\\Anaconda3\\lib\\site-packages\\sklearn\\model_selection\\_split.py:605: Warning: The least populated class in y has only 1 members, which is too few. The minimum number of members in any class cannot be less than n_splits=10.\n",
      "  % (min_groups, self.n_splits)), Warning)\n"
     ]
    },
    {
     "name": "stdout",
     "output_type": "stream",
     "text": [
      "0.0275480095681\n",
      "With K equals  4\n"
     ]
    },
    {
     "name": "stderr",
     "output_type": "stream",
     "text": [
      "C:\\Anaconda3\\lib\\site-packages\\sklearn\\model_selection\\_split.py:605: Warning: The least populated class in y has only 1 members, which is too few. The minimum number of members in any class cannot be less than n_splits=10.\n",
      "  % (min_groups, self.n_splits)), Warning)\n"
     ]
    },
    {
     "name": "stdout",
     "output_type": "stream",
     "text": [
      "0.0293657075978\n",
      "With K equals  5\n"
     ]
    },
    {
     "name": "stderr",
     "output_type": "stream",
     "text": [
      "C:\\Anaconda3\\lib\\site-packages\\sklearn\\model_selection\\_split.py:605: Warning: The least populated class in y has only 1 members, which is too few. The minimum number of members in any class cannot be less than n_splits=10.\n",
      "  % (min_groups, self.n_splits)), Warning)\n"
     ]
    },
    {
     "name": "stdout",
     "output_type": "stream",
     "text": [
      "0.0296728137024\n",
      "With K equals  6\n"
     ]
    },
    {
     "name": "stderr",
     "output_type": "stream",
     "text": [
      "C:\\Anaconda3\\lib\\site-packages\\sklearn\\model_selection\\_split.py:605: Warning: The least populated class in y has only 1 members, which is too few. The minimum number of members in any class cannot be less than n_splits=10.\n",
      "  % (min_groups, self.n_splits)), Warning)\n"
     ]
    },
    {
     "name": "stdout",
     "output_type": "stream",
     "text": [
      "0.0284813455837\n",
      "With K equals  7\n"
     ]
    },
    {
     "name": "stderr",
     "output_type": "stream",
     "text": [
      "C:\\Anaconda3\\lib\\site-packages\\sklearn\\model_selection\\_split.py:605: Warning: The least populated class in y has only 1 members, which is too few. The minimum number of members in any class cannot be less than n_splits=10.\n",
      "  % (min_groups, self.n_splits)), Warning)\n"
     ]
    },
    {
     "name": "stdout",
     "output_type": "stream",
     "text": [
      "0.0285759469112\n",
      "With K equals  8\n"
     ]
    },
    {
     "name": "stderr",
     "output_type": "stream",
     "text": [
      "C:\\Anaconda3\\lib\\site-packages\\sklearn\\model_selection\\_split.py:605: Warning: The least populated class in y has only 1 members, which is too few. The minimum number of members in any class cannot be less than n_splits=10.\n",
      "  % (min_groups, self.n_splits)), Warning)\n"
     ]
    },
    {
     "name": "stdout",
     "output_type": "stream",
     "text": [
      "0.0280754194594\n",
      "With K equals  9\n"
     ]
    },
    {
     "name": "stderr",
     "output_type": "stream",
     "text": [
      "C:\\Anaconda3\\lib\\site-packages\\sklearn\\model_selection\\_split.py:605: Warning: The least populated class in y has only 1 members, which is too few. The minimum number of members in any class cannot be less than n_splits=10.\n",
      "  % (min_groups, self.n_splits)), Warning)\n"
     ]
    },
    {
     "name": "stdout",
     "output_type": "stream",
     "text": [
      "0.0282629267872\n",
      "With K equals  10\n"
     ]
    },
    {
     "name": "stderr",
     "output_type": "stream",
     "text": [
      "C:\\Anaconda3\\lib\\site-packages\\sklearn\\model_selection\\_split.py:605: Warning: The least populated class in y has only 1 members, which is too few. The minimum number of members in any class cannot be less than n_splits=10.\n",
      "  % (min_groups, self.n_splits)), Warning)\n"
     ]
    },
    {
     "name": "stdout",
     "output_type": "stream",
     "text": [
      "0.031277878909\n"
     ]
    }
   ],
   "source": [
    "for k in range(1, 11): #a for loop to change the K value from 1 to 5\n",
    "    print('With K equals % d' % (k))\n",
    "    Aknn_cv = KNeighborsClassifier(n_neighbors=k) #Aknn \n",
    "    accuracy_list = cross_val_score(Aknn_cv, x_train3, y_train, cv=10, scoring='accuracy', n_jobs = -1) #use this for NO NF\n",
    "\n",
    "    accuracy_cv = accuracy_list.mean() #getting average of accuracy values\n",
    "    print(accuracy_cv)"
   ]
  },
  {
   "cell_type": "code",
   "execution_count": 28,
   "metadata": {},
   "outputs": [
    {
     "name": "stdout",
     "output_type": "stream",
     "text": [
      "With K equals  1\n"
     ]
    },
    {
     "name": "stderr",
     "output_type": "stream",
     "text": [
      "C:\\Anaconda3\\lib\\site-packages\\sklearn\\model_selection\\_split.py:605: Warning: The least populated class in y has only 1 members, which is too few. The minimum number of members in any class cannot be less than n_splits=10.\n",
      "  % (min_groups, self.n_splits)), Warning)\n"
     ]
    },
    {
     "name": "stdout",
     "output_type": "stream",
     "text": [
      "0.0298270641664\n",
      "With K equals  2\n"
     ]
    },
    {
     "name": "stderr",
     "output_type": "stream",
     "text": [
      "C:\\Anaconda3\\lib\\site-packages\\sklearn\\model_selection\\_split.py:605: Warning: The least populated class in y has only 1 members, which is too few. The minimum number of members in any class cannot be less than n_splits=10.\n",
      "  % (min_groups, self.n_splits)), Warning)\n"
     ]
    },
    {
     "name": "stdout",
     "output_type": "stream",
     "text": [
      "0.0286552463175\n",
      "With K equals  3\n"
     ]
    },
    {
     "name": "stderr",
     "output_type": "stream",
     "text": [
      "C:\\Anaconda3\\lib\\site-packages\\sklearn\\model_selection\\_split.py:605: Warning: The least populated class in y has only 1 members, which is too few. The minimum number of members in any class cannot be less than n_splits=10.\n",
      "  % (min_groups, self.n_splits)), Warning)\n"
     ]
    },
    {
     "name": "stdout",
     "output_type": "stream",
     "text": [
      "0.028055805217\n",
      "With K equals  4\n"
     ]
    },
    {
     "name": "stderr",
     "output_type": "stream",
     "text": [
      "C:\\Anaconda3\\lib\\site-packages\\sklearn\\model_selection\\_split.py:605: Warning: The least populated class in y has only 1 members, which is too few. The minimum number of members in any class cannot be less than n_splits=10.\n",
      "  % (min_groups, self.n_splits)), Warning)\n"
     ]
    },
    {
     "name": "stdout",
     "output_type": "stream",
     "text": [
      "0.0283862777111\n",
      "With K equals  5\n"
     ]
    },
    {
     "name": "stderr",
     "output_type": "stream",
     "text": [
      "C:\\Anaconda3\\lib\\site-packages\\sklearn\\model_selection\\_split.py:605: Warning: The least populated class in y has only 1 members, which is too few. The minimum number of members in any class cannot be less than n_splits=10.\n",
      "  % (min_groups, self.n_splits)), Warning)\n"
     ]
    },
    {
     "name": "stdout",
     "output_type": "stream",
     "text": [
      "0.0293277972109\n",
      "With K equals  6\n"
     ]
    },
    {
     "name": "stderr",
     "output_type": "stream",
     "text": [
      "C:\\Anaconda3\\lib\\site-packages\\sklearn\\model_selection\\_split.py:605: Warning: The least populated class in y has only 1 members, which is too few. The minimum number of members in any class cannot be less than n_splits=10.\n",
      "  % (min_groups, self.n_splits)), Warning)\n"
     ]
    },
    {
     "name": "stdout",
     "output_type": "stream",
     "text": [
      "0.0290807074026\n",
      "With K equals  7\n"
     ]
    },
    {
     "name": "stderr",
     "output_type": "stream",
     "text": [
      "C:\\Anaconda3\\lib\\site-packages\\sklearn\\model_selection\\_split.py:605: Warning: The least populated class in y has only 1 members, which is too few. The minimum number of members in any class cannot be less than n_splits=10.\n",
      "  % (min_groups, self.n_splits)), Warning)\n"
     ]
    },
    {
     "name": "stdout",
     "output_type": "stream",
     "text": [
      "0.0294362971277\n",
      "With K equals  8\n"
     ]
    },
    {
     "name": "stderr",
     "output_type": "stream",
     "text": [
      "C:\\Anaconda3\\lib\\site-packages\\sklearn\\model_selection\\_split.py:605: Warning: The least populated class in y has only 1 members, which is too few. The minimum number of members in any class cannot be less than n_splits=10.\n",
      "  % (min_groups, self.n_splits)), Warning)\n"
     ]
    },
    {
     "name": "stdout",
     "output_type": "stream",
     "text": [
      "0.0298178009513\n",
      "With K equals  9\n"
     ]
    },
    {
     "name": "stderr",
     "output_type": "stream",
     "text": [
      "C:\\Anaconda3\\lib\\site-packages\\sklearn\\model_selection\\_split.py:605: Warning: The least populated class in y has only 1 members, which is too few. The minimum number of members in any class cannot be less than n_splits=10.\n",
      "  % (min_groups, self.n_splits)), Warning)\n"
     ]
    },
    {
     "name": "stdout",
     "output_type": "stream",
     "text": [
      "0.0295134211992\n",
      "With K equals  10\n"
     ]
    },
    {
     "name": "stderr",
     "output_type": "stream",
     "text": [
      "C:\\Anaconda3\\lib\\site-packages\\sklearn\\model_selection\\_split.py:605: Warning: The least populated class in y has only 1 members, which is too few. The minimum number of members in any class cannot be less than n_splits=10.\n",
      "  % (min_groups, self.n_splits)), Warning)\n"
     ]
    },
    {
     "name": "stdout",
     "output_type": "stream",
     "text": [
      "0.0298808968728\n"
     ]
    }
   ],
   "source": [
    "for k in range(1, 11): #a for loop to change the K value from 1 to 5\n",
    "    print('With K equals % d' % (k))\n",
    "    Aknn_scaled_cv = KNeighborsClassifier(n_neighbors=k) #Aknn \n",
    "    accuracy_list_scaled_cv = cross_val_score(Aknn_scaled_cv, x_scaled, y_train, cv=10, scoring='accuracy', n_jobs = -1) # use this for NF\n",
    "    accuracy_cv_scaled = accuracy_list_scaled_cv.mean()\n",
    "    print(accuracy_cv_scaled)"
   ]
  },
  {
   "cell_type": "code",
   "execution_count": null,
   "metadata": {
    "collapsed": true
   },
   "outputs": [],
   "source": []
  }
 ],
 "metadata": {
  "kernelspec": {
   "display_name": "Python 3",
   "language": "python",
   "name": "python3"
  },
  "language_info": {
   "codemirror_mode": {
    "name": "ipython",
    "version": 3
   },
   "file_extension": ".py",
   "mimetype": "text/x-python",
   "name": "python",
   "nbconvert_exporter": "python",
   "pygments_lexer": "ipython3",
   "version": "3.6.3"
  }
 },
 "nbformat": 4,
 "nbformat_minor": 2
}
