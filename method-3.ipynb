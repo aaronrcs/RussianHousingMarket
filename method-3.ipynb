{
 "cells": [
  {
   "cell_type": "markdown",
   "metadata": {},
   "source": [
    "### Necessary imports "
   ]
  },
  {
   "cell_type": "code",
   "execution_count": 1,
   "metadata": {},
   "outputs": [],
   "source": [
    "import numpy as np\n",
    "import pandas as pd\n",
    "import time\n",
    "from sklearn.model_selection import train_test_split\n",
    "from sklearn.linear_model import LogisticRegression\n",
    "from sklearn.linear_model import LinearRegression\n",
    "from sklearn.ensemble import RandomForestClassifier\n",
    "from sklearn.tree import DecisionTreeClassifier\n",
    "from sklearn.decomposition import PCA\n",
    "from sklearn.preprocessing import Normalizer\n",
    "from sklearn.metrics import accuracy_score\n",
    "from sklearn import metrics\n",
    "from sklearn import neighbors\n",
    "from sklearn.model_selection import cross_val_score"
   ]
  },
  {
   "cell_type": "markdown",
   "metadata": {},
   "source": [
    "### Reading in CSV files and updating data"
   ]
  },
  {
   "cell_type": "code",
   "execution_count": 2,
   "metadata": {},
   "outputs": [],
   "source": [
    "# reading in the csv and xlsx files\n",
    "test = pd.read_csv('test.csv', parse_dates = ['timestamp'])\n",
    "train = pd.read_csv('train.csv', parse_dates = ['timestamp'])\n",
    "macro_df = pd.read_csv('macro.csv', parse_dates = ['timestamp'])\n",
    "data_fix = pd.read_excel('BAD_ADDRESS_FIX.xlsx').drop_duplicates('id').set_index('id')\n",
    "\n",
    "# updating the data\n",
    "test.update(data_fix)\n",
    "train.update(data_fix)\n",
    "\n",
    "# drop id\n",
    "train.drop(['id'], axis = 1, inplace = True)\n",
    "test.drop(['id'], axis = 1, inplace = True)\n",
    "\n",
    "# get feature columns\n",
    "train_features = list(train)\n",
    "test_features = list(test)"
   ]
  },
  {
   "cell_type": "markdown",
   "metadata": {},
   "source": [
    "### Drop NaN and initialize our Training and Testing sets"
   ]
  },
  {
   "cell_type": "code",
   "execution_count": 3,
   "metadata": {},
   "outputs": [
    {
     "name": "stdout",
     "output_type": "stream",
     "text": [
      "X_train: (6076, 290)\n",
      "X_test: (2443, 290)\n",
      "y_train: (6076,)\n",
      "Macro: (2484, 100)\n"
     ]
    }
   ],
   "source": [
    "# drops any rows with NaN\n",
    "test = test.dropna(how = 'any')\n",
    "train = train.dropna(how = 'any')\n",
    "\n",
    "# set training and testing sets\n",
    "X_train = train[train_features[:-1]]\n",
    "y_train = train['price_doc'].values\n",
    "X_test = test[test_features]\n",
    "y_test = train.sample(n = len(X_test.index))['price_doc']\n",
    "\n",
    "print('X_train: {}\\nX_test: {}\\ny_train: {}\\nMacro: {}'.format(X_train.shape, X_test.shape, y_train.shape, macro_df.shape))"
   ]
  },
  {
   "cell_type": "markdown",
   "metadata": {},
   "source": [
    "### Merging Macro data set into Training and Testing"
   ]
  },
  {
   "cell_type": "code",
   "execution_count": 4,
   "metadata": {
    "scrolled": false
   },
   "outputs": [
    {
     "name": "stdout",
     "output_type": "stream",
     "text": [
      "Before merge: (8519, 290)\n",
      "Merged with Macro: (8519, 299)\n",
      "After dropping timestamp and product type (8519, 297)\n"
     ]
    }
   ],
   "source": [
    "# most relevant columns taken from: https://www.kaggle.com/robertoruiz/dealing-with-multicollinearity# \n",
    "macro_cols = [\"timestamp\",\"balance_trade\",\"balance_trade_growth\",\"eurrub\",\"average_provision_of_build_contract\",\n",
    "              \"micex_rgbi_tr\",\"micex_cbi_tr\",\"deposits_rate\",\"mortgage_value\",\"mortgage_rate\"]\n",
    "\n",
    "# concatenate the training and testing data into one\n",
    "df = pd.concat([X_train, X_test])\n",
    "print('Before merge: {}'.format(df.shape))\n",
    "\n",
    "# merge the macro data with testing and training\n",
    "df = df.merge(macro_df[macro_cols], on = 'timestamp', how = 'left')\n",
    "print('Merged with Macro: {}'.format(df.shape))\n",
    "\n",
    "# dropping timestamp\n",
    "df.drop(['timestamp', 'product_type'], axis = 1, inplace = True)\n",
    "print('After dropping timestamp and product type {}'.format(df.shape))"
   ]
  },
  {
   "cell_type": "markdown",
   "metadata": {},
   "source": [
    "### Spliting Numeric and Object data"
   ]
  },
  {
   "cell_type": "code",
   "execution_count": 5,
   "metadata": {},
   "outputs": [
    {
     "name": "stdout",
     "output_type": "stream",
     "text": [
      "(8519, 283) (8519, 14)\n",
      "(8519, 297)\n"
     ]
    }
   ],
   "source": [
    "# splitting numeric data and object data\n",
    "# factorize to turn characters into numeric data\n",
    "# https://pandas.pydata.org/pandas-docs/stable/generated/pandas.DataFrame.select_dtypes.html\n",
    "df_num = df.select_dtypes(exclude=['object'])\n",
    "df_obj = df.select_dtypes(include=['object']).copy()\n",
    "for c in df_obj:\n",
    "    df_obj[c] = pd.factorize(df_obj[c])[0]\n",
    "\n",
    "print(df_num.shape, df_obj.shape)\n",
    "df_values = pd.concat([df_num, df_obj], axis=1)\n",
    "print(df_values.shape)\n",
    "#df_csv = df_values.to_csv('new-training-and-testing.csv')"
   ]
  },
  {
   "cell_type": "code",
   "execution_count": 6,
   "metadata": {},
   "outputs": [
    {
     "name": "stdout",
     "output_type": "stream",
     "text": [
      "train_df: (6076, 297)\n",
      "test_df: (2443, 297)\n",
      "y_train: (6076,) \n"
     ]
    }
   ],
   "source": [
    "# new training and testing data based on the macro, train, and test csv\n",
    "train_df = df_values[:X_train.shape[0]]\n",
    "test_df = df_values[X_train.shape[0]:]\n",
    "print('train_df: {}\\ntest_df: {}\\ny_train: {} '.format(train_df.shape, test_df.shape, y_train.shape))"
   ]
  },
  {
   "cell_type": "markdown",
   "metadata": {},
   "source": [
    "### Normalizing Data"
   ]
  },
  {
   "cell_type": "code",
   "execution_count": 31,
   "metadata": {},
   "outputs": [
    {
     "name": "stdout",
     "output_type": "stream",
     "text": [
      "train_df: (6076, 297)\n",
      "test_df: (2443, 297)\n",
      "y_train: (4860,) \n"
     ]
    }
   ],
   "source": [
    "# normalizing data\n",
    "scaler = Normalizer().fit(train_df)\n",
    "normalized_training = scaler.transform(train_df)\n",
    "normalized_testing = scaler.transform(test_df)\n",
    "print('train_df: {}\\ntest_df: {}\\ny_train: {} '.format(normalized_training.shape, normalized_testing.shape, y_train.shape))"
   ]
  },
  {
   "cell_type": "markdown",
   "metadata": {},
   "source": [
    "### Linear Regression without PCA"
   ]
  },
  {
   "cell_type": "code",
   "execution_count": 8,
   "metadata": {},
   "outputs": [
    {
     "name": "stdout",
     "output_type": "stream",
     "text": [
      "0.0033559560775756835\n"
     ]
    }
   ],
   "source": [
    "# fitting data\n",
    "lin_reg = LinearRegression(normalize = True, n_jobs = -1)\n",
    "start = time.time()\n",
    "lin_reg.fit(normalized_training, y_train)\n",
    "end = time.time()\n",
    "elapsed = end - start\n",
    "print(elapsed / 60)"
   ]
  },
  {
   "cell_type": "code",
   "execution_count": 9,
   "metadata": {},
   "outputs": [
    {
     "name": "stdout",
     "output_type": "stream",
     "text": [
      "Rounded Mean Square Error: 7680624.15944\n",
      "Rounded Mean Square Error using Cross Validation: 18720741.03859\n"
     ]
    }
   ],
   "source": [
    "y_predict_lr = lin_reg.predict(normalized_testing)\n",
    "mse = metrics.mean_squared_error(y_test, y_predict_lr)\n",
    "rmse = np.sqrt(mse)\n",
    "print(\"Rounded Mean Square Error: {:.5f}\".format(rmse))\n",
    "\n",
    "lin_reg_accuracy = cross_val_score(lin_reg, normalized_training, y_train, cv = 10, scoring = 'neg_mean_squared_error', n_jobs = -1)\n",
    "positive_lin_reg = -lin_reg_accuracy\n",
    "rmse_list = np.sqrt(positive_lin_reg)\n",
    "print(\"Rounded Mean Square Error using Cross Validation: {:.5f}\".format(rmse_list.mean()))"
   ]
  },
  {
   "cell_type": "markdown",
   "metadata": {},
   "source": [
    "### Linear Regression with PCA"
   ]
  },
  {
   "cell_type": "code",
   "execution_count": 10,
   "metadata": {},
   "outputs": [
    {
     "name": "stdout",
     "output_type": "stream",
     "text": [
      "(6076, 10) (2443, 10)\n"
     ]
    }
   ],
   "source": [
    "# pca\n",
    "n = 10\n",
    "pca = PCA(n_components = n)\n",
    "pca_training = pca.fit_transform(normalized_training)\n",
    "pca_testing = pca.fit_transform(normalized_testing)\n",
    "\n",
    "print(pca_training.shape, pca_testing.shape)"
   ]
  },
  {
   "cell_type": "code",
   "execution_count": 11,
   "metadata": {},
   "outputs": [
    {
     "name": "stdout",
     "output_type": "stream",
     "text": [
      "Rounded Mean Square Error: 6507949.81181\n",
      "Rounded Mean Square Error using Cross Validation: 6018836.02765\n"
     ]
    }
   ],
   "source": [
    "lin_reg.fit(pca_training, y_train)\n",
    "pca_y_predict_lr = lin_reg.predict(pca_testing)\n",
    "mse = metrics.mean_squared_error(y_test, pca_y_predict_lr)\n",
    "rmse = np.sqrt(mse)\n",
    "print(\"Rounded Mean Square Error: {:.5f}\".format(rmse))\n",
    "\n",
    "lin_reg_accuracy = cross_val_score(lin_reg, pca_training, y_train, cv = 10, scoring = 'neg_mean_squared_error', n_jobs = -1)\n",
    "positive_lin_reg = -lin_reg_accuracy\n",
    "rmse_list = np.sqrt(positive_lin_reg)\n",
    "print(\"Rounded Mean Square Error using Cross Validation: {:.5f}\".format(rmse_list.mean()))"
   ]
  },
  {
   "cell_type": "markdown",
   "metadata": {},
   "source": [
    "### Decision Tree without PCA"
   ]
  },
  {
   "cell_type": "code",
   "execution_count": 12,
   "metadata": {},
   "outputs": [
    {
     "name": "stdout",
     "output_type": "stream",
     "text": [
      "Decision Tree Score: 0.00941\n"
     ]
    }
   ],
   "source": [
    "decision_tree = DecisionTreeClassifier(random_state=2)\n",
    "decision_tree.fit(normalized_training, y_train)\n",
    "y_predict_dt = decision_tree.predict(normalized_testing)\n",
    "score_dt = accuracy_score(y_test, y_predict_dt)\n",
    "\n",
    "print(\"Decision Tree Score: {:.5f}\".format(score_dt))"
   ]
  },
  {
   "cell_type": "markdown",
   "metadata": {},
   "source": [
    "### Decision Tree with PCA"
   ]
  },
  {
   "cell_type": "code",
   "execution_count": 13,
   "metadata": {},
   "outputs": [
    {
     "name": "stdout",
     "output_type": "stream",
     "text": [
      "Decision Tree Score: 0.01064\n"
     ]
    }
   ],
   "source": [
    "decision_tree = DecisionTreeClassifier(random_state=2)\n",
    "decision_tree.fit(pca_training, y_train)\n",
    "pca_y_predict_dt = decision_tree.predict(pca_testing)\n",
    "pca_score_dt = accuracy_score(y_test, pca_y_predict_dt)\n",
    "\n",
    "print(\"Decision Tree Score: {:.5f}\".format(pca_score_dt))"
   ]
  },
  {
   "cell_type": "markdown",
   "metadata": {},
   "source": [
    "### Random Forest without PCA"
   ]
  },
  {
   "cell_type": "code",
   "execution_count": 14,
   "metadata": {},
   "outputs": [
    {
     "name": "stdout",
     "output_type": "stream",
     "text": [
      "Random Forest Score: 0.01228\n"
     ]
    }
   ],
   "source": [
    "random_forest = RandomForestClassifier(n_estimators = 19, bootstrap = True, random_state = 2, n_jobs = -1)\n",
    "random_forest.fit(normalized_training, y_train)\n",
    "y_predict_rf = random_forest.predict(normalized_testing)\n",
    "score_rf = accuracy_score(y_test, y_predict_rf)\n",
    "\n",
    "print(\"Random Forest Score: {:.5f}\".format(score_rf))"
   ]
  },
  {
   "cell_type": "markdown",
   "metadata": {},
   "source": [
    "### Random Forest with PCA"
   ]
  },
  {
   "cell_type": "code",
   "execution_count": 15,
   "metadata": {},
   "outputs": [
    {
     "name": "stdout",
     "output_type": "stream",
     "text": [
      "Random Forest Score: 0.01801\n"
     ]
    }
   ],
   "source": [
    "random_forest = RandomForestClassifier(n_estimators = 19, bootstrap = True, random_state = 2, n_jobs = -1)\n",
    "random_forest.fit(pca_training, y_train)\n",
    "pca_y_predict_rf = random_forest.predict(pca_testing)\n",
    "pca_score_rf = accuracy_score(y_test, pca_y_predict_rf)\n",
    "\n",
    "print(\"Random Forest Score: {:.5f}\".format(pca_score_rf))"
   ]
  },
  {
   "cell_type": "markdown",
   "metadata": {},
   "source": [
    "### KNN without PCA"
   ]
  },
  {
   "cell_type": "code",
   "execution_count": 16,
   "metadata": {},
   "outputs": [
    {
     "name": "stdout",
     "output_type": "stream",
     "text": [
      "KNN Accuracy without PCA: 0.01883\n"
     ]
    }
   ],
   "source": [
    "knn = neighbors.KNeighborsClassifier(n_neighbors = 5)\n",
    "knn.fit(normalized_training, y_train)\n",
    "knn_predict = knn.predict(normalized_testing)\n",
    "knn_score = accuracy_score(y_test, knn_predict)\n",
    "print('KNN Accuracy without PCA: {:.5f}'.format(knn_score))"
   ]
  },
  {
   "cell_type": "markdown",
   "metadata": {},
   "source": [
    "### KNN with PCA"
   ]
  },
  {
   "cell_type": "code",
   "execution_count": 17,
   "metadata": {},
   "outputs": [
    {
     "name": "stdout",
     "output_type": "stream",
     "text": [
      "KNN Accuracy with PCA: 0.02251\n"
     ]
    }
   ],
   "source": [
    "knn.fit(pca_training, y_train)\n",
    "knn_predict = knn.predict(pca_testing)\n",
    "knn_score = accuracy_score(y_test, knn_predict)\n",
    "print('KNN Accuracy with PCA: {:.5f}'.format(knn_score))"
   ]
  },
  {
   "cell_type": "markdown",
   "metadata": {
    "collapsed": true
   },
   "source": [
    "### Cross-Validation"
   ]
  },
  {
   "cell_type": "code",
   "execution_count": 18,
   "metadata": {},
   "outputs": [
    {
     "name": "stderr",
     "output_type": "stream",
     "text": [
      "C:\\Anaconda3\\lib\\site-packages\\sklearn\\model_selection\\_split.py:605: Warning: The least populated class in y has only 1 members, which is too few. The minimum number of members in any class cannot be less than n_splits=10.\n",
      "  % (min_groups, self.n_splits)), Warning)\n",
      "C:\\Anaconda3\\lib\\site-packages\\sklearn\\model_selection\\_split.py:605: Warning: The least populated class in y has only 1 members, which is too few. The minimum number of members in any class cannot be less than n_splits=10.\n",
      "  % (min_groups, self.n_splits)), Warning)\n",
      "C:\\Anaconda3\\lib\\site-packages\\sklearn\\model_selection\\_split.py:605: Warning: The least populated class in y has only 1 members, which is too few. The minimum number of members in any class cannot be less than n_splits=10.\n",
      "  % (min_groups, self.n_splits)), Warning)\n"
     ]
    },
    {
     "name": "stdout",
     "output_type": "stream",
     "text": [
      "KNN Accuracy: 0.01901 (+/- 0.01386)\n",
      "Decision Tree Accuracy: 0.02240 (+/- 0.00989)\n",
      "Random Forest Accuracy: 0.02433 (+/- 0.01375)\n"
     ]
    }
   ],
   "source": [
    "decision_tree_score = cross_val_score(decision_tree, normalized_training, y_train, cv = 10, scoring = 'accuracy', n_jobs = -1)\n",
    "knn_score = cross_val_score(knn, normalized_training, y_train, cv = 10, scoring = 'accuracy', n_jobs = -1)\n",
    "cv_random_tree = cross_val_score(random_forest, normalized_training, y_train, cv = 10, scoring = 'accuracy', n_jobs = -1)\n",
    "print('KNN Accuracy: {:.5f} (+/- {:.5f})'.format(knn_score.mean(), knn_score.std() * 2))\n",
    "print('Decision Tree Accuracy: {:.5f} (+/- {:.5f})'.format(decision_tree_score.mean(), decision_tree_score.std() * 2))\n",
    "print('Random Forest Accuracy: {:.5f} (+/- {:.5f})'.format(cv_random_tree.mean(), cv_random_tree.std() * 2))"
   ]
  },
  {
   "cell_type": "markdown",
   "metadata": {},
   "source": [
    "### Cross Validation with PCA"
   ]
  },
  {
   "cell_type": "code",
   "execution_count": 19,
   "metadata": {},
   "outputs": [
    {
     "name": "stderr",
     "output_type": "stream",
     "text": [
      "C:\\Anaconda3\\lib\\site-packages\\sklearn\\model_selection\\_split.py:605: Warning: The least populated class in y has only 1 members, which is too few. The minimum number of members in any class cannot be less than n_splits=10.\n",
      "  % (min_groups, self.n_splits)), Warning)\n",
      "C:\\Anaconda3\\lib\\site-packages\\sklearn\\model_selection\\_split.py:605: Warning: The least populated class in y has only 1 members, which is too few. The minimum number of members in any class cannot be less than n_splits=10.\n",
      "  % (min_groups, self.n_splits)), Warning)\n",
      "C:\\Anaconda3\\lib\\site-packages\\sklearn\\model_selection\\_split.py:605: Warning: The least populated class in y has only 1 members, which is too few. The minimum number of members in any class cannot be less than n_splits=10.\n",
      "  % (min_groups, self.n_splits)), Warning)\n"
     ]
    },
    {
     "name": "stdout",
     "output_type": "stream",
     "text": [
      "KNN Accuracy: 0.01927 (+/- 0.01599)\n",
      "Decision Tree Accuracy: 0.01632 (+/- 0.01098)\n",
      "Randon Forest Accuracy: 0.01847 (+/- 0.01098)\n"
     ]
    }
   ],
   "source": [
    "pca_decision_tree_score = cross_val_score(decision_tree, pca_training, y_train, cv = 10, scoring = 'accuracy', n_jobs = -1)\n",
    "pca_knn_score = cross_val_score(knn, pca_training, y_train, cv = 10, scoring = 'accuracy', n_jobs = -1)\n",
    "pca_random_tree = cross_val_score(random_forest, pca_training, y_train, cv = 10, scoring = 'accuracy', n_jobs = -1)\n",
    "print('KNN Accuracy: {:.5f} (+/- {:.5f})'.format(pca_knn_score.mean(), pca_knn_score.std() * 2))\n",
    "print('Decision Tree Accuracy: {:.5f} (+/- {:.5f})'.format(pca_decision_tree_score.mean(), pca_decision_tree_score.std() * 2))\n",
    "print('Randon Forest Accuracy: {:.5f} (+/- {:.5f})'.format(pca_random_tree.mean(), pca_random_tree.std() * 2))"
   ]
  },
  {
   "cell_type": "markdown",
   "metadata": {},
   "source": [
    "### Logistic Regression without PCA"
   ]
  },
  {
   "cell_type": "code",
   "execution_count": 20,
   "metadata": {},
   "outputs": [
    {
     "name": "stdout",
     "output_type": "stream",
     "text": [
      "Time taken to fit Logistic Regression: 2.43660\n"
     ]
    }
   ],
   "source": [
    "log_reg = LogisticRegression()\n",
    "start = time.time()\n",
    "log_reg.fit(normalized_training, y_train)\n",
    "end = time.time()\n",
    "elapsed = end - start\n",
    "print('Time taken to fit Logistic Regression: {:.5f}'.format(elapsed / 60))"
   ]
  },
  {
   "cell_type": "code",
   "execution_count": 21,
   "metadata": {},
   "outputs": [
    {
     "name": "stdout",
     "output_type": "stream",
     "text": [
      "Logistic Regression Score: 0.04052\n"
     ]
    },
    {
     "name": "stderr",
     "output_type": "stream",
     "text": [
      "C:\\Anaconda3\\lib\\site-packages\\sklearn\\model_selection\\_split.py:605: Warning: The least populated class in y has only 1 members, which is too few. The minimum number of members in any class cannot be less than n_splits=10.\n",
      "  % (min_groups, self.n_splits)), Warning)\n"
     ]
    },
    {
     "name": "stdout",
     "output_type": "stream",
     "text": [
      "Logistic Regression Cross Validation Score: 0.04878 (+/- 0.02543)\n"
     ]
    }
   ],
   "source": [
    "y_predict_lr = log_reg.predict(normalized_testing)\n",
    "score_lr = accuracy_score(y_test, y_predict_lr)\n",
    "print('Logistic Regression Score: {:.5f}'.format(score_lr))\n",
    "\n",
    "log_reg_cross = cross_val_score(log_reg, normalized_training, y_train, cv = 10, scoring = 'accuracy', n_jobs = -1)\n",
    "print('Logistic Regression Cross Validation Score: {:.5f} (+/- {:.5f})'.format(log_reg_cross.mean(), log_reg_cross.std() * 2))"
   ]
  },
  {
   "cell_type": "markdown",
   "metadata": {},
   "source": [
    "### Logistic Regression with PCA"
   ]
  },
  {
   "cell_type": "code",
   "execution_count": 22,
   "metadata": {},
   "outputs": [
    {
     "name": "stdout",
     "output_type": "stream",
     "text": [
      "Time taken to fit Logistic Regression: 0.17698\n"
     ]
    }
   ],
   "source": [
    "pca_log_reg = LogisticRegression()\n",
    "start = time.time()\n",
    "pca_log_reg.fit(pca_training, y_train)\n",
    "end = time.time()\n",
    "elapsed = end - start\n",
    "print('Time taken to fit Logistic Regression: {:.5f}'.format(elapsed /60 ))"
   ]
  },
  {
   "cell_type": "code",
   "execution_count": 23,
   "metadata": {},
   "outputs": [
    {
     "name": "stdout",
     "output_type": "stream",
     "text": [
      "PCA Logistic Regression Score: 0.03725\n"
     ]
    },
    {
     "name": "stderr",
     "output_type": "stream",
     "text": [
      "C:\\Anaconda3\\lib\\site-packages\\sklearn\\model_selection\\_split.py:605: Warning: The least populated class in y has only 1 members, which is too few. The minimum number of members in any class cannot be less than n_splits=10.\n",
      "  % (min_groups, self.n_splits)), Warning)\n"
     ]
    },
    {
     "name": "stdout",
     "output_type": "stream",
     "text": [
      "PCA Logistic Regression CV Score: 0.04916\n"
     ]
    }
   ],
   "source": [
    "pca_predict_lr = pca_log_reg.predict(pca_testing)\n",
    "pca_score_lr = accuracy_score(y_test, pca_predict_lr)\n",
    "print('PCA Logistic Regression Score: {:.5f}'.format(pca_score_lr))\n",
    "\n",
    "pca_log_reg = cross_val_score(pca_log_reg, pca_training, y_train, cv = 10, scoring = 'accuracy', n_jobs = -1)\n",
    "print('PCA Logistic Regression CV Score: {:.5f}'.format(pca_log_reg.mean()))"
   ]
  }
 ],
 "metadata": {
  "kernelspec": {
   "display_name": "Python 3",
   "language": "python",
   "name": "python3"
  },
  "language_info": {
   "codemirror_mode": {
    "name": "ipython",
    "version": 3
   },
   "file_extension": ".py",
   "mimetype": "text/x-python",
   "name": "python",
   "nbconvert_exporter": "python",
   "pygments_lexer": "ipython3",
   "version": "3.6.3"
  }
 },
 "nbformat": 4,
 "nbformat_minor": 2
}
