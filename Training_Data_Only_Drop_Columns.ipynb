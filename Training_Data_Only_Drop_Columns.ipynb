{
 "cells": [
  {
   "cell_type": "code",
   "execution_count": 1,
   "metadata": {},
   "outputs": [
    {
     "name": "stderr",
     "output_type": "stream",
     "text": [
      "C:\\Users\\gserra14\\AppData\\Local\\Continuum\\anaconda3\\lib\\site-packages\\sklearn\\cross_validation.py:41: DeprecationWarning: This module was deprecated in version 0.18 in favor of the model_selection module into which all the refactored classes and functions are moved. Also note that the interface of the new CV iterators are different from that of this module. This module will be removed in 0.20.\n",
      "  \"This module will be removed in 0.20.\", DeprecationWarning)\n"
     ]
    }
   ],
   "source": [
    "import pandas as pd\n",
    "import numpy as np\n",
    "\n",
    "from sklearn.model_selection import train_test_split\n",
    "from sklearn.tree import DecisionTreeClassifier\n",
    "from sklearn.linear_model import LogisticRegression\n",
    "from sklearn.cross_validation import cross_val_score\n",
    "\n",
    "from sklearn.linear_model import LinearRegression\n",
    "from sklearn.neighbors import KNeighborsClassifier\n",
    "from sklearn.metrics import accuracy_score\n",
    "\n",
    "from sklearn.decomposition import PCA\n",
    "from sklearn.preprocessing import scale"
   ]
  },
  {
   "cell_type": "code",
   "execution_count": 2,
   "metadata": {},
   "outputs": [
    {
     "data": {
      "text/plain": [
       "(20611, 276)"
      ]
     },
     "execution_count": 2,
     "metadata": {},
     "output_type": "execute_result"
    }
   ],
   "source": [
    "df = pd.DataFrame(pd.read_csv(\"train.csv\"))\n",
    "# drop columns without 24k valid entries\n",
    "X = df.dropna(axis = 1, how = \"any\", thresh = 24000)\n",
    "\n",
    "# drop timestamp as it currently provides no information\n",
    "X = X.drop(\"timestamp\", axis =1)\n",
    "\n",
    "# drop rows that have missing entries\n",
    "X.dropna(inplace= True)\n",
    "X.shape"
   ]
  },
  {
   "cell_type": "code",
   "execution_count": 3,
   "metadata": {},
   "outputs": [
    {
     "data": {
      "text/plain": [
       "(20611, 418)"
      ]
     },
     "execution_count": 3,
     "metadata": {},
     "output_type": "execute_result"
    }
   ],
   "source": [
    "list_nonNumerical = ['product_type', 'sub_area', 'culture_objects_top_25','thermal_power_plant_raion', 'incineration_raion','oil_chemistry_raion','radiation_raion','railroad_terminal_raion','big_market_raion','nuclear_reactor_raion'\n",
    "                    , 'detention_facility_raion','water_1line','big_road1_1line','railroad_1line', 'ecology']\n",
    "# create dummies from one hot encoding\n",
    "dummies = pd.get_dummies(X, columns = list_nonNumerical)\n",
    "\n",
    "# dummies.head()\n",
    "dummies.shape"
   ]
  },
  {
   "cell_type": "code",
   "execution_count": 4,
   "metadata": {
    "collapsed": true
   },
   "outputs": [],
   "source": [
    "df_x = dummies.drop(\"price_doc\", axis =1)\n",
    "df_target_y = dummies['price_doc']"
   ]
  },
  {
   "cell_type": "code",
   "execution_count": 5,
   "metadata": {},
   "outputs": [
    {
     "data": {
      "text/html": [
       "<div>\n",
       "<style>\n",
       "    .dataframe thead tr:only-child th {\n",
       "        text-align: right;\n",
       "    }\n",
       "\n",
       "    .dataframe thead th {\n",
       "        text-align: left;\n",
       "    }\n",
       "\n",
       "    .dataframe tbody tr th {\n",
       "        vertical-align: top;\n",
       "    }\n",
       "</style>\n",
       "<table border=\"1\" class=\"dataframe\">\n",
       "  <thead>\n",
       "    <tr style=\"text-align: right;\">\n",
       "      <th></th>\n",
       "      <th>0</th>\n",
       "      <th>1</th>\n",
       "      <th>2</th>\n",
       "      <th>3</th>\n",
       "      <th>4</th>\n",
       "      <th>5</th>\n",
       "      <th>6</th>\n",
       "      <th>7</th>\n",
       "      <th>8</th>\n",
       "      <th>9</th>\n",
       "      <th>...</th>\n",
       "      <th>407</th>\n",
       "      <th>408</th>\n",
       "      <th>409</th>\n",
       "      <th>410</th>\n",
       "      <th>411</th>\n",
       "      <th>412</th>\n",
       "      <th>413</th>\n",
       "      <th>414</th>\n",
       "      <th>415</th>\n",
       "      <th>416</th>\n",
       "    </tr>\n",
       "  </thead>\n",
       "  <tbody>\n",
       "    <tr>\n",
       "      <th>0</th>\n",
       "      <td>-1.683652</td>\n",
       "      <td>-0.221158</td>\n",
       "      <td>-0.296243</td>\n",
       "      <td>-0.613054</td>\n",
       "      <td>-0.536621</td>\n",
       "      <td>0.996307</td>\n",
       "      <td>0.033640</td>\n",
       "      <td>-1.038220</td>\n",
       "      <td>0.885115</td>\n",
       "      <td>-0.039556</td>\n",
       "      <td>...</td>\n",
       "      <td>-0.231453</td>\n",
       "      <td>0.178147</td>\n",
       "      <td>-0.178147</td>\n",
       "      <td>0.178871</td>\n",
       "      <td>-0.178871</td>\n",
       "      <td>-0.443603</td>\n",
       "      <td>1.755618</td>\n",
       "      <td>-0.251921</td>\n",
       "      <td>-0.767946</td>\n",
       "      <td>-0.436376</td>\n",
       "    </tr>\n",
       "    <tr>\n",
       "      <th>1</th>\n",
       "      <td>-1.683539</td>\n",
       "      <td>-0.428902</td>\n",
       "      <td>-0.694990</td>\n",
       "      <td>-0.810353</td>\n",
       "      <td>-0.099286</td>\n",
       "      <td>0.130502</td>\n",
       "      <td>1.205223</td>\n",
       "      <td>-0.637627</td>\n",
       "      <td>0.085392</td>\n",
       "      <td>-0.039556</td>\n",
       "      <td>...</td>\n",
       "      <td>-0.231453</td>\n",
       "      <td>0.178147</td>\n",
       "      <td>-0.178147</td>\n",
       "      <td>0.178871</td>\n",
       "      <td>-0.178871</td>\n",
       "      <td>2.254270</td>\n",
       "      <td>-0.569600</td>\n",
       "      <td>-0.251921</td>\n",
       "      <td>-0.767946</td>\n",
       "      <td>-0.436376</td>\n",
       "    </tr>\n",
       "    <tr>\n",
       "      <th>2</th>\n",
       "      <td>-1.683427</td>\n",
       "      <td>-0.221158</td>\n",
       "      <td>-0.196556</td>\n",
       "      <td>-1.007653</td>\n",
       "      <td>-0.756447</td>\n",
       "      <td>-0.163208</td>\n",
       "      <td>-0.460732</td>\n",
       "      <td>-0.080789</td>\n",
       "      <td>-0.211537</td>\n",
       "      <td>-0.429277</td>\n",
       "      <td>...</td>\n",
       "      <td>-0.231453</td>\n",
       "      <td>0.178147</td>\n",
       "      <td>-0.178147</td>\n",
       "      <td>0.178871</td>\n",
       "      <td>-0.178871</td>\n",
       "      <td>-0.443603</td>\n",
       "      <td>-0.569600</td>\n",
       "      <td>-0.251921</td>\n",
       "      <td>1.302174</td>\n",
       "      <td>-0.436376</td>\n",
       "    </tr>\n",
       "    <tr>\n",
       "      <th>3</th>\n",
       "      <td>-1.683314</td>\n",
       "      <td>0.840647</td>\n",
       "      <td>0.850155</td>\n",
       "      <td>0.373444</td>\n",
       "      <td>0.312270</td>\n",
       "      <td>1.489290</td>\n",
       "      <td>0.065517</td>\n",
       "      <td>-0.475052</td>\n",
       "      <td>1.926594</td>\n",
       "      <td>1.519327</td>\n",
       "      <td>...</td>\n",
       "      <td>-0.231453</td>\n",
       "      <td>0.178147</td>\n",
       "      <td>-0.178147</td>\n",
       "      <td>0.178871</td>\n",
       "      <td>-0.178871</td>\n",
       "      <td>-0.443603</td>\n",
       "      <td>1.755618</td>\n",
       "      <td>-0.251921</td>\n",
       "      <td>-0.767946</td>\n",
       "      <td>-0.436376</td>\n",
       "    </tr>\n",
       "    <tr>\n",
       "      <th>4</th>\n",
       "      <td>-1.683202</td>\n",
       "      <td>0.563654</td>\n",
       "      <td>2.195926</td>\n",
       "      <td>-0.613054</td>\n",
       "      <td>-0.262972</td>\n",
       "      <td>-0.024081</td>\n",
       "      <td>-1.084247</td>\n",
       "      <td>-0.737201</td>\n",
       "      <td>-0.262855</td>\n",
       "      <td>0.739886</td>\n",
       "      <td>...</td>\n",
       "      <td>-0.231453</td>\n",
       "      <td>0.178147</td>\n",
       "      <td>-0.178147</td>\n",
       "      <td>-5.590625</td>\n",
       "      <td>5.590625</td>\n",
       "      <td>2.254270</td>\n",
       "      <td>-0.569600</td>\n",
       "      <td>-0.251921</td>\n",
       "      <td>-0.767946</td>\n",
       "      <td>-0.436376</td>\n",
       "    </tr>\n",
       "  </tbody>\n",
       "</table>\n",
       "<p>5 rows × 417 columns</p>\n",
       "</div>"
      ],
      "text/plain": [
       "        0         1         2         3         4         5         6    \\\n",
       "0 -1.683652 -0.221158 -0.296243 -0.613054 -0.536621  0.996307  0.033640   \n",
       "1 -1.683539 -0.428902 -0.694990 -0.810353 -0.099286  0.130502  1.205223   \n",
       "2 -1.683427 -0.221158 -0.196556 -1.007653 -0.756447 -0.163208 -0.460732   \n",
       "3 -1.683314  0.840647  0.850155  0.373444  0.312270  1.489290  0.065517   \n",
       "4 -1.683202  0.563654  2.195926 -0.613054 -0.262972 -0.024081 -1.084247   \n",
       "\n",
       "        7         8         9      ...          407       408       409  \\\n",
       "0 -1.038220  0.885115 -0.039556    ...    -0.231453  0.178147 -0.178147   \n",
       "1 -0.637627  0.085392 -0.039556    ...    -0.231453  0.178147 -0.178147   \n",
       "2 -0.080789 -0.211537 -0.429277    ...    -0.231453  0.178147 -0.178147   \n",
       "3 -0.475052  1.926594  1.519327    ...    -0.231453  0.178147 -0.178147   \n",
       "4 -0.737201 -0.262855  0.739886    ...    -0.231453  0.178147 -0.178147   \n",
       "\n",
       "        410       411       412       413       414       415       416  \n",
       "0  0.178871 -0.178871 -0.443603  1.755618 -0.251921 -0.767946 -0.436376  \n",
       "1  0.178871 -0.178871  2.254270 -0.569600 -0.251921 -0.767946 -0.436376  \n",
       "2  0.178871 -0.178871 -0.443603 -0.569600 -0.251921  1.302174 -0.436376  \n",
       "3  0.178871 -0.178871 -0.443603  1.755618 -0.251921 -0.767946 -0.436376  \n",
       "4 -5.590625  5.590625  2.254270 -0.569600 -0.251921 -0.767946 -0.436376  \n",
       "\n",
       "[5 rows x 417 columns]"
      ]
     },
     "execution_count": 5,
     "metadata": {},
     "output_type": "execute_result"
    }
   ],
   "source": [
    "from sklearn.preprocessing import scale\n",
    "\n",
    "normalize_x = scale(df_x)\n",
    "\n",
    "normalize_x = pd.DataFrame(normalize_x)\n",
    "\n",
    "normalize_x.head()"
   ]
  },
  {
   "cell_type": "code",
   "execution_count": 6,
   "metadata": {},
   "outputs": [
    {
     "data": {
      "text/plain": [
       "array([[ -3.92509913e+06,  -6.52556797e+05,   2.86642538e+06, ...,\n",
       "         -5.55713707e+04,   5.20542198e+05,  -1.38975708e+05],\n",
       "       [ -8.10902822e+05,   8.63724636e+05,   1.55136715e+05, ...,\n",
       "         -1.22411732e+05,  -4.95919448e+04,  -6.11660655e+04],\n",
       "       [ -5.42763230e+06,  -1.07417242e+06,  -1.87145426e+05, ...,\n",
       "          2.38307033e+04,   5.74784335e+04,   4.38272046e+04],\n",
       "       ..., \n",
       "       [ -3.87948199e+06,   9.31637698e+06,   5.09675436e+03, ...,\n",
       "          5.80769135e+05,  -3.13050653e+05,  -5.13654037e+05],\n",
       "       [ -4.18701885e+06,  -1.01453855e+06,  -4.29831583e+04, ...,\n",
       "         -6.50644024e+04,   1.36388414e+04,  -2.19906658e+04],\n",
       "       [ -5.72264691e+06,  -2.25189706e+06,  -5.22056231e+05, ...,\n",
       "          4.68852057e+04,  -1.04407346e+05,   9.31855999e+03]])"
      ]
     },
     "execution_count": 6,
     "metadata": {},
     "output_type": "execute_result"
    }
   ],
   "source": [
    "n = 10\n",
    "\n",
    "my_pca = PCA(n_components = n)\n",
    "\n",
    "X_Train_new = my_pca.fit_transform(df_x)\n",
    "\n",
    "X_Train_new"
   ]
  },
  {
   "cell_type": "code",
   "execution_count": 7,
   "metadata": {},
   "outputs": [
    {
     "data": {
      "text/plain": [
       "(20611, 10)"
      ]
     },
     "execution_count": 7,
     "metadata": {},
     "output_type": "execute_result"
    }
   ],
   "source": [
    "print_x = pd.DataFrame(X_Train_new)\n",
    "\n",
    "# print_x.head()\n",
    "print_x.shape"
   ]
  },
  {
   "cell_type": "code",
   "execution_count": 8,
   "metadata": {
    "collapsed": true
   },
   "outputs": [],
   "source": [
    "X_train, X_test, y_train, y_test = train_test_split(print_x, df_target_y, test_size=0.3, random_state=2)"
   ]
  },
  {
   "cell_type": "code",
   "execution_count": 9,
   "metadata": {
    "scrolled": true
   },
   "outputs": [
    {
     "name": "stdout",
     "output_type": "stream",
     "text": [
      "7710327.52592\n",
      "[-0.02406562  0.48798865  0.03780872 -0.54469129 -0.71880774  0.28964065\n",
      "  1.2146128   1.44340719  1.9353053   1.88796851]\n"
     ]
    }
   ],
   "source": [
    "my_linreg = LinearRegression()\n",
    "my_linreg.fit(X_train, y_train)\n",
    "\n",
    "# printing Theta0 using attribute \"intercept_\":\n",
    "print(my_linreg.intercept_)\n",
    "\n",
    "# printing [Theta1, Theta2, Theta3] using attribute \"coef_\":\n",
    "print(my_linreg.coef_)"
   ]
  },
  {
   "cell_type": "code",
   "execution_count": 10,
   "metadata": {},
   "outputs": [
    {
     "name": "stdout",
     "output_type": "stream",
     "text": [
      "[ 6418087.50002686  6548662.49663136  6744911.36629631 ...,\n",
      "  7587241.20605702  6394572.27374555  7961582.07457601]\n"
     ]
    }
   ],
   "source": [
    "\n",
    "# make predictions on the testing set\n",
    "y_prediction = my_linreg.predict(X_test)\n",
    "print(y_prediction)"
   ]
  },
  {
   "cell_type": "code",
   "execution_count": 11,
   "metadata": {},
   "outputs": [
    {
     "name": "stdout",
     "output_type": "stream",
     "text": [
      "4972023.03945\n"
     ]
    }
   ],
   "source": [
    "from sklearn import metrics\n",
    "import numpy as np\n",
    "\n",
    "# Calculating \"Mean Square Error\" (MSE):\n",
    "mse = metrics.mean_squared_error(y_test, y_prediction)\n",
    "\n",
    "# Using numpy sqrt function to take the square root and calculate \"Root Mean Square Error\" (RMSE)\n",
    "rmse = np.sqrt(mse)\n",
    "\n",
    "print(rmse)"
   ]
  },
  {
   "cell_type": "code",
   "execution_count": 30,
   "metadata": {},
   "outputs": [
    {
     "name": "stdout",
     "output_type": "stream",
     "text": [
      "accuracy of KNN is 0.0286222509702\n"
     ]
    }
   ],
   "source": [
    "# KNN classifier\n",
    "my_knn = KNeighborsClassifier(n_neighbors=80)\n",
    "my_knn.fit(X_train, y_train)\n",
    "y_pred_knn = my_knn.predict(X_test)\n",
    "score_knn = accuracy_score(y_test, y_pred_knn)\n",
    "print(\"accuracy of KNN is\", (score_knn))"
   ]
  },
  {
   "cell_type": "code",
   "execution_count": 12,
   "metadata": {},
   "outputs": [
    {
     "name": "stdout",
     "output_type": "stream",
     "text": [
      "accuracy of Decision Tree is 0.0270051746442\n"
     ]
    }
   ],
   "source": [
    "# Fitting the training dataset with Decision Tree Classifier\n",
    "my_DecisionTree = DecisionTreeClassifier(random_state=2)\n",
    "my_DecisionTree.fit(X_train, y_train)\n",
    "y_predict_dt = my_DecisionTree.predict(X_test)\n",
    "score_dt = accuracy_score(y_test, y_predict_dt)\n",
    "print(\"accuracy of Decision Tree is\", (score_dt))"
   ]
  },
  {
   "cell_type": "code",
   "execution_count": null,
   "metadata": {
    "collapsed": true
   },
   "outputs": [],
   "source": [
    "#Logistic Regression\n",
    "my_logreg = LogisticRegression()\n",
    "my_logreg.fit(X_train, y_train)"
   ]
  },
  {
   "cell_type": "code",
   "execution_count": null,
   "metadata": {
    "collapsed": true
   },
   "outputs": [],
   "source": [
    "y_predict_lr = my_logreg.predict(X_test)\n",
    "score_lr = accuracy_score(y_test, y_predict_lr)\n",
    "print (\"accuracy of Logistic Regression is\", (score_lr))"
   ]
  },
  {
   "cell_type": "code",
   "execution_count": 20,
   "metadata": {},
   "outputs": [
    {
     "name": "stdout",
     "output_type": "stream",
     "text": [
      "[4550000 8170000 9500000 ..., 8300000 1000000 5700000]\n"
     ]
    }
   ],
   "source": [
    "from sklearn.ensemble import RandomForestClassifier\n",
    "my_RandomForest = RandomForestClassifier(n_estimators = 19, bootstrap = True, random_state = 2)\n",
    "my_RandomForest.fit(X_train, y_train)\n",
    "\n",
    "y_predict_rf = my_RandomForest.predict(X_test)\n",
    "\n",
    "print(y_predict_rf)"
   ]
  },
  {
   "cell_type": "code",
   "execution_count": 21,
   "metadata": {},
   "outputs": [
    {
     "name": "stdout",
     "output_type": "stream",
     "text": [
      "0.0271668822768\n"
     ]
    }
   ],
   "source": [
    "score_rf = accuracy_score(y_test, y_predict_rf)\n",
    "print(score_rf)"
   ]
  },
  {
   "cell_type": "markdown",
   "metadata": {},
   "source": [
    "# We try without PCA"
   ]
  },
  {
   "cell_type": "code",
   "execution_count": 22,
   "metadata": {},
   "outputs": [
    {
     "data": {
      "text/plain": [
       "(20611, 276)"
      ]
     },
     "execution_count": 22,
     "metadata": {},
     "output_type": "execute_result"
    }
   ],
   "source": [
    "df_2 = pd.DataFrame(pd.read_csv(\"train.csv\"))\n",
    "X_2 = df_2.dropna(axis = 1, how = \"any\", thresh = 24000)\n",
    "X_2 = X_2.drop(\"timestamp\", axis =1)\n",
    "X_2.dropna(inplace= True)\n",
    "# X.head()\n",
    "X_2.shape"
   ]
  },
  {
   "cell_type": "code",
   "execution_count": 23,
   "metadata": {},
   "outputs": [
    {
     "data": {
      "text/plain": [
       "(20611, 418)"
      ]
     },
     "execution_count": 23,
     "metadata": {},
     "output_type": "execute_result"
    }
   ],
   "source": [
    "list_nonNumerical = [ 'product_type', 'sub_area', 'culture_objects_top_25','thermal_power_plant_raion', 'incineration_raion','oil_chemistry_raion','radiation_raion','railroad_terminal_raion','big_market_raion','nuclear_reactor_raion'\n",
    "                    , 'detention_facility_raion','water_1line','big_road1_1line','railroad_1line', 'ecology']\n",
    "\n",
    "dummies_2 = pd.get_dummies(X_2, columns = list_nonNumerical)\n",
    "\n",
    "# dummies.head()\n",
    "dummies_2.shape"
   ]
  },
  {
   "cell_type": "code",
   "execution_count": 24,
   "metadata": {
    "collapsed": true
   },
   "outputs": [],
   "source": [
    "df_x_2 = dummies_2.drop(\"price_doc\", axis =1)\n",
    "df_target_y_2 = dummies_2['price_doc']"
   ]
  },
  {
   "cell_type": "code",
   "execution_count": 25,
   "metadata": {},
   "outputs": [
    {
     "data": {
      "text/html": [
       "<div>\n",
       "<style>\n",
       "    .dataframe thead tr:only-child th {\n",
       "        text-align: right;\n",
       "    }\n",
       "\n",
       "    .dataframe thead th {\n",
       "        text-align: left;\n",
       "    }\n",
       "\n",
       "    .dataframe tbody tr th {\n",
       "        vertical-align: top;\n",
       "    }\n",
       "</style>\n",
       "<table border=\"1\" class=\"dataframe\">\n",
       "  <thead>\n",
       "    <tr style=\"text-align: right;\">\n",
       "      <th></th>\n",
       "      <th>0</th>\n",
       "      <th>1</th>\n",
       "      <th>2</th>\n",
       "      <th>3</th>\n",
       "      <th>4</th>\n",
       "      <th>5</th>\n",
       "      <th>6</th>\n",
       "      <th>7</th>\n",
       "      <th>8</th>\n",
       "      <th>9</th>\n",
       "      <th>...</th>\n",
       "      <th>407</th>\n",
       "      <th>408</th>\n",
       "      <th>409</th>\n",
       "      <th>410</th>\n",
       "      <th>411</th>\n",
       "      <th>412</th>\n",
       "      <th>413</th>\n",
       "      <th>414</th>\n",
       "      <th>415</th>\n",
       "      <th>416</th>\n",
       "    </tr>\n",
       "  </thead>\n",
       "  <tbody>\n",
       "    <tr>\n",
       "      <th>0</th>\n",
       "      <td>-1.683652</td>\n",
       "      <td>-0.221158</td>\n",
       "      <td>-0.296243</td>\n",
       "      <td>-0.613054</td>\n",
       "      <td>-0.536621</td>\n",
       "      <td>0.996307</td>\n",
       "      <td>0.033640</td>\n",
       "      <td>-1.038220</td>\n",
       "      <td>0.885115</td>\n",
       "      <td>-0.039556</td>\n",
       "      <td>...</td>\n",
       "      <td>-0.231453</td>\n",
       "      <td>0.178147</td>\n",
       "      <td>-0.178147</td>\n",
       "      <td>0.178871</td>\n",
       "      <td>-0.178871</td>\n",
       "      <td>-0.443603</td>\n",
       "      <td>1.755618</td>\n",
       "      <td>-0.251921</td>\n",
       "      <td>-0.767946</td>\n",
       "      <td>-0.436376</td>\n",
       "    </tr>\n",
       "    <tr>\n",
       "      <th>1</th>\n",
       "      <td>-1.683539</td>\n",
       "      <td>-0.428902</td>\n",
       "      <td>-0.694990</td>\n",
       "      <td>-0.810353</td>\n",
       "      <td>-0.099286</td>\n",
       "      <td>0.130502</td>\n",
       "      <td>1.205223</td>\n",
       "      <td>-0.637627</td>\n",
       "      <td>0.085392</td>\n",
       "      <td>-0.039556</td>\n",
       "      <td>...</td>\n",
       "      <td>-0.231453</td>\n",
       "      <td>0.178147</td>\n",
       "      <td>-0.178147</td>\n",
       "      <td>0.178871</td>\n",
       "      <td>-0.178871</td>\n",
       "      <td>2.254270</td>\n",
       "      <td>-0.569600</td>\n",
       "      <td>-0.251921</td>\n",
       "      <td>-0.767946</td>\n",
       "      <td>-0.436376</td>\n",
       "    </tr>\n",
       "    <tr>\n",
       "      <th>2</th>\n",
       "      <td>-1.683427</td>\n",
       "      <td>-0.221158</td>\n",
       "      <td>-0.196556</td>\n",
       "      <td>-1.007653</td>\n",
       "      <td>-0.756447</td>\n",
       "      <td>-0.163208</td>\n",
       "      <td>-0.460732</td>\n",
       "      <td>-0.080789</td>\n",
       "      <td>-0.211537</td>\n",
       "      <td>-0.429277</td>\n",
       "      <td>...</td>\n",
       "      <td>-0.231453</td>\n",
       "      <td>0.178147</td>\n",
       "      <td>-0.178147</td>\n",
       "      <td>0.178871</td>\n",
       "      <td>-0.178871</td>\n",
       "      <td>-0.443603</td>\n",
       "      <td>-0.569600</td>\n",
       "      <td>-0.251921</td>\n",
       "      <td>1.302174</td>\n",
       "      <td>-0.436376</td>\n",
       "    </tr>\n",
       "    <tr>\n",
       "      <th>3</th>\n",
       "      <td>-1.683314</td>\n",
       "      <td>0.840647</td>\n",
       "      <td>0.850155</td>\n",
       "      <td>0.373444</td>\n",
       "      <td>0.312270</td>\n",
       "      <td>1.489290</td>\n",
       "      <td>0.065517</td>\n",
       "      <td>-0.475052</td>\n",
       "      <td>1.926594</td>\n",
       "      <td>1.519327</td>\n",
       "      <td>...</td>\n",
       "      <td>-0.231453</td>\n",
       "      <td>0.178147</td>\n",
       "      <td>-0.178147</td>\n",
       "      <td>0.178871</td>\n",
       "      <td>-0.178871</td>\n",
       "      <td>-0.443603</td>\n",
       "      <td>1.755618</td>\n",
       "      <td>-0.251921</td>\n",
       "      <td>-0.767946</td>\n",
       "      <td>-0.436376</td>\n",
       "    </tr>\n",
       "    <tr>\n",
       "      <th>4</th>\n",
       "      <td>-1.683202</td>\n",
       "      <td>0.563654</td>\n",
       "      <td>2.195926</td>\n",
       "      <td>-0.613054</td>\n",
       "      <td>-0.262972</td>\n",
       "      <td>-0.024081</td>\n",
       "      <td>-1.084247</td>\n",
       "      <td>-0.737201</td>\n",
       "      <td>-0.262855</td>\n",
       "      <td>0.739886</td>\n",
       "      <td>...</td>\n",
       "      <td>-0.231453</td>\n",
       "      <td>0.178147</td>\n",
       "      <td>-0.178147</td>\n",
       "      <td>-5.590625</td>\n",
       "      <td>5.590625</td>\n",
       "      <td>2.254270</td>\n",
       "      <td>-0.569600</td>\n",
       "      <td>-0.251921</td>\n",
       "      <td>-0.767946</td>\n",
       "      <td>-0.436376</td>\n",
       "    </tr>\n",
       "  </tbody>\n",
       "</table>\n",
       "<p>5 rows × 417 columns</p>\n",
       "</div>"
      ],
      "text/plain": [
       "        0         1         2         3         4         5         6    \\\n",
       "0 -1.683652 -0.221158 -0.296243 -0.613054 -0.536621  0.996307  0.033640   \n",
       "1 -1.683539 -0.428902 -0.694990 -0.810353 -0.099286  0.130502  1.205223   \n",
       "2 -1.683427 -0.221158 -0.196556 -1.007653 -0.756447 -0.163208 -0.460732   \n",
       "3 -1.683314  0.840647  0.850155  0.373444  0.312270  1.489290  0.065517   \n",
       "4 -1.683202  0.563654  2.195926 -0.613054 -0.262972 -0.024081 -1.084247   \n",
       "\n",
       "        7         8         9      ...          407       408       409  \\\n",
       "0 -1.038220  0.885115 -0.039556    ...    -0.231453  0.178147 -0.178147   \n",
       "1 -0.637627  0.085392 -0.039556    ...    -0.231453  0.178147 -0.178147   \n",
       "2 -0.080789 -0.211537 -0.429277    ...    -0.231453  0.178147 -0.178147   \n",
       "3 -0.475052  1.926594  1.519327    ...    -0.231453  0.178147 -0.178147   \n",
       "4 -0.737201 -0.262855  0.739886    ...    -0.231453  0.178147 -0.178147   \n",
       "\n",
       "        410       411       412       413       414       415       416  \n",
       "0  0.178871 -0.178871 -0.443603  1.755618 -0.251921 -0.767946 -0.436376  \n",
       "1  0.178871 -0.178871  2.254270 -0.569600 -0.251921 -0.767946 -0.436376  \n",
       "2  0.178871 -0.178871 -0.443603 -0.569600 -0.251921  1.302174 -0.436376  \n",
       "3  0.178871 -0.178871 -0.443603  1.755618 -0.251921 -0.767946 -0.436376  \n",
       "4 -5.590625  5.590625  2.254270 -0.569600 -0.251921 -0.767946 -0.436376  \n",
       "\n",
       "[5 rows x 417 columns]"
      ]
     },
     "execution_count": 25,
     "metadata": {},
     "output_type": "execute_result"
    }
   ],
   "source": [
    "from sklearn.preprocessing import scale\n",
    "\n",
    "normalize_x_2 = scale(df_x_2)\n",
    "\n",
    "normalize_x_2 = pd.DataFrame(normalize_x_2)\n",
    "\n",
    "normalize_x_2.head()"
   ]
  },
  {
   "cell_type": "code",
   "execution_count": 26,
   "metadata": {
    "collapsed": true
   },
   "outputs": [],
   "source": [
    "X_train_2, X_test_2, y_train_2, y_test_2 = train_test_split(df_x_2, df_target_y_2, test_size=0.3, random_state=2)"
   ]
  },
  {
   "cell_type": "code",
   "execution_count": null,
   "metadata": {
    "collapsed": true
   },
   "outputs": [],
   "source": [
    "# Fitting the training dataset with Decision Tree Classifier\n",
    "my_DecisionTree = DecisionTreeClassifier(random_state=2)\n",
    "my_DecisionTree.fit(X_train_2, y_train_2)\n",
    "y_predict_dt_2 = my_DecisionTree.predict(X_test_2)\n",
    "score_dt = accuracy_score(y_test_2, y_predict_dt_2)\n",
    "print(\"accuracy of Decision Tree is\", (score_dt))"
   ]
  },
  {
   "cell_type": "code",
   "execution_count": null,
   "metadata": {
    "collapsed": true
   },
   "outputs": [],
   "source": [
    "#Logistic Regression\n",
    "my_logreg = LogisticRegression()\n",
    "my_logreg.fit(X_train_2, y_train_2)\n",
    "y_predict_lr_2 = my_logreg.predict(X_test_2)\n",
    "score_lr = accuracy_score(y_test_2, y_predict_lr_2)\n",
    "print (\"accuracy of Logistic Regression is\", (score_lr))"
   ]
  },
  {
   "cell_type": "code",
   "execution_count": 28,
   "metadata": {},
   "outputs": [
    {
     "name": "stdout",
     "output_type": "stream",
     "text": [
      "[1000000 8725000 6200000 ..., 8300000 1000000 5700000]\n"
     ]
    }
   ],
   "source": [
    "from sklearn.ensemble import RandomForestClassifier\n",
    "my_RandomForest = RandomForestClassifier(n_estimators = 19, bootstrap = True, random_state = 2)\n",
    "my_RandomForest.fit(X_train_2, y_train_2)\n",
    "\n",
    "y_predict_rf_2 = my_RandomForest.predict(X_test_2)\n",
    "\n",
    "print(y_predict_rf_2)"
   ]
  },
  {
   "cell_type": "code",
   "execution_count": 29,
   "metadata": {},
   "outputs": [
    {
     "name": "stdout",
     "output_type": "stream",
     "text": [
      "0.0378395860285\n"
     ]
    }
   ],
   "source": [
    "score_rf_2 = accuracy_score(y_test_2, y_predict_rf_2)\n",
    "print(score_rf_2)"
   ]
  },
  {
   "cell_type": "code",
   "execution_count": null,
   "metadata": {
    "collapsed": true
   },
   "outputs": [],
   "source": []
  }
 ],
 "metadata": {
  "kernelspec": {
   "display_name": "Python 3",
   "language": "python",
   "name": "python3"
  },
  "language_info": {
   "codemirror_mode": {
    "name": "ipython",
    "version": 3
   },
   "file_extension": ".py",
   "mimetype": "text/x-python",
   "name": "python",
   "nbconvert_exporter": "python",
   "pygments_lexer": "ipython3",
   "version": "3.6.3"
  }
 },
 "nbformat": 4,
 "nbformat_minor": 2
}
