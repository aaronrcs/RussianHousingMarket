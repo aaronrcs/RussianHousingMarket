{
 "cells": [
  {
   "cell_type": "code",
   "execution_count": 1,
   "metadata": {},
   "outputs": [
    {
     "name": "stderr",
     "output_type": "stream",
     "text": [
      "/anaconda3/lib/python3.6/site-packages/sklearn/cross_validation.py:41: DeprecationWarning: This module was deprecated in version 0.18 in favor of the model_selection module into which all the refactored classes and functions are moved. Also note that the interface of the new CV iterators are different from that of this module. This module will be removed in 0.20.\n",
      "  \"This module will be removed in 0.20.\", DeprecationWarning)\n"
     ]
    }
   ],
   "source": [
    "# Importing the required packages and libraries\n",
    "# we will need numpy and pandas later\n",
    "\n",
    "import numpy as np\n",
    "import pandas as pd\n",
    "\n",
    "from sklearn.metrics import accuracy_score\n",
    "\n",
    "\n",
    "\n",
    "# The following line will import LinearRegression Class. \n",
    "\n",
    "from sklearn.linear_model import LinearRegression\n",
    "\n",
    "# Randomly splitting the original dataset into training set and testing set\n",
    "# The function\"train_test_split\" from \"sklearn.cross_validation\" library performs random splitting.\n",
    "#For this question the Testing Set will be 20% and the Training Set will be 80%\n",
    "\n",
    "from sklearn.model_selection import train_test_split\n",
    "\n",
    "# from sklearn.preprocessing import scale\n",
    "\n",
    "#This line of code will import the preprocessing object\n",
    "from sklearn import preprocessing\n",
    "\n",
    "\n",
    "from sklearn import metrics\n",
    "\n",
    "#Feature reduction\n",
    "\n",
    "from sklearn.decomposition import PCA \n",
    "\n",
    "from sklearn.tree import DecisionTreeClassifier\n",
    "\n",
    "from sklearn.neighbors import KNeighborsClassifier\n",
    "\n",
    "from sklearn.linear_model import LogisticRegression\n",
    "\n",
    "from sklearn.cross_validation import cross_val_score\n",
    "\n",
    "from sklearn.ensemble import RandomForestClassifier\n",
    "\n",
    "\n"
   ]
  },
  {
   "cell_type": "code",
   "execution_count": 2,
   "metadata": {},
   "outputs": [
    {
     "data": {
      "text/html": [
       "<div>\n",
       "<style>\n",
       "    .dataframe thead tr:only-child th {\n",
       "        text-align: right;\n",
       "    }\n",
       "\n",
       "    .dataframe thead th {\n",
       "        text-align: left;\n",
       "    }\n",
       "\n",
       "    .dataframe tbody tr th {\n",
       "        vertical-align: top;\n",
       "    }\n",
       "</style>\n",
       "<table border=\"1\" class=\"dataframe\">\n",
       "  <thead>\n",
       "    <tr style=\"text-align: right;\">\n",
       "      <th></th>\n",
       "      <th>id</th>\n",
       "      <th>timestamp</th>\n",
       "      <th>full_sq</th>\n",
       "      <th>life_sq</th>\n",
       "      <th>floor</th>\n",
       "      <th>product_type</th>\n",
       "      <th>sub_area</th>\n",
       "      <th>area_m</th>\n",
       "      <th>raion_popul</th>\n",
       "      <th>green_zone_part</th>\n",
       "      <th>...</th>\n",
       "      <th>cafe_count_5000_price_2500</th>\n",
       "      <th>cafe_count_5000_price_4000</th>\n",
       "      <th>cafe_count_5000_price_high</th>\n",
       "      <th>big_church_count_5000</th>\n",
       "      <th>church_count_5000</th>\n",
       "      <th>mosque_count_5000</th>\n",
       "      <th>leisure_count_5000</th>\n",
       "      <th>sport_count_5000</th>\n",
       "      <th>market_count_5000</th>\n",
       "      <th>price_doc</th>\n",
       "    </tr>\n",
       "  </thead>\n",
       "  <tbody>\n",
       "    <tr>\n",
       "      <th>1</th>\n",
       "      <td>2</td>\n",
       "      <td>8/23/11</td>\n",
       "      <td>34</td>\n",
       "      <td>19.0</td>\n",
       "      <td>3.0</td>\n",
       "      <td>Investment</td>\n",
       "      <td>Nagatinskij Zaton</td>\n",
       "      <td>9.589337e+06</td>\n",
       "      <td>115352</td>\n",
       "      <td>0.372602</td>\n",
       "      <td>...</td>\n",
       "      <td>15</td>\n",
       "      <td>3</td>\n",
       "      <td>0</td>\n",
       "      <td>15</td>\n",
       "      <td>29</td>\n",
       "      <td>1</td>\n",
       "      <td>10</td>\n",
       "      <td>66</td>\n",
       "      <td>14</td>\n",
       "      <td>6000000</td>\n",
       "    </tr>\n",
       "    <tr>\n",
       "      <th>2</th>\n",
       "      <td>3</td>\n",
       "      <td>8/27/11</td>\n",
       "      <td>43</td>\n",
       "      <td>29.0</td>\n",
       "      <td>2.0</td>\n",
       "      <td>Investment</td>\n",
       "      <td>Tekstil'shhiki</td>\n",
       "      <td>4.808270e+06</td>\n",
       "      <td>101708</td>\n",
       "      <td>0.112560</td>\n",
       "      <td>...</td>\n",
       "      <td>10</td>\n",
       "      <td>3</td>\n",
       "      <td>0</td>\n",
       "      <td>11</td>\n",
       "      <td>27</td>\n",
       "      <td>0</td>\n",
       "      <td>4</td>\n",
       "      <td>67</td>\n",
       "      <td>10</td>\n",
       "      <td>5700000</td>\n",
       "    </tr>\n",
       "    <tr>\n",
       "      <th>4</th>\n",
       "      <td>5</td>\n",
       "      <td>9/5/11</td>\n",
       "      <td>77</td>\n",
       "      <td>77.0</td>\n",
       "      <td>4.0</td>\n",
       "      <td>Investment</td>\n",
       "      <td>Basmannoe</td>\n",
       "      <td>8.398461e+06</td>\n",
       "      <td>108171</td>\n",
       "      <td>0.015234</td>\n",
       "      <td>...</td>\n",
       "      <td>319</td>\n",
       "      <td>108</td>\n",
       "      <td>17</td>\n",
       "      <td>135</td>\n",
       "      <td>236</td>\n",
       "      <td>2</td>\n",
       "      <td>91</td>\n",
       "      <td>195</td>\n",
       "      <td>14</td>\n",
       "      <td>16331452</td>\n",
       "    </tr>\n",
       "    <tr>\n",
       "      <th>6</th>\n",
       "      <td>7</td>\n",
       "      <td>9/8/11</td>\n",
       "      <td>25</td>\n",
       "      <td>14.0</td>\n",
       "      <td>10.0</td>\n",
       "      <td>Investment</td>\n",
       "      <td>Sokol'niki</td>\n",
       "      <td>1.032047e+07</td>\n",
       "      <td>57405</td>\n",
       "      <td>0.523439</td>\n",
       "      <td>...</td>\n",
       "      <td>81</td>\n",
       "      <td>16</td>\n",
       "      <td>3</td>\n",
       "      <td>38</td>\n",
       "      <td>80</td>\n",
       "      <td>1</td>\n",
       "      <td>27</td>\n",
       "      <td>127</td>\n",
       "      <td>8</td>\n",
       "      <td>5500000</td>\n",
       "    </tr>\n",
       "    <tr>\n",
       "      <th>7</th>\n",
       "      <td>8</td>\n",
       "      <td>9/9/11</td>\n",
       "      <td>44</td>\n",
       "      <td>44.0</td>\n",
       "      <td>5.0</td>\n",
       "      <td>Investment</td>\n",
       "      <td>Bibirevo</td>\n",
       "      <td>6.407578e+06</td>\n",
       "      <td>155572</td>\n",
       "      <td>0.189727</td>\n",
       "      <td>...</td>\n",
       "      <td>9</td>\n",
       "      <td>4</td>\n",
       "      <td>0</td>\n",
       "      <td>11</td>\n",
       "      <td>18</td>\n",
       "      <td>1</td>\n",
       "      <td>0</td>\n",
       "      <td>47</td>\n",
       "      <td>4</td>\n",
       "      <td>2000000</td>\n",
       "    </tr>\n",
       "  </tbody>\n",
       "</table>\n",
       "<p>5 rows × 286 columns</p>\n",
       "</div>"
      ],
      "text/plain": [
       "   id timestamp  full_sq  life_sq  floor product_type           sub_area  \\\n",
       "1   2   8/23/11       34     19.0    3.0   Investment  Nagatinskij Zaton   \n",
       "2   3   8/27/11       43     29.0    2.0   Investment     Tekstil'shhiki   \n",
       "4   5    9/5/11       77     77.0    4.0   Investment          Basmannoe   \n",
       "6   7    9/8/11       25     14.0   10.0   Investment         Sokol'niki   \n",
       "7   8    9/9/11       44     44.0    5.0   Investment           Bibirevo   \n",
       "\n",
       "         area_m  raion_popul  green_zone_part    ...      \\\n",
       "1  9.589337e+06       115352         0.372602    ...       \n",
       "2  4.808270e+06       101708         0.112560    ...       \n",
       "4  8.398461e+06       108171         0.015234    ...       \n",
       "6  1.032047e+07        57405         0.523439    ...       \n",
       "7  6.407578e+06       155572         0.189727    ...       \n",
       "\n",
       "   cafe_count_5000_price_2500  cafe_count_5000_price_4000  \\\n",
       "1                          15                           3   \n",
       "2                          10                           3   \n",
       "4                         319                         108   \n",
       "6                          81                          16   \n",
       "7                           9                           4   \n",
       "\n",
       "   cafe_count_5000_price_high  big_church_count_5000  church_count_5000  \\\n",
       "1                           0                     15                 29   \n",
       "2                           0                     11                 27   \n",
       "4                          17                    135                236   \n",
       "6                           3                     38                 80   \n",
       "7                           0                     11                 18   \n",
       "\n",
       "   mosque_count_5000  leisure_count_5000  sport_count_5000  market_count_5000  \\\n",
       "1                  1                  10                66                 14   \n",
       "2                  0                   4                67                 10   \n",
       "4                  2                  91               195                 14   \n",
       "6                  1                  27               127                  8   \n",
       "7                  1                   0                47                  4   \n",
       "\n",
       "   price_doc  \n",
       "1    6000000  \n",
       "2    5700000  \n",
       "4   16331452  \n",
       "6    5500000  \n",
       "7    2000000  \n",
       "\n",
       "[5 rows x 286 columns]"
      ]
     },
     "execution_count": 2,
     "metadata": {},
     "output_type": "execute_result"
    }
   ],
   "source": [
    "house_data = pd.DataFrame(pd.read_csv(\"train_v2.csv\"))\n",
    "get_data = house_data\n",
    "get_data.dropna(inplace=True)\n",
    "\n",
    "get_data.head()"
   ]
  },
  {
   "cell_type": "code",
   "execution_count": 3,
   "metadata": {},
   "outputs": [
    {
     "data": {
      "text/html": [
       "<div>\n",
       "<style>\n",
       "    .dataframe thead tr:only-child th {\n",
       "        text-align: right;\n",
       "    }\n",
       "\n",
       "    .dataframe thead th {\n",
       "        text-align: left;\n",
       "    }\n",
       "\n",
       "    .dataframe tbody tr th {\n",
       "        vertical-align: top;\n",
       "    }\n",
       "</style>\n",
       "<table border=\"1\" class=\"dataframe\">\n",
       "  <thead>\n",
       "    <tr style=\"text-align: right;\">\n",
       "      <th></th>\n",
       "      <th>id</th>\n",
       "      <th>full_sq</th>\n",
       "      <th>life_sq</th>\n",
       "      <th>floor</th>\n",
       "      <th>area_m</th>\n",
       "      <th>raion_popul</th>\n",
       "      <th>green_zone_part</th>\n",
       "      <th>indust_part</th>\n",
       "      <th>children_preschool</th>\n",
       "      <th>preschool_quota</th>\n",
       "      <th>...</th>\n",
       "      <th>water_1line_yes</th>\n",
       "      <th>big_road1_1line_no</th>\n",
       "      <th>big_road1_1line_yes</th>\n",
       "      <th>railroad_1line_no</th>\n",
       "      <th>railroad_1line_yes</th>\n",
       "      <th>ecology_excellent</th>\n",
       "      <th>ecology_good</th>\n",
       "      <th>ecology_no data</th>\n",
       "      <th>ecology_poor</th>\n",
       "      <th>ecology_satisfactory</th>\n",
       "    </tr>\n",
       "  </thead>\n",
       "  <tbody>\n",
       "    <tr>\n",
       "      <th>1</th>\n",
       "      <td>2</td>\n",
       "      <td>34</td>\n",
       "      <td>19.0</td>\n",
       "      <td>3.0</td>\n",
       "      <td>9.589337e+06</td>\n",
       "      <td>115352</td>\n",
       "      <td>0.372602</td>\n",
       "      <td>0.049637</td>\n",
       "      <td>6880</td>\n",
       "      <td>3119.0</td>\n",
       "      <td>...</td>\n",
       "      <td>0</td>\n",
       "      <td>1</td>\n",
       "      <td>0</td>\n",
       "      <td>1</td>\n",
       "      <td>0</td>\n",
       "      <td>1</td>\n",
       "      <td>0</td>\n",
       "      <td>0</td>\n",
       "      <td>0</td>\n",
       "      <td>0</td>\n",
       "    </tr>\n",
       "    <tr>\n",
       "      <th>2</th>\n",
       "      <td>3</td>\n",
       "      <td>43</td>\n",
       "      <td>29.0</td>\n",
       "      <td>2.0</td>\n",
       "      <td>4.808270e+06</td>\n",
       "      <td>101708</td>\n",
       "      <td>0.112560</td>\n",
       "      <td>0.118537</td>\n",
       "      <td>5879</td>\n",
       "      <td>1463.0</td>\n",
       "      <td>...</td>\n",
       "      <td>0</td>\n",
       "      <td>1</td>\n",
       "      <td>0</td>\n",
       "      <td>1</td>\n",
       "      <td>0</td>\n",
       "      <td>0</td>\n",
       "      <td>0</td>\n",
       "      <td>0</td>\n",
       "      <td>1</td>\n",
       "      <td>0</td>\n",
       "    </tr>\n",
       "    <tr>\n",
       "      <th>4</th>\n",
       "      <td>5</td>\n",
       "      <td>77</td>\n",
       "      <td>77.0</td>\n",
       "      <td>4.0</td>\n",
       "      <td>8.398461e+06</td>\n",
       "      <td>108171</td>\n",
       "      <td>0.015234</td>\n",
       "      <td>0.037316</td>\n",
       "      <td>5706</td>\n",
       "      <td>3240.0</td>\n",
       "      <td>...</td>\n",
       "      <td>0</td>\n",
       "      <td>1</td>\n",
       "      <td>0</td>\n",
       "      <td>0</td>\n",
       "      <td>1</td>\n",
       "      <td>1</td>\n",
       "      <td>0</td>\n",
       "      <td>0</td>\n",
       "      <td>0</td>\n",
       "      <td>0</td>\n",
       "    </tr>\n",
       "    <tr>\n",
       "      <th>6</th>\n",
       "      <td>7</td>\n",
       "      <td>25</td>\n",
       "      <td>14.0</td>\n",
       "      <td>10.0</td>\n",
       "      <td>1.032047e+07</td>\n",
       "      <td>57405</td>\n",
       "      <td>0.523439</td>\n",
       "      <td>0.042307</td>\n",
       "      <td>2459</td>\n",
       "      <td>933.0</td>\n",
       "      <td>...</td>\n",
       "      <td>0</td>\n",
       "      <td>1</td>\n",
       "      <td>0</td>\n",
       "      <td>1</td>\n",
       "      <td>0</td>\n",
       "      <td>0</td>\n",
       "      <td>0</td>\n",
       "      <td>0</td>\n",
       "      <td>1</td>\n",
       "      <td>0</td>\n",
       "    </tr>\n",
       "    <tr>\n",
       "      <th>7</th>\n",
       "      <td>8</td>\n",
       "      <td>44</td>\n",
       "      <td>44.0</td>\n",
       "      <td>5.0</td>\n",
       "      <td>6.407578e+06</td>\n",
       "      <td>155572</td>\n",
       "      <td>0.189727</td>\n",
       "      <td>0.000070</td>\n",
       "      <td>9576</td>\n",
       "      <td>5001.0</td>\n",
       "      <td>...</td>\n",
       "      <td>0</td>\n",
       "      <td>1</td>\n",
       "      <td>0</td>\n",
       "      <td>1</td>\n",
       "      <td>0</td>\n",
       "      <td>0</td>\n",
       "      <td>1</td>\n",
       "      <td>0</td>\n",
       "      <td>0</td>\n",
       "      <td>0</td>\n",
       "    </tr>\n",
       "    <tr>\n",
       "      <th>8</th>\n",
       "      <td>9</td>\n",
       "      <td>42</td>\n",
       "      <td>27.0</td>\n",
       "      <td>5.0</td>\n",
       "      <td>4.787424e+06</td>\n",
       "      <td>96959</td>\n",
       "      <td>0.038456</td>\n",
       "      <td>0.122090</td>\n",
       "      <td>6507</td>\n",
       "      <td>3272.0</td>\n",
       "      <td>...</td>\n",
       "      <td>0</td>\n",
       "      <td>1</td>\n",
       "      <td>0</td>\n",
       "      <td>1</td>\n",
       "      <td>0</td>\n",
       "      <td>0</td>\n",
       "      <td>0</td>\n",
       "      <td>0</td>\n",
       "      <td>1</td>\n",
       "      <td>0</td>\n",
       "    </tr>\n",
       "    <tr>\n",
       "      <th>9</th>\n",
       "      <td>10</td>\n",
       "      <td>36</td>\n",
       "      <td>21.0</td>\n",
       "      <td>9.0</td>\n",
       "      <td>5.235177e+07</td>\n",
       "      <td>142462</td>\n",
       "      <td>0.070662</td>\n",
       "      <td>0.035145</td>\n",
       "      <td>9347</td>\n",
       "      <td>4050.0</td>\n",
       "      <td>...</td>\n",
       "      <td>0</td>\n",
       "      <td>1</td>\n",
       "      <td>0</td>\n",
       "      <td>1</td>\n",
       "      <td>0</td>\n",
       "      <td>0</td>\n",
       "      <td>0</td>\n",
       "      <td>0</td>\n",
       "      <td>0</td>\n",
       "      <td>1</td>\n",
       "    </tr>\n",
       "    <tr>\n",
       "      <th>12</th>\n",
       "      <td>13</td>\n",
       "      <td>43</td>\n",
       "      <td>28.0</td>\n",
       "      <td>4.0</td>\n",
       "      <td>5.235177e+07</td>\n",
       "      <td>142462</td>\n",
       "      <td>0.070662</td>\n",
       "      <td>0.035145</td>\n",
       "      <td>9347</td>\n",
       "      <td>4050.0</td>\n",
       "      <td>...</td>\n",
       "      <td>0</td>\n",
       "      <td>1</td>\n",
       "      <td>0</td>\n",
       "      <td>1</td>\n",
       "      <td>0</td>\n",
       "      <td>0</td>\n",
       "      <td>0</td>\n",
       "      <td>0</td>\n",
       "      <td>0</td>\n",
       "      <td>1</td>\n",
       "    </tr>\n",
       "    <tr>\n",
       "      <th>13</th>\n",
       "      <td>14</td>\n",
       "      <td>31</td>\n",
       "      <td>31.0</td>\n",
       "      <td>4.0</td>\n",
       "      <td>1.163805e+07</td>\n",
       "      <td>123280</td>\n",
       "      <td>0.068202</td>\n",
       "      <td>0.042032</td>\n",
       "      <td>7125</td>\n",
       "      <td>3240.0</td>\n",
       "      <td>...</td>\n",
       "      <td>1</td>\n",
       "      <td>1</td>\n",
       "      <td>0</td>\n",
       "      <td>1</td>\n",
       "      <td>0</td>\n",
       "      <td>0</td>\n",
       "      <td>0</td>\n",
       "      <td>0</td>\n",
       "      <td>1</td>\n",
       "      <td>0</td>\n",
       "    </tr>\n",
       "    <tr>\n",
       "      <th>14</th>\n",
       "      <td>15</td>\n",
       "      <td>31</td>\n",
       "      <td>21.0</td>\n",
       "      <td>3.0</td>\n",
       "      <td>8.993640e+06</td>\n",
       "      <td>89971</td>\n",
       "      <td>0.066941</td>\n",
       "      <td>0.306977</td>\n",
       "      <td>4993</td>\n",
       "      <td>1768.0</td>\n",
       "      <td>...</td>\n",
       "      <td>0</td>\n",
       "      <td>1</td>\n",
       "      <td>0</td>\n",
       "      <td>1</td>\n",
       "      <td>0</td>\n",
       "      <td>0</td>\n",
       "      <td>0</td>\n",
       "      <td>0</td>\n",
       "      <td>1</td>\n",
       "      <td>0</td>\n",
       "    </tr>\n",
       "  </tbody>\n",
       "</table>\n",
       "<p>10 rows × 1503 columns</p>\n",
       "</div>"
      ],
      "text/plain": [
       "    id  full_sq  life_sq  floor        area_m  raion_popul  green_zone_part  \\\n",
       "1    2       34     19.0    3.0  9.589337e+06       115352         0.372602   \n",
       "2    3       43     29.0    2.0  4.808270e+06       101708         0.112560   \n",
       "4    5       77     77.0    4.0  8.398461e+06       108171         0.015234   \n",
       "6    7       25     14.0   10.0  1.032047e+07        57405         0.523439   \n",
       "7    8       44     44.0    5.0  6.407578e+06       155572         0.189727   \n",
       "8    9       42     27.0    5.0  4.787424e+06        96959         0.038456   \n",
       "9   10       36     21.0    9.0  5.235177e+07       142462         0.070662   \n",
       "12  13       43     28.0    4.0  5.235177e+07       142462         0.070662   \n",
       "13  14       31     31.0    4.0  1.163805e+07       123280         0.068202   \n",
       "14  15       31     21.0    3.0  8.993640e+06        89971         0.066941   \n",
       "\n",
       "    indust_part  children_preschool  preschool_quota          ...           \\\n",
       "1      0.049637                6880           3119.0          ...            \n",
       "2      0.118537                5879           1463.0          ...            \n",
       "4      0.037316                5706           3240.0          ...            \n",
       "6      0.042307                2459            933.0          ...            \n",
       "7      0.000070                9576           5001.0          ...            \n",
       "8      0.122090                6507           3272.0          ...            \n",
       "9      0.035145                9347           4050.0          ...            \n",
       "12     0.035145                9347           4050.0          ...            \n",
       "13     0.042032                7125           3240.0          ...            \n",
       "14     0.306977                4993           1768.0          ...            \n",
       "\n",
       "    water_1line_yes  big_road1_1line_no  big_road1_1line_yes  \\\n",
       "1                 0                   1                    0   \n",
       "2                 0                   1                    0   \n",
       "4                 0                   1                    0   \n",
       "6                 0                   1                    0   \n",
       "7                 0                   1                    0   \n",
       "8                 0                   1                    0   \n",
       "9                 0                   1                    0   \n",
       "12                0                   1                    0   \n",
       "13                1                   1                    0   \n",
       "14                0                   1                    0   \n",
       "\n",
       "    railroad_1line_no  railroad_1line_yes  ecology_excellent  ecology_good  \\\n",
       "1                   1                   0                  1             0   \n",
       "2                   1                   0                  0             0   \n",
       "4                   0                   1                  1             0   \n",
       "6                   1                   0                  0             0   \n",
       "7                   1                   0                  0             1   \n",
       "8                   1                   0                  0             0   \n",
       "9                   1                   0                  0             0   \n",
       "12                  1                   0                  0             0   \n",
       "13                  1                   0                  0             0   \n",
       "14                  1                   0                  0             0   \n",
       "\n",
       "    ecology_no data  ecology_poor  ecology_satisfactory  \n",
       "1                 0             0                     0  \n",
       "2                 0             1                     0  \n",
       "4                 0             0                     0  \n",
       "6                 0             1                     0  \n",
       "7                 0             0                     0  \n",
       "8                 0             1                     0  \n",
       "9                 0             0                     1  \n",
       "12                0             0                     1  \n",
       "13                0             1                     0  \n",
       "14                0             1                     0  \n",
       "\n",
       "[10 rows x 1503 columns]"
      ]
     },
     "execution_count": 3,
     "metadata": {},
     "output_type": "execute_result"
    }
   ],
   "source": [
    "#One Hot Encoding \n",
    "\n",
    "#Used OneHotEncoding on Non-Numerical Features\n",
    "\n",
    "list_nonNumerical = ['timestamp','product_type', 'sub_area', 'culture_objects_top_25','thermal_power_plant_raion', 'incineration_raion','oil_chemistry_raion','radiation_raion','railroad_terminal_raion','big_market_raion','nuclear_reactor_raion'\n",
    "                    , 'detention_facility_raion','water_1line','big_road1_1line','railroad_1line', 'ecology']\n",
    "\n",
    "dummies = pd.get_dummies(get_data, columns = list_nonNumerical)\n",
    "dummies.head(10)\n",
    "\n",
    "# dummies.shape"
   ]
  },
  {
   "cell_type": "code",
   "execution_count": 4,
   "metadata": {
    "collapsed": true
   },
   "outputs": [],
   "source": [
    "#Here we set up our X and y values:\n",
    "#df.drop('b', axis=1)\n",
    "features = list(dummies)\n",
    "\n",
    "X = dummies[features[:-1]]\n",
    "y = dummies['price_doc']\n",
    "\n",
    "# X.shape\n",
    "# y.shape\n"
   ]
  },
  {
   "cell_type": "code",
   "execution_count": 5,
   "metadata": {},
   "outputs": [
    {
     "data": {
      "text/plain": [
       "array([[   522974.63567732,  -2240038.68059744,   -260495.33965485, ...,\n",
       "           -72567.7588873 ,   -112272.55865164,    -69451.9626853 ],\n",
       "       [ -3869746.04312012,  -3734957.90534784,   1650876.23752903, ...,\n",
       "           149200.93795677,   -198346.55858932,     60214.06272895],\n",
       "       [ -3502818.73119061,   8476596.33482174,  -5167916.61287544, ...,\n",
       "           194897.96232073,    751731.14634203,   -254939.70331247],\n",
       "       ..., \n",
       "       [ -6453346.93363358,  16900222.48411695,  -5433095.61014937, ...,\n",
       "           709971.86565572,   -136271.27385883,   -599178.10988098],\n",
       "       [ -4136253.71954875,   4062865.61580253,   2852744.58025314, ...,\n",
       "          -110486.41466143,     24488.2638155 ,    -17489.88922134],\n",
       "       [ -4097294.94168963,  -4078167.75627989,   2774944.10983559, ...,\n",
       "          -100398.67733407,    259244.4351732 ,    -78759.95072632]])"
      ]
     },
     "execution_count": 5,
     "metadata": {},
     "output_type": "execute_result"
    }
   ],
   "source": [
    "#Used the PCA Algorithm \n",
    "n = 10\n",
    "\n",
    "my_pca = PCA(n_components = n)\n",
    "\n",
    "X_PCA = my_pca.fit_transform(X)\n",
    "\n",
    "X_PCA\n"
   ]
  },
  {
   "cell_type": "code",
   "execution_count": 6,
   "metadata": {},
   "outputs": [
    {
     "data": {
      "text/html": [
       "<div>\n",
       "<style>\n",
       "    .dataframe thead tr:only-child th {\n",
       "        text-align: right;\n",
       "    }\n",
       "\n",
       "    .dataframe thead th {\n",
       "        text-align: left;\n",
       "    }\n",
       "\n",
       "    .dataframe tbody tr th {\n",
       "        vertical-align: top;\n",
       "    }\n",
       "</style>\n",
       "<table border=\"1\" class=\"dataframe\">\n",
       "  <thead>\n",
       "    <tr style=\"text-align: right;\">\n",
       "      <th></th>\n",
       "      <th>0</th>\n",
       "      <th>1</th>\n",
       "      <th>2</th>\n",
       "      <th>3</th>\n",
       "      <th>4</th>\n",
       "      <th>5</th>\n",
       "      <th>6</th>\n",
       "      <th>7</th>\n",
       "      <th>8</th>\n",
       "      <th>9</th>\n",
       "    </tr>\n",
       "  </thead>\n",
       "  <tbody>\n",
       "    <tr>\n",
       "      <th>0</th>\n",
       "      <td>5.229746e+05</td>\n",
       "      <td>-2.240039e+06</td>\n",
       "      <td>-2.604953e+05</td>\n",
       "      <td>1.902124e+05</td>\n",
       "      <td>3.404426e+05</td>\n",
       "      <td>-336725.444543</td>\n",
       "      <td>17953.493539</td>\n",
       "      <td>-7.256776e+04</td>\n",
       "      <td>-112272.558652</td>\n",
       "      <td>-69451.962685</td>\n",
       "    </tr>\n",
       "    <tr>\n",
       "      <th>1</th>\n",
       "      <td>-3.869746e+06</td>\n",
       "      <td>-3.734958e+06</td>\n",
       "      <td>1.650876e+06</td>\n",
       "      <td>-9.483141e+04</td>\n",
       "      <td>4.624572e+05</td>\n",
       "      <td>-352027.543251</td>\n",
       "      <td>204022.511090</td>\n",
       "      <td>1.492009e+05</td>\n",
       "      <td>-198346.558589</td>\n",
       "      <td>60214.062729</td>\n",
       "    </tr>\n",
       "    <tr>\n",
       "      <th>2</th>\n",
       "      <td>-3.502819e+06</td>\n",
       "      <td>8.476596e+06</td>\n",
       "      <td>-5.167917e+06</td>\n",
       "      <td>4.710793e+05</td>\n",
       "      <td>-2.502151e+05</td>\n",
       "      <td>-77541.554652</td>\n",
       "      <td>-423918.353848</td>\n",
       "      <td>1.948980e+05</td>\n",
       "      <td>751731.146342</td>\n",
       "      <td>-254939.703312</td>\n",
       "    </tr>\n",
       "    <tr>\n",
       "      <th>3</th>\n",
       "      <td>1.222406e+06</td>\n",
       "      <td>-2.452235e+06</td>\n",
       "      <td>-1.261412e+06</td>\n",
       "      <td>-3.185738e+05</td>\n",
       "      <td>-1.706780e+05</td>\n",
       "      <td>-35667.571642</td>\n",
       "      <td>-36087.234071</td>\n",
       "      <td>1.378964e+05</td>\n",
       "      <td>122769.636230</td>\n",
       "      <td>183236.957997</td>\n",
       "    </tr>\n",
       "    <tr>\n",
       "      <th>4</th>\n",
       "      <td>-1.584171e+06</td>\n",
       "      <td>-7.036478e+06</td>\n",
       "      <td>1.176617e+06</td>\n",
       "      <td>1.000827e+06</td>\n",
       "      <td>-3.381265e+05</td>\n",
       "      <td>-45184.361433</td>\n",
       "      <td>-249624.348046</td>\n",
       "      <td>-7.847332e+04</td>\n",
       "      <td>506598.754001</td>\n",
       "      <td>-96516.931651</td>\n",
       "    </tr>\n",
       "    <tr>\n",
       "      <th>5</th>\n",
       "      <td>-3.929911e+06</td>\n",
       "      <td>-3.992650e+06</td>\n",
       "      <td>6.665157e+05</td>\n",
       "      <td>-7.290286e+05</td>\n",
       "      <td>2.184929e+05</td>\n",
       "      <td>-245348.597197</td>\n",
       "      <td>-43546.515127</td>\n",
       "      <td>-2.064261e+05</td>\n",
       "      <td>191244.794971</td>\n",
       "      <td>-89482.770404</td>\n",
       "    </tr>\n",
       "    <tr>\n",
       "      <th>6</th>\n",
       "      <td>4.309386e+07</td>\n",
       "      <td>2.551357e+06</td>\n",
       "      <td>-3.685992e+06</td>\n",
       "      <td>4.913350e+05</td>\n",
       "      <td>-1.453054e+05</td>\n",
       "      <td>-151198.775821</td>\n",
       "      <td>260780.845927</td>\n",
       "      <td>-3.818248e+05</td>\n",
       "      <td>94298.571136</td>\n",
       "      <td>-101840.339993</td>\n",
       "    </tr>\n",
       "    <tr>\n",
       "      <th>7</th>\n",
       "      <td>4.251222e+07</td>\n",
       "      <td>5.540991e+06</td>\n",
       "      <td>-3.148782e+06</td>\n",
       "      <td>5.392194e+05</td>\n",
       "      <td>-8.491668e+05</td>\n",
       "      <td>189453.741679</td>\n",
       "      <td>-387878.146111</td>\n",
       "      <td>9.015592e+04</td>\n",
       "      <td>11296.908011</td>\n",
       "      <td>33993.591195</td>\n",
       "    </tr>\n",
       "    <tr>\n",
       "      <th>8</th>\n",
       "      <td>1.738262e+06</td>\n",
       "      <td>-1.593975e+06</td>\n",
       "      <td>-7.604574e+06</td>\n",
       "      <td>-6.388569e+05</td>\n",
       "      <td>-1.412798e+06</td>\n",
       "      <td>690538.688292</td>\n",
       "      <td>725000.082643</td>\n",
       "      <td>1.474103e+06</td>\n",
       "      <td>444100.875174</td>\n",
       "      <td>-455029.466911</td>\n",
       "    </tr>\n",
       "    <tr>\n",
       "      <th>9</th>\n",
       "      <td>-1.348806e+05</td>\n",
       "      <td>-3.038460e+06</td>\n",
       "      <td>-2.372577e+06</td>\n",
       "      <td>2.225908e+05</td>\n",
       "      <td>8.057899e+05</td>\n",
       "      <td>-457117.964067</td>\n",
       "      <td>-518620.893782</td>\n",
       "      <td>2.994730e+05</td>\n",
       "      <td>-12080.382552</td>\n",
       "      <td>37029.489999</td>\n",
       "    </tr>\n",
       "  </tbody>\n",
       "</table>\n",
       "</div>"
      ],
      "text/plain": [
       "              0             1             2             3             4  \\\n",
       "0  5.229746e+05 -2.240039e+06 -2.604953e+05  1.902124e+05  3.404426e+05   \n",
       "1 -3.869746e+06 -3.734958e+06  1.650876e+06 -9.483141e+04  4.624572e+05   \n",
       "2 -3.502819e+06  8.476596e+06 -5.167917e+06  4.710793e+05 -2.502151e+05   \n",
       "3  1.222406e+06 -2.452235e+06 -1.261412e+06 -3.185738e+05 -1.706780e+05   \n",
       "4 -1.584171e+06 -7.036478e+06  1.176617e+06  1.000827e+06 -3.381265e+05   \n",
       "5 -3.929911e+06 -3.992650e+06  6.665157e+05 -7.290286e+05  2.184929e+05   \n",
       "6  4.309386e+07  2.551357e+06 -3.685992e+06  4.913350e+05 -1.453054e+05   \n",
       "7  4.251222e+07  5.540991e+06 -3.148782e+06  5.392194e+05 -8.491668e+05   \n",
       "8  1.738262e+06 -1.593975e+06 -7.604574e+06 -6.388569e+05 -1.412798e+06   \n",
       "9 -1.348806e+05 -3.038460e+06 -2.372577e+06  2.225908e+05  8.057899e+05   \n",
       "\n",
       "               5              6             7              8              9  \n",
       "0 -336725.444543   17953.493539 -7.256776e+04 -112272.558652  -69451.962685  \n",
       "1 -352027.543251  204022.511090  1.492009e+05 -198346.558589   60214.062729  \n",
       "2  -77541.554652 -423918.353848  1.948980e+05  751731.146342 -254939.703312  \n",
       "3  -35667.571642  -36087.234071  1.378964e+05  122769.636230  183236.957997  \n",
       "4  -45184.361433 -249624.348046 -7.847332e+04  506598.754001  -96516.931651  \n",
       "5 -245348.597197  -43546.515127 -2.064261e+05  191244.794971  -89482.770404  \n",
       "6 -151198.775821  260780.845927 -3.818248e+05   94298.571136 -101840.339993  \n",
       "7  189453.741679 -387878.146111  9.015592e+04   11296.908011   33993.591195  \n",
       "8  690538.688292  725000.082643  1.474103e+06  444100.875174 -455029.466911  \n",
       "9 -457117.964067 -518620.893782  2.994730e+05  -12080.382552   37029.489999  "
      ]
     },
     "execution_count": 6,
     "metadata": {},
     "output_type": "execute_result"
    }
   ],
   "source": [
    "#Stored my result from PCA into a new DataFrame\n",
    "Print_X = pd.DataFrame(X_PCA)\n",
    "\n",
    "Print_X.head(10)"
   ]
  },
  {
   "cell_type": "code",
   "execution_count": 7,
   "metadata": {
    "collapsed": true
   },
   "outputs": [],
   "source": [
    "#Here we store the new DataFrame into a new variable\n",
    "X_2 = Print_X\n"
   ]
  },
  {
   "cell_type": "code",
   "execution_count": 8,
   "metadata": {},
   "outputs": [
    {
     "name": "stdout",
     "output_type": "stream",
     "text": [
      "(6720, 10)\n",
      "(6720,)\n",
      "(2881, 10)\n",
      "(2881,)\n"
     ]
    }
   ],
   "source": [
    "#Split our dataset: Testing = 30% and Training = 70%\n",
    "X_train, X_test, y_train, y_test = train_test_split(X_2, y, test_size=0.3, random_state=2)\n",
    "\n",
    "# print the size of the traning set:\n",
    "print(X_train.shape)\n",
    "print(y_train.shape)\n",
    "\n",
    "# print the size of the testing set:\n",
    "print(X_test.shape)\n",
    "print(y_test.shape)"
   ]
  },
  {
   "cell_type": "code",
   "execution_count": 9,
   "metadata": {},
   "outputs": [
    {
     "data": {
      "text/plain": [
       "LinearRegression(copy_X=True, fit_intercept=True, n_jobs=1, normalize=False)"
      ]
     },
     "execution_count": 9,
     "metadata": {},
     "output_type": "execute_result"
    }
   ],
   "source": [
    "# In the following line, \"my_linreg\" is instantiated as an \"object\" of LinearRegression \"class\". \n",
    "\n",
    "my_linreg = LinearRegression()\n",
    "\n",
    "# fitting the model to the training data:\n",
    "my_linreg.fit(X_train, y_train)"
   ]
  },
  {
   "cell_type": "code",
   "execution_count": 10,
   "metadata": {},
   "outputs": [
    {
     "name": "stdout",
     "output_type": "stream",
     "text": [
      "8313060.40238\n",
      "[ -1.89730215e-01   9.67863841e-01   1.64744324e-01   1.55940184e-03\n",
      "  -8.55027101e-03   2.19116774e-03  -7.93256115e-04   7.05908152e-04\n",
      "  -3.70292983e-03  -2.28962267e-03]\n"
     ]
    }
   ],
   "source": [
    "# printing Theta0 using attribute \"intercept_\":\n",
    "print(my_linreg.intercept_)\n",
    "\n",
    "# printing [Theta1, Theta2, Theta3, etc..] using attribute \"coef_\":\n",
    "print(my_linreg.coef_)"
   ]
  },
  {
   "cell_type": "code",
   "execution_count": 11,
   "metadata": {},
   "outputs": [
    {
     "name": "stdout",
     "output_type": "stream",
     "text": [
      "[ 2000027.3379161   6565816.35714317  6349952.13836682 ...,\n",
      "  5249988.16468759  8799996.88853882  4800034.02487139]\n"
     ]
    }
   ],
   "source": [
    "# make predictions on the testing set\n",
    "y_prediction = my_linreg.predict(X_test)\n",
    "\n",
    "print(y_prediction)"
   ]
  },
  {
   "cell_type": "code",
   "execution_count": 12,
   "metadata": {},
   "outputs": [
    {
     "name": "stdout",
     "output_type": "stream",
     "text": [
      "65.2652979874\n"
     ]
    }
   ],
   "source": [
    "# Calculating \"Mean Square Error\" (MSE):\n",
    "mse = metrics.mean_squared_error(y_test, y_prediction)\n",
    "\n",
    "# Using numpy sqrt function to take the square root and calculate \"Root Mean Square Error\" (RMSE)\n",
    "rmse_pricedoc_Target = np.sqrt(mse)\n",
    "\n",
    "print(rmse_pricedoc_Target)"
   ]
  },
  {
   "cell_type": "code",
   "execution_count": 13,
   "metadata": {
    "collapsed": true
   },
   "outputs": [],
   "source": [
    "#Now we use Decision Tree on our splitting data\n",
    "\n",
    "#I instantiate my decision tree classifier and assign it to a variable:\n",
    "my_DecisionTree = DecisionTreeClassifier(random_state=2)"
   ]
  },
  {
   "cell_type": "code",
   "execution_count": 14,
   "metadata": {},
   "outputs": [
    {
     "data": {
      "text/plain": [
       "DecisionTreeClassifier(class_weight=None, criterion='gini', max_depth=None,\n",
       "            max_features=None, max_leaf_nodes=None,\n",
       "            min_impurity_decrease=0.0, min_impurity_split=None,\n",
       "            min_samples_leaf=1, min_samples_split=2,\n",
       "            min_weight_fraction_leaf=0.0, presort=False, random_state=2,\n",
       "            splitter='best')"
      ]
     },
     "execution_count": 14,
     "metadata": {},
     "output_type": "execute_result"
    }
   ],
   "source": [
    "# Training on the training set:\n",
    "my_DecisionTree.fit(X_train, y_train)"
   ]
  },
  {
   "cell_type": "code",
   "execution_count": 15,
   "metadata": {},
   "outputs": [
    {
     "name": "stdout",
     "output_type": "stream",
     "text": [
      "Predicated Labels: \n",
      "[ 990000 6559300 6600000 ..., 5250000 8200000 4550000]\n"
     ]
    }
   ],
   "source": [
    "# Testing on the testing set:\n",
    "y_predict_dt = my_DecisionTree.predict(X_test)\n",
    "\n",
    "print(\"Predicated Labels: \")\n",
    "print(y_predict_dt)"
   ]
  },
  {
   "cell_type": "code",
   "execution_count": 16,
   "metadata": {},
   "outputs": [
    {
     "name": "stdout",
     "output_type": "stream",
     "text": [
      "Accuracy using Decision Tree: \n",
      "0.230128427629\n"
     ]
    }
   ],
   "source": [
    "# We can now compare the \"\"predicted labels\" for the Testing Set with its \"actual labels\" to evaluate the accuracy\n",
    "#Using Decision Tree\n",
    "score_dt = accuracy_score(y_test, y_predict_dt)\n",
    "\n",
    "print(\"Accuracy using Decision Tree: \")\n",
    "print(score_dt)"
   ]
  },
  {
   "cell_type": "code",
   "execution_count": 17,
   "metadata": {
    "collapsed": true
   },
   "outputs": [],
   "source": [
    "#Instantiate KNN\n",
    "my_knn = KNeighborsClassifier(n_neighbors=20)"
   ]
  },
  {
   "cell_type": "code",
   "execution_count": 18,
   "metadata": {},
   "outputs": [
    {
     "data": {
      "text/plain": [
       "KNeighborsClassifier(algorithm='auto', leaf_size=30, metric='minkowski',\n",
       "           metric_params=None, n_jobs=1, n_neighbors=20, p=2,\n",
       "           weights='uniform')"
      ]
     },
     "execution_count": 18,
     "metadata": {},
     "output_type": "execute_result"
    }
   ],
   "source": [
    "my_knn.fit(X_train, y_train)"
   ]
  },
  {
   "cell_type": "code",
   "execution_count": 19,
   "metadata": {},
   "outputs": [
    {
     "name": "stdout",
     "output_type": "stream",
     "text": [
      "Predicated Labels: \n",
      "[2000000 6234154 5700000 ..., 5400000 7300000 5500000]\n"
     ]
    }
   ],
   "source": [
    "# Testing on the testing set:\n",
    "y_predict_knn = my_knn.predict(X_test)\n",
    "\n",
    "print(\"Predicated Labels: \")\n",
    "print(y_predict_knn)"
   ]
  },
  {
   "cell_type": "code",
   "execution_count": 20,
   "metadata": {},
   "outputs": [
    {
     "name": "stdout",
     "output_type": "stream",
     "text": [
      "0.143005900729\n"
     ]
    }
   ],
   "source": [
    "# We can now compare the \"\"predicted labels\" for the Testing Set with its \"actual labels\" to evaluate the accuracy\n",
    "#Using Decision Tree\n",
    "score_knn = accuracy_score(y_test, y_predict_knn)\n",
    "\n",
    "print(score_knn)"
   ]
  },
  {
   "cell_type": "code",
   "execution_count": 21,
   "metadata": {
    "collapsed": true
   },
   "outputs": [],
   "source": [
    "#Using Random Forest Classifier\n",
    "my_RandomForest = RandomForestClassifier(n_estimators = 19, bootstrap = True, random_state=2)\n"
   ]
  },
  {
   "cell_type": "code",
   "execution_count": 22,
   "metadata": {},
   "outputs": [
    {
     "data": {
      "text/plain": [
       "RandomForestClassifier(bootstrap=True, class_weight=None, criterion='gini',\n",
       "            max_depth=None, max_features='auto', max_leaf_nodes=None,\n",
       "            min_impurity_decrease=0.0, min_impurity_split=None,\n",
       "            min_samples_leaf=1, min_samples_split=2,\n",
       "            min_weight_fraction_leaf=0.0, n_estimators=19, n_jobs=1,\n",
       "            oob_score=False, random_state=2, verbose=0, warm_start=False)"
      ]
     },
     "execution_count": 22,
     "metadata": {},
     "output_type": "execute_result"
    }
   ],
   "source": [
    "# Training on the training set:\n",
    "my_RandomForest.fit(X_train, y_train)"
   ]
  },
  {
   "cell_type": "code",
   "execution_count": 23,
   "metadata": {},
   "outputs": [
    {
     "name": "stdout",
     "output_type": "stream",
     "text": [
      "Predicated Labels: \n",
      "[1000000 6559300 6900000 ..., 5200000 8200000 4700000]\n"
     ]
    }
   ],
   "source": [
    "# Testing on the testing set:\n",
    "y_predict_rf = my_RandomForest.predict(X_test)\n",
    "\n",
    "print(\"Predicated Labels: \")\n",
    "print(y_predict_rf)"
   ]
  },
  {
   "cell_type": "code",
   "execution_count": 24,
   "metadata": {},
   "outputs": [
    {
     "name": "stdout",
     "output_type": "stream",
     "text": [
      "Accuracy using Random Forest: \n",
      "0.192988545644\n"
     ]
    }
   ],
   "source": [
    "# We can now compare the \"predicted labels\" for the Testing Set with its \"actual labels\" to evaluate the accuracy\n",
    "#Using Random Forest\n",
    "score_rf = accuracy_score(y_test, y_predict_rf)\n",
    "\n",
    "print(\"Accuracy using Random Forest: \")\n",
    "print(score_rf)"
   ]
  },
  {
   "cell_type": "code",
   "execution_count": 25,
   "metadata": {},
   "outputs": [
    {
     "name": "stdout",
     "output_type": "stream",
     "text": [
      "[-3785.45722507 -4279.59281636 -4884.74446344 -3978.61878521 -3986.90180848\n",
      " -4469.79808576 -4325.46707233 -4196.61491714 -4062.63109123 -5292.78267936]\n"
     ]
    }
   ],
   "source": [
    "# Applying 10-fold cross validation with \"linear regression\":\n",
    "\n",
    "# In the following line, \"my_linreg\" is instantiated as an \"object\" of LinearRegression \"class\". \n",
    "my_linreg_cv = LinearRegression()\n",
    "\n",
    "mse_list = cross_val_score(my_linreg_cv, X_2, y, cv=10, scoring='neg_mean_squared_error')\n",
    "\n",
    "print(mse_list)"
   ]
  },
  {
   "cell_type": "code",
   "execution_count": 26,
   "metadata": {},
   "outputs": [
    {
     "name": "stdout",
     "output_type": "stream",
     "text": [
      "[ 61.52606948  65.41859687  69.89094693  63.07629337  63.141918\n",
      "  66.85654856  65.76828318  64.78128524  63.73877228  72.75151324]\n"
     ]
    }
   ],
   "source": [
    "mse_list_positive = -mse_list\n",
    "\n",
    "# using numpy sqrt function to calculate rmse:\n",
    "rmse_list = np.sqrt(mse_list_positive)\n",
    "print(rmse_list)"
   ]
  },
  {
   "cell_type": "code",
   "execution_count": 27,
   "metadata": {},
   "outputs": [
    {
     "name": "stdout",
     "output_type": "stream",
     "text": [
      "65.6950227148\n"
     ]
    }
   ],
   "source": [
    "# calculate the average RMSE as final result of cross validation:\n",
    "print(rmse_list.mean())"
   ]
  },
  {
   "cell_type": "markdown",
   "metadata": {},
   "source": [
    "# We try algorithms without PCA"
   ]
  },
  {
   "cell_type": "code",
   "execution_count": 28,
   "metadata": {},
   "outputs": [
    {
     "name": "stdout",
     "output_type": "stream",
     "text": [
      "(6720, 1502)\n",
      "(6720,)\n",
      "(2881, 1502)\n",
      "(2881,)\n"
     ]
    }
   ],
   "source": [
    "#Split our dataset: Testing = 30% and Training = 70%\n",
    "X_train_2, X_test_2, y_train_2, y_test_2 = train_test_split(X, y, test_size=0.3, random_state=2)\n",
    "\n",
    "# print the size of the traning set:\n",
    "print(X_train_2.shape)\n",
    "print(y_train_2.shape)\n",
    "\n",
    "# print the size of the testing set:\n",
    "print(X_test_2.shape)\n",
    "print(y_test_2.shape)"
   ]
  },
  {
   "cell_type": "code",
   "execution_count": 29,
   "metadata": {
    "collapsed": true
   },
   "outputs": [],
   "source": [
    "#Now we use Decision Tree on our splitting data\n",
    "\n",
    "#I instantiate my decision tree classifier and assign it to a variable:\n",
    "my_DecisionTree_2 = DecisionTreeClassifier(random_state=2)"
   ]
  },
  {
   "cell_type": "code",
   "execution_count": 30,
   "metadata": {},
   "outputs": [
    {
     "data": {
      "text/plain": [
       "DecisionTreeClassifier(class_weight=None, criterion='gini', max_depth=None,\n",
       "            max_features=None, max_leaf_nodes=None,\n",
       "            min_impurity_decrease=0.0, min_impurity_split=None,\n",
       "            min_samples_leaf=1, min_samples_split=2,\n",
       "            min_weight_fraction_leaf=0.0, presort=False, random_state=2,\n",
       "            splitter='best')"
      ]
     },
     "execution_count": 30,
     "metadata": {},
     "output_type": "execute_result"
    }
   ],
   "source": [
    "# Training on the training set:\n",
    "my_DecisionTree_2.fit(X_train_2, y_train_2)"
   ]
  },
  {
   "cell_type": "code",
   "execution_count": 31,
   "metadata": {},
   "outputs": [
    {
     "name": "stdout",
     "output_type": "stream",
     "text": [
      "Predicated Labels: \n",
      "[2000000 6559300 6350000 ..., 5250000 8800000 4800000]\n"
     ]
    }
   ],
   "source": [
    "# Testing on the testing set:\n",
    "y_predict_dt_2 = my_DecisionTree_2.predict(X_test_2)\n",
    "\n",
    "print(\"Predicated Labels: \")\n",
    "print(y_predict_dt_2)"
   ]
  },
  {
   "cell_type": "code",
   "execution_count": 32,
   "metadata": {},
   "outputs": [
    {
     "name": "stdout",
     "output_type": "stream",
     "text": [
      "0.790697674419\n"
     ]
    }
   ],
   "source": [
    "# We can now compare the \"\"predicted labels\" for the Testing Set with its \"actual labels\" to evaluate the accuracy\n",
    "#Using Decision Tree\n",
    "score_dt_2 = accuracy_score(y_test_2, y_predict_dt_2)\n",
    "\n",
    "print(score_dt_2)"
   ]
  },
  {
   "cell_type": "code",
   "execution_count": 33,
   "metadata": {
    "collapsed": true
   },
   "outputs": [],
   "source": [
    "#Instantiate KNN\n",
    "my_knn_2 = KNeighborsClassifier(n_neighbors=20)"
   ]
  },
  {
   "cell_type": "code",
   "execution_count": 34,
   "metadata": {},
   "outputs": [
    {
     "data": {
      "text/plain": [
       "KNeighborsClassifier(algorithm='auto', leaf_size=30, metric='minkowski',\n",
       "           metric_params=None, n_jobs=1, n_neighbors=20, p=2,\n",
       "           weights='uniform')"
      ]
     },
     "execution_count": 34,
     "metadata": {},
     "output_type": "execute_result"
    }
   ],
   "source": [
    "#Fit our Knn with our trianing data: \n",
    "my_knn_2.fit(X_train_2, y_train_2)"
   ]
  },
  {
   "cell_type": "code",
   "execution_count": 35,
   "metadata": {},
   "outputs": [
    {
     "name": "stdout",
     "output_type": "stream",
     "text": [
      "Predicated Labels: \n",
      "[2000000 6234154 5700000 ..., 5400000 7300000 5500000]\n"
     ]
    }
   ],
   "source": [
    "# Testing on the testing set:\n",
    "y_predict_knn_2 = my_knn_2.predict(X_test_2)\n",
    "\n",
    "print(\"Predicated Labels: \")\n",
    "print(y_predict_knn_2)"
   ]
  },
  {
   "cell_type": "code",
   "execution_count": 36,
   "metadata": {},
   "outputs": [
    {
     "name": "stdout",
     "output_type": "stream",
     "text": [
      "0.144047205831\n"
     ]
    }
   ],
   "source": [
    "# We can now compare the \"\"predicted labels\" for the Testing Set with its \"actual labels\" to evaluate the accuracy\n",
    "#Using Decision Tree\n",
    "score_knn_2 = accuracy_score(y_test_2, y_predict_knn_2)\n",
    "\n",
    "print(score_knn_2)"
   ]
  },
  {
   "cell_type": "code",
   "execution_count": 37,
   "metadata": {
    "collapsed": true
   },
   "outputs": [],
   "source": [
    "#Using Random Forest Classifier\n",
    "my_RandomForest_2 = RandomForestClassifier(n_estimators = 19, bootstrap = True, random_state=2)\n"
   ]
  },
  {
   "cell_type": "code",
   "execution_count": 38,
   "metadata": {},
   "outputs": [
    {
     "data": {
      "text/plain": [
       "RandomForestClassifier(bootstrap=True, class_weight=None, criterion='gini',\n",
       "            max_depth=None, max_features='auto', max_leaf_nodes=None,\n",
       "            min_impurity_decrease=0.0, min_impurity_split=None,\n",
       "            min_samples_leaf=1, min_samples_split=2,\n",
       "            min_weight_fraction_leaf=0.0, n_estimators=19, n_jobs=1,\n",
       "            oob_score=False, random_state=2, verbose=0, warm_start=False)"
      ]
     },
     "execution_count": 38,
     "metadata": {},
     "output_type": "execute_result"
    }
   ],
   "source": [
    "# Training on the training set:\n",
    "my_RandomForest_2.fit(X_train_2, y_train_2)"
   ]
  },
  {
   "cell_type": "code",
   "execution_count": 39,
   "metadata": {},
   "outputs": [
    {
     "name": "stdout",
     "output_type": "stream",
     "text": [
      "Predicated Labels: \n",
      "[2000000 6656137 7500000 ..., 6200000 8200000 4700000]\n"
     ]
    }
   ],
   "source": [
    "# Testing on the testing set:\n",
    "y_predict_rf_2 = my_RandomForest_2.predict(X_test_2)\n",
    "\n",
    "print(\"Predicated Labels: \")\n",
    "print(y_predict_rf_2)"
   ]
  },
  {
   "cell_type": "code",
   "execution_count": 40,
   "metadata": {},
   "outputs": [
    {
     "name": "stdout",
     "output_type": "stream",
     "text": [
      "Accuracy using Random Forest: \n",
      "0.0801804928844\n"
     ]
    }
   ],
   "source": [
    "# We can now compare the \"predicted labels\" for the Testing Set with its \"actual labels\" to evaluate the accuracy\n",
    "#Using Random Forest\n",
    "score_rf_2 = accuracy_score(y_test_2, y_predict_rf_2)\n",
    "\n",
    "print(\"Accuracy using Random Forest: \")\n",
    "print(score_rf_2)"
   ]
  },
  {
   "cell_type": "code",
   "execution_count": 41,
   "metadata": {},
   "outputs": [
    {
     "data": {
      "text/plain": [
       "LinearRegression(copy_X=True, fit_intercept=True, n_jobs=1, normalize=False)"
      ]
     },
     "execution_count": 41,
     "metadata": {},
     "output_type": "execute_result"
    }
   ],
   "source": [
    "# In the following line, \"my_linreg\" is instantiated as an \"object\" of LinearRegression \"class\". \n",
    "\n",
    "my_linreg_2 = LinearRegression()\n",
    "\n",
    "# fitting the model to the training data:\n",
    "my_linreg_2.fit(X_train_2, y_train_2)"
   ]
  },
  {
   "cell_type": "code",
   "execution_count": 42,
   "metadata": {},
   "outputs": [
    {
     "name": "stdout",
     "output_type": "stream",
     "text": [
      "4.18163836002e-07\n",
      "[  1.26520953e-13  -4.42699211e-11   1.46844994e-10 ...,   1.11607588e-09\n",
      "   3.15655167e-07   1.00657249e-09]\n"
     ]
    }
   ],
   "source": [
    "# printing Theta0 using attribute \"intercept_\":\n",
    "print(my_linreg_2.intercept_)\n",
    "\n",
    "# printing [Theta1, Theta2, Theta3, etc..] using attribute \"coef_\":\n",
    "print(my_linreg_2.coef_)"
   ]
  },
  {
   "cell_type": "code",
   "execution_count": 43,
   "metadata": {},
   "outputs": [
    {
     "name": "stdout",
     "output_type": "stream",
     "text": [
      "[ 2000000.          6565948.00000001  6350000.         ...,\n",
      "  5249999.99999999  8800000.00000001  4800000.        ]\n"
     ]
    }
   ],
   "source": [
    "# make predictions on the testing set\n",
    "y_prediction_lr_2 = my_linreg_2.predict(X_test_2)\n",
    "\n",
    "print(y_prediction_lr_2)"
   ]
  },
  {
   "cell_type": "code",
   "execution_count": 44,
   "metadata": {},
   "outputs": [
    {
     "name": "stdout",
     "output_type": "stream",
     "text": [
      "6.86285533807e-09\n"
     ]
    }
   ],
   "source": [
    "# Calculating \"Mean Square Error\" (MSE):\n",
    "mse = metrics.mean_squared_error(y_test_2, y_prediction_lr_2)\n",
    "\n",
    "# Using numpy sqrt function to take the square root and calculate \"Root Mean Square Error\" (RMSE)\n",
    "rmse_pricedoc_Target = np.sqrt(mse)\n",
    "\n",
    "print(rmse_pricedoc_Target)"
   ]
  },
  {
   "cell_type": "code",
   "execution_count": 45,
   "metadata": {},
   "outputs": [
    {
     "name": "stdout",
     "output_type": "stream",
     "text": [
      "[ -3.65949457e-15  -5.46300276e-15  -4.00527107e-15  -2.91785404e-15\n",
      "  -5.23090527e-15  -3.73190916e-15  -6.03305759e-15  -1.39178276e-15\n",
      "  -6.12022312e-15  -4.59896539e-17]\n"
     ]
    }
   ],
   "source": [
    "# Applying 10-fold cross validation with \"linear regression\":\n",
    "\n",
    "# In the following line, \"my_linreg\" is instantiated as an \"object\" of LinearRegression \"class\". \n",
    "my_linreg_cv = LinearRegression()\n",
    "\n",
    "mse_list = cross_val_score(my_linreg_cv, X, y, cv=10, scoring='neg_mean_squared_error')\n",
    "\n",
    "print(mse_list)"
   ]
  },
  {
   "cell_type": "code",
   "execution_count": 46,
   "metadata": {},
   "outputs": [
    {
     "name": "stdout",
     "output_type": "stream",
     "text": [
      "[  6.04937565e-08   7.39121286e-08   6.32872110e-08   5.40171643e-08\n",
      "   7.23249976e-08   6.10893539e-08   7.76727596e-08   3.73066048e-08\n",
      "   7.82318549e-08   6.78156721e-09]\n"
     ]
    }
   ],
   "source": [
    "mse_list_positive = -mse_list\n",
    "\n",
    "# using numpy sqrt function to calculate rmse:\n",
    "rmse_list = np.sqrt(mse_list_positive)\n",
    "print(rmse_list)"
   ]
  },
  {
   "cell_type": "code",
   "execution_count": 47,
   "metadata": {},
   "outputs": [
    {
     "name": "stdout",
     "output_type": "stream",
     "text": [
      "5.85117398415e-08\n"
     ]
    }
   ],
   "source": [
    "# calculate the average RMSE as final result of cross validation:\n",
    "print(rmse_list.mean())"
   ]
  },
  {
   "cell_type": "code",
   "execution_count": 48,
   "metadata": {
    "collapsed": true
   },
   "outputs": [],
   "source": [
    "#Using Logistic Regression with no PCA:\n",
    "# my_logreg_2 = LogisticRegression()"
   ]
  },
  {
   "cell_type": "code",
   "execution_count": 49,
   "metadata": {
    "collapsed": true
   },
   "outputs": [],
   "source": [
    "# my_logreg_2.fit(X_train_2,y_train_2)"
   ]
  },
  {
   "cell_type": "markdown",
   "metadata": {},
   "source": [
    "# Here I normalize our data"
   ]
  },
  {
   "cell_type": "code",
   "execution_count": 50,
   "metadata": {},
   "outputs": [
    {
     "data": {
      "text/html": [
       "<div>\n",
       "<style>\n",
       "    .dataframe thead tr:only-child th {\n",
       "        text-align: right;\n",
       "    }\n",
       "\n",
       "    .dataframe thead th {\n",
       "        text-align: left;\n",
       "    }\n",
       "\n",
       "    .dataframe tbody tr th {\n",
       "        vertical-align: top;\n",
       "    }\n",
       "</style>\n",
       "<table border=\"1\" class=\"dataframe\">\n",
       "  <thead>\n",
       "    <tr style=\"text-align: right;\">\n",
       "      <th></th>\n",
       "      <th>0</th>\n",
       "      <th>1</th>\n",
       "      <th>2</th>\n",
       "      <th>3</th>\n",
       "      <th>4</th>\n",
       "      <th>5</th>\n",
       "      <th>6</th>\n",
       "      <th>7</th>\n",
       "      <th>8</th>\n",
       "      <th>9</th>\n",
       "      <th>...</th>\n",
       "      <th>1492</th>\n",
       "      <th>1493</th>\n",
       "      <th>1494</th>\n",
       "      <th>1495</th>\n",
       "      <th>1496</th>\n",
       "      <th>1497</th>\n",
       "      <th>1498</th>\n",
       "      <th>1499</th>\n",
       "      <th>1500</th>\n",
       "      <th>1501</th>\n",
       "    </tr>\n",
       "  </thead>\n",
       "  <tbody>\n",
       "    <tr>\n",
       "      <th>0</th>\n",
       "      <td>-1.657472</td>\n",
       "      <td>-0.323752</td>\n",
       "      <td>-0.702352</td>\n",
       "      <td>-0.742341</td>\n",
       "      <td>0.010632</td>\n",
       "      <td>0.326638</td>\n",
       "      <td>1.322953</td>\n",
       "      <td>-0.575805</td>\n",
       "      <td>0.419688</td>\n",
       "      <td>0.385748</td>\n",
       "      <td>...</td>\n",
       "      <td>0.216797</td>\n",
       "      <td>-0.216797</td>\n",
       "      <td>0.206318</td>\n",
       "      <td>-0.206318</td>\n",
       "      <td>0.164179</td>\n",
       "      <td>-0.164179</td>\n",
       "      <td>2.060691</td>\n",
       "      <td>-0.484619</td>\n",
       "      <td>-0.085081</td>\n",
       "      <td>-0.835877</td>\n",
       "    </tr>\n",
       "    <tr>\n",
       "      <th>1</th>\n",
       "      <td>-1.657360</td>\n",
       "      <td>-0.171037</td>\n",
       "      <td>-0.197770</td>\n",
       "      <td>-0.941961</td>\n",
       "      <td>-0.698582</td>\n",
       "      <td>-0.040191</td>\n",
       "      <td>-0.358341</td>\n",
       "      <td>-0.000651</td>\n",
       "      <td>-0.016891</td>\n",
       "      <td>-0.810969</td>\n",
       "      <td>...</td>\n",
       "      <td>0.216797</td>\n",
       "      <td>-0.216797</td>\n",
       "      <td>0.206318</td>\n",
       "      <td>-0.206318</td>\n",
       "      <td>0.164179</td>\n",
       "      <td>-0.164179</td>\n",
       "      <td>-0.485274</td>\n",
       "      <td>-0.484619</td>\n",
       "      <td>-0.085081</td>\n",
       "      <td>1.196348</td>\n",
       "    </tr>\n",
       "    <tr>\n",
       "      <th>2</th>\n",
       "      <td>-1.657136</td>\n",
       "      <td>0.405886</td>\n",
       "      <td>2.224224</td>\n",
       "      <td>-0.542722</td>\n",
       "      <td>-0.166020</td>\n",
       "      <td>0.133571</td>\n",
       "      <td>-0.987597</td>\n",
       "      <td>-0.678655</td>\n",
       "      <td>-0.092344</td>\n",
       "      <td>0.473189</td>\n",
       "      <td>...</td>\n",
       "      <td>0.216797</td>\n",
       "      <td>-0.216797</td>\n",
       "      <td>0.206318</td>\n",
       "      <td>-0.206318</td>\n",
       "      <td>-6.090912</td>\n",
       "      <td>6.090912</td>\n",
       "      <td>2.060691</td>\n",
       "      <td>-0.484619</td>\n",
       "      <td>-0.085081</td>\n",
       "      <td>-0.835877</td>\n",
       "    </tr>\n",
       "    <tr>\n",
       "      <th>3</th>\n",
       "      <td>-1.656912</td>\n",
       "      <td>-0.476467</td>\n",
       "      <td>-0.954644</td>\n",
       "      <td>0.654996</td>\n",
       "      <td>0.119087</td>\n",
       "      <td>-1.231310</td>\n",
       "      <td>2.298183</td>\n",
       "      <td>-0.636994</td>\n",
       "      <td>-1.508500</td>\n",
       "      <td>-1.193977</td>\n",
       "      <td>...</td>\n",
       "      <td>0.216797</td>\n",
       "      <td>-0.216797</td>\n",
       "      <td>0.206318</td>\n",
       "      <td>-0.206318</td>\n",
       "      <td>0.164179</td>\n",
       "      <td>-0.164179</td>\n",
       "      <td>-0.485274</td>\n",
       "      <td>-0.484619</td>\n",
       "      <td>-0.085081</td>\n",
       "      <td>1.196348</td>\n",
       "    </tr>\n",
       "    <tr>\n",
       "      <th>4</th>\n",
       "      <td>-1.656799</td>\n",
       "      <td>-0.154069</td>\n",
       "      <td>0.559103</td>\n",
       "      <td>-0.343102</td>\n",
       "      <td>-0.461344</td>\n",
       "      <td>1.407982</td>\n",
       "      <td>0.140582</td>\n",
       "      <td>-0.989576</td>\n",
       "      <td>1.595528</td>\n",
       "      <td>1.745786</td>\n",
       "      <td>...</td>\n",
       "      <td>0.216797</td>\n",
       "      <td>-0.216797</td>\n",
       "      <td>0.206318</td>\n",
       "      <td>-0.206318</td>\n",
       "      <td>0.164179</td>\n",
       "      <td>-0.164179</td>\n",
       "      <td>-0.485274</td>\n",
       "      <td>2.063478</td>\n",
       "      <td>-0.085081</td>\n",
       "      <td>-0.835877</td>\n",
       "    </tr>\n",
       "  </tbody>\n",
       "</table>\n",
       "<p>5 rows × 1502 columns</p>\n",
       "</div>"
      ],
      "text/plain": [
       "       0         1         2         3         4         5         6     \\\n",
       "0 -1.657472 -0.323752 -0.702352 -0.742341  0.010632  0.326638  1.322953   \n",
       "1 -1.657360 -0.171037 -0.197770 -0.941961 -0.698582 -0.040191 -0.358341   \n",
       "2 -1.657136  0.405886  2.224224 -0.542722 -0.166020  0.133571 -0.987597   \n",
       "3 -1.656912 -0.476467 -0.954644  0.654996  0.119087 -1.231310  2.298183   \n",
       "4 -1.656799 -0.154069  0.559103 -0.343102 -0.461344  1.407982  0.140582   \n",
       "\n",
       "       7         8         9       ...         1492      1493      1494  \\\n",
       "0 -0.575805  0.419688  0.385748    ...     0.216797 -0.216797  0.206318   \n",
       "1 -0.000651 -0.016891 -0.810969    ...     0.216797 -0.216797  0.206318   \n",
       "2 -0.678655 -0.092344  0.473189    ...     0.216797 -0.216797  0.206318   \n",
       "3 -0.636994 -1.508500 -1.193977    ...     0.216797 -0.216797  0.206318   \n",
       "4 -0.989576  1.595528  1.745786    ...     0.216797 -0.216797  0.206318   \n",
       "\n",
       "       1495      1496      1497      1498      1499      1500      1501  \n",
       "0 -0.206318  0.164179 -0.164179  2.060691 -0.484619 -0.085081 -0.835877  \n",
       "1 -0.206318  0.164179 -0.164179 -0.485274 -0.484619 -0.085081  1.196348  \n",
       "2 -0.206318 -6.090912  6.090912  2.060691 -0.484619 -0.085081 -0.835877  \n",
       "3 -0.206318  0.164179 -0.164179 -0.485274 -0.484619 -0.085081  1.196348  \n",
       "4 -0.206318  0.164179 -0.164179 -0.485274  2.063478 -0.085081 -0.835877  \n",
       "\n",
       "[5 rows x 1502 columns]"
      ]
     },
     "execution_count": 50,
     "metadata": {},
     "output_type": "execute_result"
    }
   ],
   "source": [
    "#Normalize my new features: \n",
    "\n",
    "features = list(dummies)\n",
    "#Right here we exclude the target column to normalize the features\n",
    "allFeaturesExcept_Target = dummies[features[:-1]]\n",
    "normalized_X = preprocessing.scale(allFeaturesExcept_Target)\n",
    "normalized_X_df = pd.DataFrame(normalized_X)\n",
    "\n",
    "\n",
    "normalized_X_df.head()"
   ]
  },
  {
   "cell_type": "code",
   "execution_count": 51,
   "metadata": {
    "collapsed": true
   },
   "outputs": [],
   "source": [
    "#Here I make my new Feature X that was normalized\n",
    "X_normalized = normalized_X_df\n",
    "y = dummies['price_doc']\n",
    "\n",
    "# X.shape\n",
    "# y.shape\n"
   ]
  },
  {
   "cell_type": "markdown",
   "metadata": {},
   "source": [
    "# Using PCA with our normalized data:"
   ]
  },
  {
   "cell_type": "code",
   "execution_count": 52,
   "metadata": {},
   "outputs": [
    {
     "data": {
      "text/plain": [
       "array([[ -3.21741371e+00,   1.36479429e+00,  -9.86968241e-01, ...,\n",
       "          2.94741340e+00,   6.43906546e-02,   4.21182255e+00],\n",
       "       [ -4.50223502e+00,  -1.57776894e+00,  -1.58944397e+00, ...,\n",
       "         -9.79939301e-01,   3.57193457e+00,   2.42419860e+00],\n",
       "       [  2.17678552e+01,   2.69279586e+00,  -3.54973597e+00, ...,\n",
       "          1.60845913e+00,  -4.87857912e+00,   5.43668350e-01],\n",
       "       ..., \n",
       "       [  2.19512950e+01,   3.09351667e-01,  -2.56983063e+00, ...,\n",
       "          1.32769206e-02,  -3.67759557e+00,  -2.50867698e+00],\n",
       "       [ -2.58081445e+00,  -1.57618178e+00,   4.27081897e+00, ...,\n",
       "          1.87046269e+00,  -3.95658105e-01,  -1.50253753e-01],\n",
       "       [ -4.18174352e+00,  -3.28884684e-01,   1.25642916e+00, ...,\n",
       "         -2.28713838e+00,  -9.15519788e-01,   2.20915121e-01]])"
      ]
     },
     "execution_count": 52,
     "metadata": {},
     "output_type": "execute_result"
    }
   ],
   "source": [
    "#Used the PCA Algorithm \n",
    "n = 10\n",
    "\n",
    "my_pca_2 = PCA(n_components = n)\n",
    "\n",
    "X_PCA_2 = my_pca.fit_transform(X_normalized)\n",
    "\n",
    "X_PCA_2"
   ]
  },
  {
   "cell_type": "code",
   "execution_count": 53,
   "metadata": {},
   "outputs": [
    {
     "data": {
      "text/html": [
       "<div>\n",
       "<style>\n",
       "    .dataframe thead tr:only-child th {\n",
       "        text-align: right;\n",
       "    }\n",
       "\n",
       "    .dataframe thead th {\n",
       "        text-align: left;\n",
       "    }\n",
       "\n",
       "    .dataframe tbody tr th {\n",
       "        vertical-align: top;\n",
       "    }\n",
       "</style>\n",
       "<table border=\"1\" class=\"dataframe\">\n",
       "  <thead>\n",
       "    <tr style=\"text-align: right;\">\n",
       "      <th></th>\n",
       "      <th>0</th>\n",
       "      <th>1</th>\n",
       "      <th>2</th>\n",
       "      <th>3</th>\n",
       "      <th>4</th>\n",
       "      <th>5</th>\n",
       "      <th>6</th>\n",
       "      <th>7</th>\n",
       "      <th>8</th>\n",
       "      <th>9</th>\n",
       "    </tr>\n",
       "  </thead>\n",
       "  <tbody>\n",
       "    <tr>\n",
       "      <th>0</th>\n",
       "      <td>-3.217414</td>\n",
       "      <td>1.364794</td>\n",
       "      <td>-0.986968</td>\n",
       "      <td>-2.858630</td>\n",
       "      <td>-0.907392</td>\n",
       "      <td>-1.676064</td>\n",
       "      <td>1.103348</td>\n",
       "      <td>2.947413</td>\n",
       "      <td>0.064391</td>\n",
       "      <td>4.211823</td>\n",
       "    </tr>\n",
       "    <tr>\n",
       "      <th>1</th>\n",
       "      <td>-4.502235</td>\n",
       "      <td>-1.577769</td>\n",
       "      <td>-1.589444</td>\n",
       "      <td>-4.473667</td>\n",
       "      <td>2.903258</td>\n",
       "      <td>1.860197</td>\n",
       "      <td>0.581884</td>\n",
       "      <td>-0.979939</td>\n",
       "      <td>3.571935</td>\n",
       "      <td>2.424199</td>\n",
       "    </tr>\n",
       "    <tr>\n",
       "      <th>2</th>\n",
       "      <td>21.767855</td>\n",
       "      <td>2.692796</td>\n",
       "      <td>-3.549736</td>\n",
       "      <td>-0.896517</td>\n",
       "      <td>5.498181</td>\n",
       "      <td>1.379430</td>\n",
       "      <td>-1.020029</td>\n",
       "      <td>1.608459</td>\n",
       "      <td>-4.878579</td>\n",
       "      <td>0.543668</td>\n",
       "    </tr>\n",
       "    <tr>\n",
       "      <th>3</th>\n",
       "      <td>2.331177</td>\n",
       "      <td>-6.925950</td>\n",
       "      <td>0.263352</td>\n",
       "      <td>-2.230725</td>\n",
       "      <td>0.758387</td>\n",
       "      <td>0.342094</td>\n",
       "      <td>-1.672633</td>\n",
       "      <td>-0.685459</td>\n",
       "      <td>-1.973569</td>\n",
       "      <td>-2.269991</td>\n",
       "    </tr>\n",
       "    <tr>\n",
       "      <th>4</th>\n",
       "      <td>-6.022900</td>\n",
       "      <td>7.436698</td>\n",
       "      <td>2.797579</td>\n",
       "      <td>-1.329654</td>\n",
       "      <td>-0.911072</td>\n",
       "      <td>-6.444038</td>\n",
       "      <td>2.441431</td>\n",
       "      <td>3.840436</td>\n",
       "      <td>-3.338601</td>\n",
       "      <td>-1.772133</td>\n",
       "    </tr>\n",
       "    <tr>\n",
       "      <th>5</th>\n",
       "      <td>-3.621448</td>\n",
       "      <td>-1.236978</td>\n",
       "      <td>-0.714456</td>\n",
       "      <td>-3.174915</td>\n",
       "      <td>3.102664</td>\n",
       "      <td>-1.036511</td>\n",
       "      <td>1.075264</td>\n",
       "      <td>-1.840510</td>\n",
       "      <td>0.602405</td>\n",
       "      <td>-3.140521</td>\n",
       "    </tr>\n",
       "    <tr>\n",
       "      <th>6</th>\n",
       "      <td>-4.065283</td>\n",
       "      <td>7.400009</td>\n",
       "      <td>-4.024716</td>\n",
       "      <td>7.055157</td>\n",
       "      <td>0.355993</td>\n",
       "      <td>-2.410619</td>\n",
       "      <td>-4.290774</td>\n",
       "      <td>-2.636797</td>\n",
       "      <td>-1.578071</td>\n",
       "      <td>0.745627</td>\n",
       "    </tr>\n",
       "    <tr>\n",
       "      <th>7</th>\n",
       "      <td>-4.918305</td>\n",
       "      <td>7.050293</td>\n",
       "      <td>-3.002223</td>\n",
       "      <td>7.221454</td>\n",
       "      <td>5.108428</td>\n",
       "      <td>-4.644548</td>\n",
       "      <td>-1.601944</td>\n",
       "      <td>-1.278383</td>\n",
       "      <td>-1.687463</td>\n",
       "      <td>1.815082</td>\n",
       "    </tr>\n",
       "    <tr>\n",
       "      <th>8</th>\n",
       "      <td>10.775547</td>\n",
       "      <td>2.280106</td>\n",
       "      <td>-9.471694</td>\n",
       "      <td>7.083355</td>\n",
       "      <td>1.942671</td>\n",
       "      <td>-0.386909</td>\n",
       "      <td>-3.381939</td>\n",
       "      <td>3.282305</td>\n",
       "      <td>-1.782384</td>\n",
       "      <td>-1.087440</td>\n",
       "    </tr>\n",
       "    <tr>\n",
       "      <th>9</th>\n",
       "      <td>1.478477</td>\n",
       "      <td>-3.986112</td>\n",
       "      <td>-4.678366</td>\n",
       "      <td>-3.918444</td>\n",
       "      <td>6.160762</td>\n",
       "      <td>0.230871</td>\n",
       "      <td>1.266749</td>\n",
       "      <td>0.209357</td>\n",
       "      <td>0.717664</td>\n",
       "      <td>1.365378</td>\n",
       "    </tr>\n",
       "  </tbody>\n",
       "</table>\n",
       "</div>"
      ],
      "text/plain": [
       "           0         1         2         3         4         5         6  \\\n",
       "0  -3.217414  1.364794 -0.986968 -2.858630 -0.907392 -1.676064  1.103348   \n",
       "1  -4.502235 -1.577769 -1.589444 -4.473667  2.903258  1.860197  0.581884   \n",
       "2  21.767855  2.692796 -3.549736 -0.896517  5.498181  1.379430 -1.020029   \n",
       "3   2.331177 -6.925950  0.263352 -2.230725  0.758387  0.342094 -1.672633   \n",
       "4  -6.022900  7.436698  2.797579 -1.329654 -0.911072 -6.444038  2.441431   \n",
       "5  -3.621448 -1.236978 -0.714456 -3.174915  3.102664 -1.036511  1.075264   \n",
       "6  -4.065283  7.400009 -4.024716  7.055157  0.355993 -2.410619 -4.290774   \n",
       "7  -4.918305  7.050293 -3.002223  7.221454  5.108428 -4.644548 -1.601944   \n",
       "8  10.775547  2.280106 -9.471694  7.083355  1.942671 -0.386909 -3.381939   \n",
       "9   1.478477 -3.986112 -4.678366 -3.918444  6.160762  0.230871  1.266749   \n",
       "\n",
       "          7         8         9  \n",
       "0  2.947413  0.064391  4.211823  \n",
       "1 -0.979939  3.571935  2.424199  \n",
       "2  1.608459 -4.878579  0.543668  \n",
       "3 -0.685459 -1.973569 -2.269991  \n",
       "4  3.840436 -3.338601 -1.772133  \n",
       "5 -1.840510  0.602405 -3.140521  \n",
       "6 -2.636797 -1.578071  0.745627  \n",
       "7 -1.278383 -1.687463  1.815082  \n",
       "8  3.282305 -1.782384 -1.087440  \n",
       "9  0.209357  0.717664  1.365378  "
      ]
     },
     "execution_count": 53,
     "metadata": {},
     "output_type": "execute_result"
    }
   ],
   "source": [
    "#Stored my result from PCA into a new DataFrame\n",
    "getPCAarray_X = pd.DataFrame(X_PCA_2)\n",
    "\n",
    "getPCAarray_X.head(10)\n",
    "# getPCAarray_X.shape"
   ]
  },
  {
   "cell_type": "code",
   "execution_count": 54,
   "metadata": {
    "collapsed": true
   },
   "outputs": [],
   "source": [
    "#Here we store the new DataFrame into a new variable\n",
    "X_3 = getPCAarray_X"
   ]
  },
  {
   "cell_type": "code",
   "execution_count": 55,
   "metadata": {},
   "outputs": [
    {
     "name": "stdout",
     "output_type": "stream",
     "text": [
      "(6720, 10)\n",
      "(6720,)\n",
      "(2881, 10)\n",
      "(2881,)\n"
     ]
    }
   ],
   "source": [
    "#Split our dataset: Testing = 30% and Training = 70%\n",
    "X_train_N_3, X_test_N_3, y_train_N_3, y_test_N_3 = train_test_split(X_3, y, test_size=0.3, random_state=2)\n",
    "\n",
    "# print the size of the traning set:\n",
    "print(X_train_N_3.shape)\n",
    "print(y_train_N_3.shape)\n",
    "\n",
    "# print the size of the testing set:\n",
    "print(X_test_N_3.shape)\n",
    "print(y_test_N_3.shape)"
   ]
  },
  {
   "cell_type": "code",
   "execution_count": 56,
   "metadata": {},
   "outputs": [
    {
     "data": {
      "text/plain": [
       "LinearRegression(copy_X=True, fit_intercept=True, n_jobs=1, normalize=False)"
      ]
     },
     "execution_count": 56,
     "metadata": {},
     "output_type": "execute_result"
    }
   ],
   "source": [
    "# In the following line, \"my_linreg\" is instantiated as an \"object\" of LinearRegression \"class\". \n",
    "\n",
    "my_linreg_N = LinearRegression()\n",
    "\n",
    "# fitting the model to the training data:\n",
    "my_linreg_N.fit(X_train_N_3, y_train_N_3)"
   ]
  },
  {
   "cell_type": "code",
   "execution_count": 57,
   "metadata": {},
   "outputs": [
    {
     "name": "stdout",
     "output_type": "stream",
     "text": [
      "8287590.90344\n",
      "[ 114648.95568021  -47360.24859311 -143441.11022245  160736.18895064\n",
      " -309692.36195848  193597.05253722 -339251.01172814  205610.26337122\n",
      " -290882.72488361  -87839.22747176]\n"
     ]
    }
   ],
   "source": [
    "# printing Theta0 using attribute \"intercept_\":\n",
    "print(my_linreg_N.intercept_)\n",
    "\n",
    "# printing [Theta1, Theta2, Theta3, etc..] using attribute \"coef_\":\n",
    "print(my_linreg_N.coef_)"
   ]
  },
  {
   "cell_type": "code",
   "execution_count": 58,
   "metadata": {},
   "outputs": [
    {
     "name": "stdout",
     "output_type": "stream",
     "text": [
      "[ 2000027.3379161   6565816.35714317  6349952.13836682 ...,\n",
      "  5249988.16468759  8799996.88853882  4800034.02487139]\n"
     ]
    }
   ],
   "source": [
    "# make predictions on the testing set\n",
    "y_prediction_N_3 = my_linreg.predict(X_test_N_3)\n",
    "\n",
    "print(y_prediction)"
   ]
  },
  {
   "cell_type": "code",
   "execution_count": 59,
   "metadata": {},
   "outputs": [
    {
     "name": "stdout",
     "output_type": "stream",
     "text": [
      "6069998.47583\n"
     ]
    }
   ],
   "source": [
    "# Calculating \"Mean Square Error\" (MSE):\n",
    "mse = metrics.mean_squared_error(y_test_N_3, y_prediction_N_3)\n",
    "\n",
    "# Using numpy sqrt function to take the square root and calculate \"Root Mean Square Error\" (RMSE)\n",
    "rmse_pricedoc_Target = np.sqrt(mse)\n",
    "\n",
    "print(rmse_pricedoc_Target)"
   ]
  },
  {
   "cell_type": "code",
   "execution_count": 60,
   "metadata": {
    "collapsed": true
   },
   "outputs": [],
   "source": [
    "#Now we use Decision Tree on our splitting data\n",
    "\n",
    "#I instantiate my decision tree classifier and assign it to a variable:\n",
    "my_DecisionTree_3 = DecisionTreeClassifier(random_state=2)"
   ]
  },
  {
   "cell_type": "code",
   "execution_count": 61,
   "metadata": {},
   "outputs": [
    {
     "data": {
      "text/plain": [
       "DecisionTreeClassifier(class_weight=None, criterion='gini', max_depth=None,\n",
       "            max_features=None, max_leaf_nodes=None,\n",
       "            min_impurity_decrease=0.0, min_impurity_split=None,\n",
       "            min_samples_leaf=1, min_samples_split=2,\n",
       "            min_weight_fraction_leaf=0.0, presort=False, random_state=2,\n",
       "            splitter='best')"
      ]
     },
     "execution_count": 61,
     "metadata": {},
     "output_type": "execute_result"
    }
   ],
   "source": [
    "my_DecisionTree_3.fit(X_train_N_3, y_train_N_3)"
   ]
  },
  {
   "cell_type": "code",
   "execution_count": 62,
   "metadata": {},
   "outputs": [
    {
     "name": "stdout",
     "output_type": "stream",
     "text": [
      "Predicated Labels: \n",
      "[4800000 3890818 6200000 ..., 6280000 1000000 3000000]\n"
     ]
    }
   ],
   "source": [
    "# Testing on the testing set:\n",
    "y_predict_dt_3 = my_DecisionTree_3.predict(X_test_N_3)\n",
    "\n",
    "print(\"Predicated Labels: \")\n",
    "print(y_predict_dt_3)"
   ]
  },
  {
   "cell_type": "code",
   "execution_count": 63,
   "metadata": {},
   "outputs": [
    {
     "name": "stdout",
     "output_type": "stream",
     "text": [
      "0.0156195765359\n"
     ]
    }
   ],
   "source": [
    "# We can now compare the \"\"predicted labels\" for the Testing Set with its \"actual labels\" to evaluate the accuracy\n",
    "#Using Decision Tree\n",
    "score_dt_3 = accuracy_score(y_test_N_3, y_predict_dt_3)\n",
    "\n",
    "print(score_dt_3)"
   ]
  },
  {
   "cell_type": "code",
   "execution_count": 64,
   "metadata": {
    "collapsed": true
   },
   "outputs": [],
   "source": [
    "#Instantiate KNN\n",
    "my_knn_3 = KNeighborsClassifier(n_neighbors=20)"
   ]
  },
  {
   "cell_type": "code",
   "execution_count": 65,
   "metadata": {},
   "outputs": [
    {
     "data": {
      "text/plain": [
       "KNeighborsClassifier(algorithm='auto', leaf_size=30, metric='minkowski',\n",
       "           metric_params=None, n_jobs=1, n_neighbors=20, p=2,\n",
       "           weights='uniform')"
      ]
     },
     "execution_count": 65,
     "metadata": {},
     "output_type": "execute_result"
    }
   ],
   "source": [
    "#Fit our Knn with our Training Data: \n",
    "my_knn_3.fit(X_train_N_3, y_train_N_3)"
   ]
  },
  {
   "cell_type": "code",
   "execution_count": 66,
   "metadata": {},
   "outputs": [
    {
     "name": "stdout",
     "output_type": "stream",
     "text": [
      "Predicated Labels: \n",
      "[8500000 3202908 2000000 ..., 2000000 1000000 5500000]\n"
     ]
    }
   ],
   "source": [
    "# Testing on the testing set:\n",
    "y_predict_knn_3 = my_knn_3.predict(X_test_N_3)\n",
    "\n",
    "print(\"Predicated Labels: \")\n",
    "print(y_predict_knn_3)"
   ]
  },
  {
   "cell_type": "code",
   "execution_count": 67,
   "metadata": {},
   "outputs": [
    {
     "name": "stdout",
     "output_type": "stream",
     "text": [
      "0.0274210343631\n"
     ]
    }
   ],
   "source": [
    "# We can now compare the \"\"predicted labels\" for the Testing Set with its \"actual labels\" to evaluate the accuracy\n",
    "#Using Decision Tree\n",
    "score_knn_3 = accuracy_score(y_test_N_3, y_predict_knn_3)\n",
    "\n",
    "print(score_knn_3)"
   ]
  },
  {
   "cell_type": "code",
   "execution_count": 68,
   "metadata": {
    "collapsed": true
   },
   "outputs": [],
   "source": [
    "#Using Random Forest Classifier\n",
    "my_RandomForest_N = RandomForestClassifier(n_estimators = 19, bootstrap = True, random_state=2)"
   ]
  },
  {
   "cell_type": "code",
   "execution_count": 69,
   "metadata": {},
   "outputs": [
    {
     "data": {
      "text/plain": [
       "RandomForestClassifier(bootstrap=True, class_weight=None, criterion='gini',\n",
       "            max_depth=None, max_features='auto', max_leaf_nodes=None,\n",
       "            min_impurity_decrease=0.0, min_impurity_split=None,\n",
       "            min_samples_leaf=1, min_samples_split=2,\n",
       "            min_weight_fraction_leaf=0.0, n_estimators=19, n_jobs=1,\n",
       "            oob_score=False, random_state=2, verbose=0, warm_start=False)"
      ]
     },
     "execution_count": 69,
     "metadata": {},
     "output_type": "execute_result"
    }
   ],
   "source": [
    "# Training on the training set:\n",
    "my_RandomForest_N.fit(X_train_N_3, y_train_N_3)"
   ]
  },
  {
   "cell_type": "code",
   "execution_count": 70,
   "metadata": {},
   "outputs": [
    {
     "name": "stdout",
     "output_type": "stream",
     "text": [
      "Predicated Labels: \n",
      "[ 4800000 11123494  7700000 ...,  6280000 11900000  4700000]\n"
     ]
    }
   ],
   "source": [
    "# Testing on the testing set:\n",
    "y_predict_rf_3 = my_RandomForest_N.predict(X_test_N_3)\n",
    "\n",
    "print(\"Predicated Labels: \")\n",
    "print(y_predict_rf_3)"
   ]
  },
  {
   "cell_type": "code",
   "execution_count": 71,
   "metadata": {},
   "outputs": [
    {
     "name": "stdout",
     "output_type": "stream",
     "text": [
      "Accuracy using Random Forest: \n",
      "0.0246442207567\n"
     ]
    }
   ],
   "source": [
    "# We can now compare the \"predicted labels\" for the Testing Set with its \"actual labels\" to evaluate the accuracy\n",
    "#Using Random Forest\n",
    "score_rf_3 = accuracy_score(y_test_N_3, y_predict_rf_3)\n",
    "\n",
    "print(\"Accuracy using Random Forest: \")\n",
    "print(score_rf_3)"
   ]
  },
  {
   "cell_type": "code",
   "execution_count": 72,
   "metadata": {},
   "outputs": [
    {
     "name": "stdout",
     "output_type": "stream",
     "text": [
      "[ -2.41280634e+13  -2.85583019e+13  -3.18425252e+13  -2.91136670e+13\n",
      "  -2.53907860e+13  -3.43383409e+13  -3.56834796e+13  -3.30059489e+13\n",
      "  -3.59432472e+13  -4.48219482e+13]\n"
     ]
    }
   ],
   "source": [
    "# Applying 10-fold cross validation with \"linear regression\":\n",
    "\n",
    "# In the following line, \"my_linreg\" is instantiated as an \"object\" of LinearRegression \"class\". \n",
    "my_linreg_cv = LinearRegression()\n",
    "\n",
    "mse_list = cross_val_score(my_linreg_cv, X_3, y, cv=10, scoring='neg_mean_squared_error')\n",
    "\n",
    "print(mse_list)"
   ]
  },
  {
   "cell_type": "code",
   "execution_count": 73,
   "metadata": {},
   "outputs": [
    {
     "name": "stdout",
     "output_type": "stream",
     "text": [
      "[ 4912032.51123636  5343996.81359952  5642918.14147977  5395708.20115951\n",
      "  5038927.06621807  5859892.57097009  5973565.06907283  5745080.40921527\n",
      "  5995268.73758687  6694919.58348763]\n"
     ]
    }
   ],
   "source": [
    "mse_list_positive = -mse_list\n",
    "\n",
    "# using numpy sqrt function to calculate rmse:\n",
    "rmse_list = np.sqrt(mse_list_positive)\n",
    "print(rmse_list)"
   ]
  },
  {
   "cell_type": "code",
   "execution_count": 74,
   "metadata": {},
   "outputs": [
    {
     "name": "stdout",
     "output_type": "stream",
     "text": [
      "5660230.9104\n"
     ]
    }
   ],
   "source": [
    "# calculate the average RMSE as final result of cross validation:\n",
    "print(rmse_list.mean())"
   ]
  },
  {
   "cell_type": "code",
   "execution_count": 75,
   "metadata": {},
   "outputs": [
    {
     "name": "stderr",
     "output_type": "stream",
     "text": [
      "/anaconda3/lib/python3.6/site-packages/sklearn/cross_validation.py:553: Warning: The least populated class in y has only 1 members, which is too few. The minimum number of labels for any class cannot be less than n_folds=10.\n",
      "  % (min_labels, self.n_folds)), Warning)\n"
     ]
    },
    {
     "name": "stdout",
     "output_type": "stream",
     "text": [
      "[ -1.50374212e+14  -8.95596550e+13  -6.90792974e+13  -5.71028481e+13\n",
      "  -5.39763492e+13  -4.97071012e+13  -4.41481577e+13  -4.12410150e+13\n",
      "  -4.04808813e+13  -3.90960675e+13]\n"
     ]
    }
   ],
   "source": [
    "# Applying 10-fold cross validation with \"Logistic Regression\":\n",
    "\n",
    "# In the following line, \"my_logreg\" is instantiated as an \"object\" of LogisticRegression \"class\". \n",
    "my_logreg_N_2 = LogisticRegression()\n",
    "\n",
    "mse_list = cross_val_score(my_logreg_N_2, X_3, y, cv=10, scoring='neg_mean_squared_error')\n",
    "\n",
    "print(mse_list)"
   ]
  },
  {
   "cell_type": "code",
   "execution_count": 76,
   "metadata": {},
   "outputs": [
    {
     "name": "stdout",
     "output_type": "stream",
     "text": [
      "[ 12262716.32857096   9463596.30232123   8311395.63445075\n",
      "   7556642.64657928   7346859.82070061   7050326.31799886\n",
      "   6644408.00249031   6421916.76877351   6362458.74443582\n",
      "   6252684.82452104]\n"
     ]
    }
   ],
   "source": [
    "mse_list_positive = -mse_list\n",
    "\n",
    "# using numpy sqrt function to calculate rmse:\n",
    "rmse_list = np.sqrt(mse_list_positive)\n",
    "print(rmse_list)"
   ]
  },
  {
   "cell_type": "code",
   "execution_count": 77,
   "metadata": {},
   "outputs": [
    {
     "name": "stdout",
     "output_type": "stream",
     "text": [
      "7767300.53908\n"
     ]
    }
   ],
   "source": [
    "# calculate the average RMSE as final result of cross validation:\n",
    "print(rmse_list.mean())"
   ]
  },
  {
   "cell_type": "code",
   "execution_count": 78,
   "metadata": {
    "collapsed": true
   },
   "outputs": [],
   "source": [
    "#Using Logistic Regression with Normalized Data:\n",
    "my_logreg_N = LogisticRegression()"
   ]
  },
  {
   "cell_type": "code",
   "execution_count": 79,
   "metadata": {},
   "outputs": [
    {
     "data": {
      "text/plain": [
       "LogisticRegression(C=1.0, class_weight=None, dual=False, fit_intercept=True,\n",
       "          intercept_scaling=1, max_iter=100, multi_class='ovr', n_jobs=1,\n",
       "          penalty='l2', random_state=None, solver='liblinear', tol=0.0001,\n",
       "          verbose=0, warm_start=False)"
      ]
     },
     "execution_count": 79,
     "metadata": {},
     "output_type": "execute_result"
    }
   ],
   "source": [
    "my_logreg_N.fit(X_train_N_3,y_train_N_3)"
   ]
  },
  {
   "cell_type": "code",
   "execution_count": 80,
   "metadata": {},
   "outputs": [
    {
     "name": "stdout",
     "output_type": "stream",
     "text": [
      "Predicated Labels: \n",
      "[2000000 2000000 2000000 ..., 1000000 1000000 1000000]\n"
     ]
    }
   ],
   "source": [
    "# Testing on the testing set:\n",
    "y_predict_lr_N = my_logreg_N.predict(X_test_N_3)\n",
    "\n",
    "print(\"Predicated Labels: \")\n",
    "print(y_predict_lr_N)"
   ]
  },
  {
   "cell_type": "code",
   "execution_count": 81,
   "metadata": {},
   "outputs": [
    {
     "name": "stdout",
     "output_type": "stream",
     "text": [
      "Accuracy using Logistic Regression: \n",
      "0.0371398819854\n"
     ]
    }
   ],
   "source": [
    "# We can now compare the \"predicted labels\" for the Testing Set with its \"actual labels\" to evaluate the accuracy\n",
    "#Using Random Forest\n",
    "score_lr_N = accuracy_score(y_test_N_3, y_predict_lr_N)\n",
    "\n",
    "print(\"Accuracy using Logistic Regression: \")\n",
    "print(score_lr_N)"
   ]
  },
  {
   "cell_type": "markdown",
   "metadata": {},
   "source": [
    "# Using our Normalized Data without using PCA:"
   ]
  },
  {
   "cell_type": "code",
   "execution_count": 82,
   "metadata": {},
   "outputs": [
    {
     "name": "stdout",
     "output_type": "stream",
     "text": [
      "(6720, 1502)\n",
      "(6720,)\n",
      "(2881, 1502)\n",
      "(2881,)\n"
     ]
    }
   ],
   "source": [
    "#Split our dataset: Testing = 30% and Training = 70%\n",
    "X_train_N_4, X_test_N_4, y_train_N_4, y_test_N_4 = train_test_split(X_normalized, y, test_size=0.3, random_state=2)\n",
    "\n",
    "# print the size of the traning set:\n",
    "print(X_train_N_4.shape)\n",
    "print(y_train_N_4.shape)\n",
    "\n",
    "# print the size of the testing set:\n",
    "print(X_test_N_4.shape)\n",
    "print(y_test_N_4.shape)"
   ]
  },
  {
   "cell_type": "code",
   "execution_count": 83,
   "metadata": {},
   "outputs": [
    {
     "data": {
      "text/plain": [
       "LinearRegression(copy_X=True, fit_intercept=True, n_jobs=1, normalize=False)"
      ]
     },
     "execution_count": 83,
     "metadata": {},
     "output_type": "execute_result"
    }
   ],
   "source": [
    "# In the following line, \"my_linreg\" is instantiated as an \"object\" of LinearRegression \"class\". \n",
    "\n",
    "my_linreg_N_2 = LinearRegression()\n",
    "\n",
    "# fitting the model to the training data:\n",
    "my_linreg_N_2.fit(X_train_N_4, y_train_N_4)"
   ]
  },
  {
   "cell_type": "code",
   "execution_count": 84,
   "metadata": {},
   "outputs": [
    {
     "name": "stdout",
     "output_type": "stream",
     "text": [
      "8313482.13104\n",
      "[ -8.85348741e-07  -6.98491931e-10   4.00177669e-11 ...,  -1.30967237e-09\n",
      "   3.51870671e+03   6.56291377e-09]\n"
     ]
    }
   ],
   "source": [
    "# printing Theta0 using attribute \"intercept_\":\n",
    "print(my_linreg_N_2.intercept_)\n",
    "\n",
    "# printing [Theta1, Theta2, Theta3, etc..] using attribute \"coef_\":\n",
    "print(my_linreg_N_2.coef_)"
   ]
  },
  {
   "cell_type": "code",
   "execution_count": 85,
   "metadata": {},
   "outputs": [
    {
     "name": "stdout",
     "output_type": "stream",
     "text": [
      "[ 1999999.99999998  6565947.99999999  6350000.00000001 ...,\n",
      "  5250000.00000003  8799999.99999997  4800000.00000001]\n"
     ]
    }
   ],
   "source": [
    "# make predictions on the testing set\n",
    "y_prediction_N_4 = my_linreg_N_2.predict(X_test_N_4)\n",
    "\n",
    "print(y_prediction_N_4)"
   ]
  },
  {
   "cell_type": "code",
   "execution_count": 86,
   "metadata": {},
   "outputs": [
    {
     "name": "stdout",
     "output_type": "stream",
     "text": [
      "63564.1773055\n"
     ]
    }
   ],
   "source": [
    "# Calculating \"Mean Square Error\" (MSE):\n",
    "mse = metrics.mean_squared_error(y_test_N_4, y_prediction_N_4)\n",
    "\n",
    "# Using numpy sqrt function to take the square root and calculate \"Root Mean Square Error\" (RMSE)\n",
    "rmse_pricedoc_Target = np.sqrt(mse)\n",
    "\n",
    "print(rmse_pricedoc_Target)"
   ]
  },
  {
   "cell_type": "code",
   "execution_count": 87,
   "metadata": {
    "collapsed": true
   },
   "outputs": [],
   "source": [
    "#Now we use Decision Tree on our splitting data\n",
    "\n",
    "#I instantiate my decision tree classifier and assign it to a variable:\n",
    "my_DecisionTree_4 = DecisionTreeClassifier(random_state=2)"
   ]
  },
  {
   "cell_type": "code",
   "execution_count": 88,
   "metadata": {},
   "outputs": [
    {
     "data": {
      "text/plain": [
       "DecisionTreeClassifier(class_weight=None, criterion='gini', max_depth=None,\n",
       "            max_features=None, max_leaf_nodes=None,\n",
       "            min_impurity_decrease=0.0, min_impurity_split=None,\n",
       "            min_samples_leaf=1, min_samples_split=2,\n",
       "            min_weight_fraction_leaf=0.0, presort=False, random_state=2,\n",
       "            splitter='best')"
      ]
     },
     "execution_count": 88,
     "metadata": {},
     "output_type": "execute_result"
    }
   ],
   "source": [
    "my_DecisionTree_4.fit(X_train_N_4, y_train_N_4)"
   ]
  },
  {
   "cell_type": "code",
   "execution_count": 89,
   "metadata": {},
   "outputs": [
    {
     "name": "stdout",
     "output_type": "stream",
     "text": [
      "Predicated Labels: \n",
      "[2000000 6559300 6350000 ..., 5250000 8800000 4800000]\n"
     ]
    }
   ],
   "source": [
    "# Testing on the testing set:\n",
    "y_predict_dt_4 = my_DecisionTree_4.predict(X_test_N_4)\n",
    "\n",
    "print(\"Predicated Labels: \")\n",
    "print(y_predict_dt_4)"
   ]
  },
  {
   "cell_type": "code",
   "execution_count": 90,
   "metadata": {},
   "outputs": [
    {
     "name": "stdout",
     "output_type": "stream",
     "text": [
      "0.790350572718\n"
     ]
    }
   ],
   "source": [
    "# We can now compare the \"\"predicted labels\" for the Testing Set with its \"actual labels\" to evaluate the accuracy\n",
    "#Using Decision Tree\n",
    "score_dt_4 = accuracy_score(y_test_N_4, y_predict_dt_4)\n",
    "\n",
    "print(score_dt_4)"
   ]
  },
  {
   "cell_type": "code",
   "execution_count": 91,
   "metadata": {
    "collapsed": true
   },
   "outputs": [],
   "source": [
    "my_RandomForest_N_2 = RandomForestClassifier(n_estimators = 19, bootstrap = True, random_state=2)"
   ]
  },
  {
   "cell_type": "code",
   "execution_count": 92,
   "metadata": {},
   "outputs": [
    {
     "data": {
      "text/plain": [
       "RandomForestClassifier(bootstrap=True, class_weight=None, criterion='gini',\n",
       "            max_depth=None, max_features='auto', max_leaf_nodes=None,\n",
       "            min_impurity_decrease=0.0, min_impurity_split=None,\n",
       "            min_samples_leaf=1, min_samples_split=2,\n",
       "            min_weight_fraction_leaf=0.0, n_estimators=19, n_jobs=1,\n",
       "            oob_score=False, random_state=2, verbose=0, warm_start=False)"
      ]
     },
     "execution_count": 92,
     "metadata": {},
     "output_type": "execute_result"
    }
   ],
   "source": [
    "# Training on the training set:\n",
    "my_RandomForest_N_2.fit(X_train_N_4, y_train_N_4)"
   ]
  },
  {
   "cell_type": "code",
   "execution_count": 93,
   "metadata": {},
   "outputs": [
    {
     "name": "stdout",
     "output_type": "stream",
     "text": [
      "Predicated Labels: \n",
      "[2000000 6656137 7500000 ..., 6200000 8200000 4700000]\n"
     ]
    }
   ],
   "source": [
    "# Testing on the testing set:\n",
    "y_predict_rf_4 = my_RandomForest_N_2.predict(X_test_N_4)\n",
    "\n",
    "print(\"Predicated Labels: \")\n",
    "print(y_predict_rf_4)"
   ]
  },
  {
   "cell_type": "code",
   "execution_count": 94,
   "metadata": {},
   "outputs": [
    {
     "name": "stdout",
     "output_type": "stream",
     "text": [
      "Accuracy using Random Forest: \n",
      "0.0801804928844\n"
     ]
    }
   ],
   "source": [
    "# We can now compare the \"predicted labels\" for the Testing Set with its \"actual labels\" to evaluate the accuracy\n",
    "#Using Random Forest\n",
    "score_rf_4 = accuracy_score(y_test_N_4, y_predict_rf_4)\n",
    "\n",
    "print(\"Accuracy using Random Forest: \")\n",
    "print(score_rf_4)"
   ]
  },
  {
   "cell_type": "code",
   "execution_count": 95,
   "metadata": {
    "collapsed": true
   },
   "outputs": [],
   "source": [
    "#Instantiate KNN\n",
    "my_knn_4 = KNeighborsClassifier(n_neighbors=20)"
   ]
  },
  {
   "cell_type": "code",
   "execution_count": 96,
   "metadata": {},
   "outputs": [
    {
     "data": {
      "text/plain": [
       "KNeighborsClassifier(algorithm='auto', leaf_size=30, metric='minkowski',\n",
       "           metric_params=None, n_jobs=1, n_neighbors=20, p=2,\n",
       "           weights='uniform')"
      ]
     },
     "execution_count": 96,
     "metadata": {},
     "output_type": "execute_result"
    }
   ],
   "source": [
    "my_knn_4.fit(X_train_N_4, y_train_N_4)"
   ]
  },
  {
   "cell_type": "code",
   "execution_count": 97,
   "metadata": {},
   "outputs": [
    {
     "name": "stdout",
     "output_type": "stream",
     "text": [
      "Predicated Labels: \n",
      "[1000000 3202908 2000000 ..., 7250000 8500000 1000000]\n"
     ]
    }
   ],
   "source": [
    "# Testing on the testing set:\n",
    "y_predict_knn_4 = my_knn_4.predict(X_test_N_4)\n",
    "\n",
    "print(\"Predicated Labels: \")\n",
    "print(y_predict_knn_4)"
   ]
  },
  {
   "cell_type": "code",
   "execution_count": 98,
   "metadata": {},
   "outputs": [
    {
     "name": "stdout",
     "output_type": "stream",
     "text": [
      "0.0267268309615\n"
     ]
    }
   ],
   "source": [
    "# We can now compare the \"\"predicted labels\" for the Testing Set with its \"actual labels\" to evaluate the accuracy\n",
    "#Using Decision Tree\n",
    "score_knn_4 = accuracy_score(y_test_N_4, y_predict_knn_4)\n",
    "\n",
    "print(score_knn_4)"
   ]
  },
  {
   "cell_type": "code",
   "execution_count": 99,
   "metadata": {},
   "outputs": [
    {
     "name": "stdout",
     "output_type": "stream",
     "text": [
      "[ -2.40481539e+11  -2.89291079e+11  -1.26090814e+11  -5.76289407e+10\n",
      "  -5.25874248e+10  -9.13395556e+10  -3.67920108e+10  -7.41858242e+10\n",
      "  -1.42654808e+11  -3.31775081e+11]\n"
     ]
    }
   ],
   "source": [
    "# Applying 10-fold cross validation with \"linear regression\":\n",
    "\n",
    "# In the following line, \"my_linreg\" is instantiated as an \"object\" of LinearRegression \"class\". \n",
    "my_linreg_cv = LinearRegression()\n",
    "\n",
    "mse_list = cross_val_score(my_linreg_cv, X_normalized, y, cv=10, scoring='neg_mean_squared_error')\n",
    "\n",
    "print(mse_list)"
   ]
  },
  {
   "cell_type": "code",
   "execution_count": 100,
   "metadata": {},
   "outputs": [
    {
     "name": "stdout",
     "output_type": "stream",
     "text": [
      "[ 490389.17077001  537857.86109454  355092.68426039  240060.28546277\n",
      "  229319.48198116  302224.34655254  191812.43656264  272370.74769843\n",
      "  377696.71442344  575999.20239314]\n"
     ]
    }
   ],
   "source": [
    "mse_list_positive = -mse_list\n",
    "\n",
    "# using numpy sqrt function to calculate rmse:\n",
    "rmse_list = np.sqrt(mse_list_positive)\n",
    "print(rmse_list)"
   ]
  },
  {
   "cell_type": "code",
   "execution_count": 101,
   "metadata": {},
   "outputs": [
    {
     "name": "stdout",
     "output_type": "stream",
     "text": [
      "357282.29312\n"
     ]
    }
   ],
   "source": [
    "# calculate the average RMSE as final result of cross validation:\n",
    "print(rmse_list.mean())"
   ]
  },
  {
   "cell_type": "code",
   "execution_count": 102,
   "metadata": {
    "collapsed": true
   },
   "outputs": [],
   "source": [
    "#Using Logistic Regression with no PCA:\n",
    "# my_logreg_N_2 = LogisticRegression()"
   ]
  },
  {
   "cell_type": "code",
   "execution_count": 103,
   "metadata": {
    "collapsed": true
   },
   "outputs": [],
   "source": [
    "# my_logreg_N_2.fit(X_train_N_4,y_train_N_4)"
   ]
  }
 ],
 "metadata": {
  "kernelspec": {
   "display_name": "Python 3",
   "language": "python",
   "name": "python3"
  },
  "language_info": {
   "codemirror_mode": {
    "name": "ipython",
    "version": 3
   },
   "file_extension": ".py",
   "mimetype": "text/x-python",
   "name": "python",
   "nbconvert_exporter": "python",
   "pygments_lexer": "ipython3",
   "version": "3.6.3"
  }
 },
 "nbformat": 4,
 "nbformat_minor": 2
}
